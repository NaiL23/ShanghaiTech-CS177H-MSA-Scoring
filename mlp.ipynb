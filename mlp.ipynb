{
 "cells": [
  {
   "cell_type": "code",
   "execution_count": 81,
   "metadata": {},
   "outputs": [],
   "source": [
    "# !sinfo -O Nodehost,Gres:.30,GresUsed:.45\n",
    "# !salloc -N 1 --cpus-per-task=4 -p CS177h --gres=gpu:TeslaM4024GB:1\n",
    "# !salloc -N 1 --cpus-per-task=8 -p CS177h --gres=gpu:TeslaM4024GB:2\n",
    "# !salloc -N 1 --cpus-per-task=12 -p CS177h --gres=gpu:TeslaM4024GB:3\n",
    "# !salloc -N 1 --cpus-per-task=16 -p CS177h --gres=gpu:TeslaM4024GB:4\n",
    "# !jupyter-lab --no-brows --ip=0.0.0.0 --port=7774 "
   ]
  },
  {
   "cell_type": "code",
   "execution_count": 82,
   "metadata": {},
   "outputs": [
    {
     "name": "stdout",
     "output_type": "stream",
     "text": [
      "Wed Dec 14 20:04:58 2022       \n",
      "+-----------------------------------------------------------------------------+\n",
      "| NVIDIA-SMI 512.36       Driver Version: 512.36       CUDA Version: 11.6     |\n",
      "|-------------------------------+----------------------+----------------------+\n",
      "| GPU  Name            TCC/WDDM | Bus-Id        Disp.A | Volatile Uncorr. ECC |\n",
      "| Fan  Temp  Perf  Pwr:Usage/Cap|         Memory-Usage | GPU-Util  Compute M. |\n",
      "|                               |                      |               MIG M. |\n",
      "|===============================+======================+======================|\n",
      "|   0  NVIDIA GeForce ... WDDM  | 00000000:01:00.0  On |                  N/A |\n",
      "| N/A   65C    P0    56W /  N/A |   5916MiB /  6144MiB |    100%      Default |\n",
      "|                               |                      |                  N/A |\n",
      "+-------------------------------+----------------------+----------------------+\n",
      "                                                                               \n",
      "+-----------------------------------------------------------------------------+\n",
      "| Processes:                                                                  |\n",
      "|  GPU   GI   CI        PID   Type   Process name                  GPU Memory |\n",
      "|        ID   ID                                                   Usage      |\n",
      "|=============================================================================|\n",
      "|    0   N/A  N/A      1952    C+G   ...cw5n1h2txyewy\\LockApp.exe    N/A      |\n",
      "|    0   N/A  N/A      2008      C   ...iL23\\anaconda3\\python.exe    N/A      |\n",
      "|    0   N/A  N/A      8160    C+G   ...perience\\NVIDIA Share.exe    N/A      |\n",
      "|    0   N/A  N/A      9460    C+G   C:\\Windows\\explorer.exe         N/A      |\n",
      "|    0   N/A  N/A     10072    C+G   ...tracted\\WechatBrowser.exe    N/A      |\n",
      "|    0   N/A  N/A     12516    C+G   ...n1h2txyewy\\SearchHost.exe    N/A      |\n",
      "|    0   N/A  N/A     12544    C+G   ...artMenuExperienceHost.exe    N/A      |\n",
      "|    0   N/A  N/A     12924    C+G   ...me\\Application\\chrome.exe    N/A      |\n",
      "|    0   N/A  N/A     13808    C+G   ...2txyewy\\TextInputHost.exe    N/A      |\n",
      "|    0   N/A  N/A     17636    C+G   ...ge\\Application\\msedge.exe    N/A      |\n",
      "|    0   N/A  N/A     19136    C+G   ...d\\runtime\\WeChatAppEx.exe    N/A      |\n",
      "|    0   N/A  N/A     19584    C+G   ...ram Files\\LGHUB\\lghub.exe    N/A      |\n",
      "|    0   N/A  N/A     19660    C+G   ...y\\ShellExperienceHost.exe    N/A      |\n",
      "|    0   N/A  N/A     20152    C+G   ...cent\\WeMeet\\wemeetapp.exe    N/A      |\n",
      "|    0   N/A  N/A     20552    C+G   ..._dt26b99r8h8gj\\RtkUWP.exe    N/A      |\n",
      "|    0   N/A  N/A     20904    C+G   ...icrosoft VS Code\\Code.exe    N/A      |\n",
      "|    0   N/A  N/A     21976    C+G   ...oot\\Office16\\POWERPNT.EXE    N/A      |\n",
      "|    0   N/A  N/A     23948    C+G   ...cent\\WeMeet\\wemeetapp.exe    N/A      |\n",
      "|    0   N/A  N/A     25060    C+G   ...p-3.1.2\\GitHubDesktop.exe    N/A      |\n",
      "|    0   N/A  N/A     28156      C   ...iL23\\anaconda3\\python.exe    N/A      |\n",
      "+-----------------------------------------------------------------------------+\n"
     ]
    }
   ],
   "source": [
    "!nvidia-smi"
   ]
  },
  {
   "attachments": {},
   "cell_type": "markdown",
   "metadata": {},
   "source": [
    "# MSA Transformer + MLP Baseline"
   ]
  },
  {
   "cell_type": "code",
   "execution_count": 83,
   "metadata": {},
   "outputs": [],
   "source": [
    "import os\n",
    "import sys\n",
    "from pathlib import Path\n",
    "\n",
    "# PROJECT_PATH = Path() / \"Project\" / \"ShanghaiTech-CS177H-MSA-Scoring\"\n",
    "PROJECT_PATH = Path() \n",
    "sys.path.append(str(PROJECT_PATH))\n",
    "from tqdm import tqdm\n",
    "from pathlib import Path\n",
    "\n",
    "import numpy as np\n",
    "import plotly.graph_objs as go\n",
    "\n",
    "import torch\n",
    "from torch import nn\n",
    "import torch.nn.functional as F\n",
    "from torch.utils.data import DataLoader\n",
    "np.random.seed(42)\n",
    "torch.manual_seed(42)\n",
    "torch.cuda.manual_seed(42)\n",
    "torch.cuda.manual_seed_all(42)\n",
    "torch.backends.cudnn.benchmark = False\n",
    "torch.backends.cudnn.deterministic = True\n",
    "\n",
    "import esm\n",
    "\n",
    "DATASET_PATH     = PROJECT_PATH / \"dataset\" / \"CASP14_fm\"\n",
    "MODEL_PATH       = PROJECT_PATH / \"model\"\n",
    "EMBDEDDINGS_PATH = PROJECT_PATH / \"embeddings\"\n",
    "TRANSFORMER_PATH = PROJECT_PATH / \"esm_msa1b_t12_100M_UR50S.pt\"\n",
    "\n",
    "# hyperparameters and settings\n",
    "LEARNING_RATE    = 1e-3\n",
    "BATCH_SIZE       = 64\n",
    "EPOCHS           = 20\n",
    "lambda_reg       = 0.5\n",
    "checkpoint_epoch = 20\n",
    "model_name       = \"pair_bos_256\""
   ]
  },
  {
   "attachments": {},
   "cell_type": "markdown",
   "metadata": {},
   "source": [
    "Define model"
   ]
  },
  {
   "cell_type": "code",
   "execution_count": 84,
   "metadata": {},
   "outputs": [],
   "source": [
    "# !scp -r tengyue@10.15.89.191:/public/home/cs177h/tengyue/Project/ShanghaiTech-CS177H-MSA-Scoring/embeddings /public/home/cs177h/lianyh/perl5/project/embeddings"
   ]
  },
  {
   "cell_type": "code",
   "execution_count": 85,
   "metadata": {},
   "outputs": [],
   "source": [
    "class MSAPredictor(nn.Module):\n",
    "    def __init__(self, msa_transformer_path = TRANSFORMER_PATH):\n",
    "        super(MSAPredictor, self).__init__()\n",
    "        \"\"\"\n",
    "        if msa_transformer_path:\n",
    "            self.encoder, msa_alphabet = esm.pretrained.load_model_and_alphabet_local(msa_transformer_path)\n",
    "        else :\n",
    "            self.encoder, msa_alphabet = esm.pretrained.esm_msa1b_t12_100M_UR50S()\n",
    "        \n",
    "        self.encoder = self.encoder.eval()\n",
    "        self.batch_converter = msa_alphabet.get_batch_converter()\n",
    "        \"\"\"\n",
    "\n",
    "        # Freeze parameters of MSATransformer\n",
    "        \"\"\"\n",
    "        for param in self.encoder.parameters():\n",
    "            param.requires_grad = False\n",
    "        \"\"\"\n",
    "        # Regressor module (to be tested)\n",
    "        # self.conv1 = nn.Conv2d(1, 6, 5)\n",
    "        # self.pool = nn.MaxPool2d(3, 3)\n",
    "        # self.conv2 = nn.Conv2d(6, 16, 5)\n",
    "        # self.fc1 = nn.Linear(25232, 2048)\n",
    "        # self.fc2 = nn.Linear(2048, 512)\n",
    "        # self.fc3 = nn.Linear(512, 1)\n",
    "        self.fc1 = nn.Linear(768, 128)\n",
    "        self.fc2 = nn.Linear(128, 32)\n",
    "        self.fc3 = nn.Linear(32, 1)\n",
    "        self.dp1 = nn.Dropout(0.2)\n",
    "        self.dp2 = nn.Dropout(0.5)\n",
    "        \n",
    "    def forward(self, x):\n",
    "        x = torch.mean(x[:, 1:, :], dim = 1)\n",
    "        # BATHCH_SIZE x 768\n",
    "\n",
    "        # x = self.pool(F.relu(self.conv1(x)))\n",
    "        # x = self.pool(F.relu(self.conv2(x)))\n",
    "\n",
    "        # x = torch.flatten(x, 1)\n",
    "        # x = F.relu(self.fc1(x))\n",
    "        # x = F.relu(self.fc2(x))\n",
    "        # x = self.fc3(x)\n",
    "        # x = torch.sigmoid(self.fc3(x))\n",
    "        \n",
    "        x = self.dp1(F.leaky_relu(self.fc1(x)))\n",
    "        x = self.dp2(F.leaky_relu(self.fc2(x)))\n",
    "        x = self.fc3(x)\n",
    "        # x = torch.sigmoid(self.fc3(x))\n",
    "        return x"
   ]
  },
  {
   "cell_type": "code",
   "execution_count": 86,
   "metadata": {},
   "outputs": [],
   "source": [
    "class MSAPredictorBOS(MSAPredictor):\n",
    "    def __init__(self, msa_transformer_path = TRANSFORMER_PATH):\n",
    "        super(MSAPredictorBOS, self).__init__(msa_transformer_path)\n",
    "        \n",
    "    def forward(self, x):\n",
    "        \n",
    "        x = x[:, 0, :]\n",
    "        # BATHCH_SIZE x 768\n",
    "        \n",
    "        x = self.dp1(F.leaky_relu(self.fc1(x)))\n",
    "        x = self.dp2(F.leaky_relu(self.fc2(x)))\n",
    "        x = self.fc3(x)\n",
    "        # x = torch.sigmoid(self.fc3(x))\n",
    "        return x"
   ]
  },
  {
   "cell_type": "code",
   "execution_count": 87,
   "metadata": {},
   "outputs": [],
   "source": [
    "class PairMSAPredictor(nn.Module):\n",
    "    def __init__(self, msa_transformer_path = TRANSFORMER_PATH, type = 'pair_bos_256'):\n",
    "        super(PairMSAPredictor, self).__init__()\n",
    "        self.regressor = MSAPredictorBOS(msa_transformer_path) if type == 'pair_bos_256' else MSAPredictor(msa_transformer_path)\n",
    "        \n",
    "    def forward(self, x1, x2):\n",
    "        y1, y2 = self.regressor(x1), self.regressor(x2)\n",
    "        delta, y1, y2 = torch.sigmoid(y1 - y2), torch.sigmoid(y1), torch.sigmoid(y2)\n",
    "        return delta, y1, y2"
   ]
  },
  {
   "cell_type": "code",
   "execution_count": 88,
   "metadata": {},
   "outputs": [],
   "source": [
    "if model_name == \"bos_256\" :\n",
    "    model = MSAPredictorBOS().cuda()\n",
    "elif model_name == \"mean_256\" :\n",
    "    model = MSAPredictor().cuda()\n",
    "elif model_name[:4] == \"pair\" :\n",
    "    model = PairMSAPredictor(type = model_name).cuda()\n",
    "\n",
    "NUM_GPU = torch.cuda.device_count()\n",
    "USE_PARALLEL = NUM_GPU > 1\n",
    "if USE_PARALLEL :\n",
    "    model = torch.nn.DataParallel(model)"
   ]
  },
  {
   "cell_type": "code",
   "execution_count": 89,
   "metadata": {},
   "outputs": [
    {
     "name": "stdout",
     "output_type": "stream",
     "text": [
      "The pair_bos_256 model loaded has been trained for 20 epoche(s), with 0.024229296451756872 training loss, 0.021515664323171795 validation MSE and 0.9578947368421052 test accuracy. \n"
     ]
    }
   ],
   "source": [
    "loss_fn = nn.BCELoss()\n",
    "loss_reg_fn = nn.MSELoss()\n",
    "\n",
    "optimizer = torch.optim.Adam(model.parameters(), lr = LEARNING_RATE)\n",
    "\n",
    "if checkpoint_epoch > 0 :\n",
    "    checkpoint = torch.load(MODEL_PATH / f\"model_{model_name}_epoch{checkpoint_epoch}.pth\")\n",
    "    (model.module if USE_PARALLEL else model).load_state_dict(checkpoint['model_state_dict'])\n",
    "    optimizer.load_state_dict(checkpoint['optimizer_state_dict'])\n",
    "    epoch = checkpoint['epoch']\n",
    "    print(f\"The {model_name} model loaded has been trained for {epoch} epoche(s), with {checkpoint['train_mse']} training loss, {checkpoint['valid_mse']} validation MSE and {checkpoint['test_acc']} test accuracy. \")\n",
    "else :\n",
    "    print(f\"Start training {model_name} model from the 1st epoch.\")"
   ]
  },
  {
   "attachments": {},
   "cell_type": "markdown",
   "metadata": {},
   "source": [
    "Prepare dataset"
   ]
  },
  {
   "cell_type": "code",
   "execution_count": 90,
   "metadata": {},
   "outputs": [],
   "source": [
    "from dataset import EmbeddingScoreDataset, PairDataset\n",
    "from torch.utils.data import random_split\n",
    "\n",
    "train_dataset = PairDataset(EMBDEDDINGS_PATH, DATASET_PATH, is_train = True) if model_name[:4] == \"pair\" else EmbeddingScoreDataset(EMBDEDDINGS_PATH, DATASET_PATH, is_train = True)\n",
    "test_dataset  = PairDataset(EMBDEDDINGS_PATH, DATASET_PATH, is_train = False)"
   ]
  },
  {
   "cell_type": "code",
   "execution_count": 91,
   "metadata": {},
   "outputs": [
    {
     "data": {
      "text/plain": [
       "array([[0.40373233],\n",
       "       [0.7987787 ],\n",
       "       [0.8523313 ],\n",
       "       [0.9566743 ]], dtype=float32)"
      ]
     },
     "execution_count": 91,
     "metadata": {},
     "output_type": "execute_result"
    }
   ],
   "source": [
    "from dataset import read_embedding\n",
    "x1 = read_embedding('T1024-D1_rand10_fm', 584, EMBDEDDINGS_PATH)\n",
    "x2 = read_embedding('T1024-D1_aug_fm', 584, EMBDEDDINGS_PATH)\n",
    "x3 = read_embedding('T1024-D1_deduplicated_fm', 584, EMBDEDDINGS_PATH)\n",
    "x4 = read_embedding('T1024-D1_meta_fm', 584, EMBDEDDINGS_PATH)\n",
    "\n",
    "x = torch.stack([x1, x2, x3, x4])\n",
    "with torch.no_grad():\n",
    "    score = torch.sigmoid(model.regressor(x.cuda()))\n",
    "score.cpu().numpy()"
   ]
  },
  {
   "cell_type": "code",
   "execution_count": 28,
   "metadata": {},
   "outputs": [],
   "source": [
    "train_loader = DataLoader(train_dataset, batch_size = BATCH_SIZE, num_workers = NUM_GPU * 4, pin_memory = True, shuffle = True)\n",
    "test_loader  = DataLoader(test_dataset, batch_size = 1, shuffle = False)"
   ]
  },
  {
   "cell_type": "code",
   "execution_count": 29,
   "metadata": {},
   "outputs": [
    {
     "name": "stdout",
     "output_type": "stream",
     "text": [
      "torch.Size([64, 584, 768]) torch.Size([64, 1]) 64\n",
      "torch.Size([64, 584, 768]) torch.Size([64, 1]) 64\n"
     ]
    }
   ],
   "source": [
    "# explore batch shape\n",
    "it = iter(train_loader)\n",
    "it = next(it)\n",
    "if model_name[:4] == \"pair\" :\n",
    "    print(it['embedding1'].shape, it['score1'].shape, len(it['name1']))\n",
    "    print(it['embedding2'].shape, it['score2'].shape, len(it['name2']))\n",
    "else :\n",
    "    print(it['embedding'].shape, it['score'].shape, len(it['name']))"
   ]
  },
  {
   "cell_type": "code",
   "execution_count": 30,
   "metadata": {},
   "outputs": [],
   "source": [
    "def calc_test_metric(model, print_wrong_predictions = False, print_correct_predictions = False):\n",
    "    model.eval()\n",
    "    mse, correct, tot = 0.0, 0, 0\n",
    "    with torch.no_grad():\n",
    "        with tqdm(total = len(test_loader), ncols = 80, file = sys.stdout) as bar:\n",
    "            for sample in test_loader :\n",
    "                x1, x2, y1, y2 = sample[\"embedding1\"].cuda(), sample[\"embedding2\"].cuda(), sample[\"score1\"].cuda(), sample[\"score2\"].cuda()\n",
    "                x, y = torch.vstack([x1, x2]), torch.vstack([y1, y2])\n",
    "                \n",
    "                predictor = model.module if USE_PARALLEL else model\n",
    "                pred = torch.sigmoid(predictor.regressor(x) if model_name[:4] == 'pair' else predictor(x))\n",
    "\n",
    "                if torch.argmax(y) == torch.argmax(pred) :\n",
    "                    correct += 1\n",
    "                    if print_correct_predictions:\n",
    "                        for name, y_gt, y_pred in zip([sample['name1'][0], sample['name2'][0]], y, pred) :\n",
    "                            tqdm.write(f\"{name:>20}  y_gt:{y_gt.item():.4f}  y_pred:{y_pred.item() :.4f}\")\n",
    "                        tqdm.write(\"-----------------------------------------------\")\n",
    "                else :\n",
    "                    if print_wrong_predictions:\n",
    "                        for name, y_gt, y_pred in zip([sample['name1'][0], sample['name2'][0]], y, pred) :\n",
    "                            tqdm.write(f\"{name:>20}  y_gt:{y_gt.item() :.4f}  y_pred:{y_pred.item() :.4f}\")\n",
    "                        tqdm.write(\"===================================================\")\n",
    "                \n",
    "                mse += torch.sum((y - pred) ** 2).item()\n",
    "                tot += 2\n",
    "\n",
    "                bar.set_postfix({\n",
    "                    \"acc\": f\"{correct / (tot // 2):.4f}\",\n",
    "                    \"mse\": f\"{mse / tot:.4f}\"\n",
    "                })\n",
    "                bar.update(1)\n",
    "    \n",
    "    return {'accuracy' : correct / (tot // 2), 'mse' : mse / tot}"
   ]
  },
  {
   "attachments": {},
   "cell_type": "markdown",
   "metadata": {},
   "source": [
    "Train:"
   ]
  },
  {
   "cell_type": "code",
   "execution_count": 31,
   "metadata": {},
   "outputs": [
    {
     "name": "stderr",
     "output_type": "stream",
     "text": [
      "[epoch# 1/20][13248/13300]: 100%|██████████████████████████| 208/208 [00:51<00:00,  4.03it/s, mse=0.04752, loss=0.63095]\n"
     ]
    },
    {
     "name": "stdout",
     "output_type": "stream",
     "text": [
      "100%|███████████████████| 95/95 [00:01<00:00, 61.07it/s, acc=0.9474, mse=0.0327]\n"
     ]
    },
    {
     "name": "stderr",
     "output_type": "stream",
     "text": [
      "[epoch# 2/20][13248/13300]: 100%|██████████████████████████| 208/208 [00:46<00:00,  4.44it/s, mse=0.04117, loss=0.58139]\n"
     ]
    },
    {
     "name": "stdout",
     "output_type": "stream",
     "text": [
      "100%|██████████████████| 95/95 [00:00<00:00, 107.49it/s, acc=0.9474, mse=0.0323]\n"
     ]
    },
    {
     "name": "stderr",
     "output_type": "stream",
     "text": [
      "[epoch# 3/20][13248/13300]: 100%|██████████████████████████| 208/208 [00:35<00:00,  5.86it/s, mse=0.04027, loss=0.56038]\n"
     ]
    },
    {
     "name": "stdout",
     "output_type": "stream",
     "text": [
      "100%|██████████████████| 95/95 [00:00<00:00, 164.36it/s, acc=0.9474, mse=0.0347]\n"
     ]
    },
    {
     "name": "stderr",
     "output_type": "stream",
     "text": [
      "[epoch# 4/20][13248/13300]: 100%|██████████████████████████| 208/208 [00:35<00:00,  5.84it/s, mse=0.03881, loss=0.54502]\n"
     ]
    },
    {
     "name": "stdout",
     "output_type": "stream",
     "text": [
      "100%|██████████████████| 95/95 [00:00<00:00, 178.78it/s, acc=0.9684, mse=0.0332]\n"
     ]
    },
    {
     "name": "stderr",
     "output_type": "stream",
     "text": [
      "[epoch# 5/20][13248/13300]: 100%|██████████████████████████| 208/208 [00:34<00:00,  6.01it/s, mse=0.03918, loss=0.53572]\n"
     ]
    },
    {
     "name": "stdout",
     "output_type": "stream",
     "text": [
      "100%|██████████████████| 95/95 [00:00<00:00, 144.09it/s, acc=0.9684, mse=0.0296]\n"
     ]
    },
    {
     "name": "stderr",
     "output_type": "stream",
     "text": [
      "[epoch# 6/20][13248/13300]: 100%|██████████████████████████| 208/208 [00:35<00:00,  5.92it/s, mse=0.03828, loss=0.52797]\n"
     ]
    },
    {
     "name": "stdout",
     "output_type": "stream",
     "text": [
      "100%|██████████████████| 95/95 [00:00<00:00, 164.08it/s, acc=0.9579, mse=0.0310]\n"
     ]
    },
    {
     "name": "stderr",
     "output_type": "stream",
     "text": [
      "[epoch# 7/20][13248/13300]: 100%|██████████████████████████| 208/208 [00:35<00:00,  5.94it/s, mse=0.03842, loss=0.52212]\n"
     ]
    },
    {
     "name": "stdout",
     "output_type": "stream",
     "text": [
      "100%|██████████████████| 95/95 [00:00<00:00, 176.25it/s, acc=0.9684, mse=0.0300]\n"
     ]
    },
    {
     "name": "stderr",
     "output_type": "stream",
     "text": [
      "[epoch# 8/20][13248/13300]: 100%|██████████████████████████| 208/208 [00:34<00:00,  6.00it/s, mse=0.03821, loss=0.51277]\n"
     ]
    },
    {
     "name": "stdout",
     "output_type": "stream",
     "text": [
      "100%|██████████████████| 95/95 [00:00<00:00, 191.80it/s, acc=0.9684, mse=0.0301]\n"
     ]
    },
    {
     "name": "stderr",
     "output_type": "stream",
     "text": [
      "[epoch# 9/20][13248/13300]: 100%|██████████████████████████| 208/208 [00:34<00:00,  6.00it/s, mse=0.03789, loss=0.50793]\n"
     ]
    },
    {
     "name": "stdout",
     "output_type": "stream",
     "text": [
      "100%|██████████████████| 95/95 [00:00<00:00, 118.79it/s, acc=0.9789, mse=0.0316]\n"
     ]
    },
    {
     "name": "stderr",
     "output_type": "stream",
     "text": [
      "[epoch#10/20][13248/13300]: 100%|██████████████████████████| 208/208 [00:34<00:00,  5.96it/s, mse=0.03752, loss=0.50392]\n"
     ]
    },
    {
     "name": "stdout",
     "output_type": "stream",
     "text": [
      "100%|██████████████████| 95/95 [00:00<00:00, 187.36it/s, acc=0.9579, mse=0.0280]\n"
     ]
    },
    {
     "name": "stderr",
     "output_type": "stream",
     "text": [
      "[epoch#11/20][13248/13300]: 100%|██████████████████████████| 208/208 [00:34<00:00,  6.01it/s, mse=0.03739, loss=0.50225]\n"
     ]
    },
    {
     "name": "stdout",
     "output_type": "stream",
     "text": [
      "100%|██████████████████| 95/95 [00:00<00:00, 167.49it/s, acc=0.9684, mse=0.0308]\n"
     ]
    },
    {
     "name": "stderr",
     "output_type": "stream",
     "text": [
      "[epoch#12/20][13248/13300]: 100%|██████████████████████████| 208/208 [00:35<00:00,  5.89it/s, mse=0.03714, loss=0.50105]\n"
     ]
    },
    {
     "name": "stdout",
     "output_type": "stream",
     "text": [
      "100%|██████████████████| 95/95 [00:00<00:00, 163.40it/s, acc=0.9789, mse=0.0290]\n"
     ]
    },
    {
     "name": "stderr",
     "output_type": "stream",
     "text": [
      "[epoch#13/20][13248/13300]: 100%|██████████████████████████| 208/208 [00:35<00:00,  5.92it/s, mse=0.03701, loss=0.49385]\n"
     ]
    },
    {
     "name": "stdout",
     "output_type": "stream",
     "text": [
      "100%|██████████████████| 95/95 [00:00<00:00, 132.39it/s, acc=0.9579, mse=0.0292]\n"
     ]
    },
    {
     "name": "stderr",
     "output_type": "stream",
     "text": [
      "[epoch#14/20][13248/13300]: 100%|██████████████████████████| 208/208 [00:34<00:00,  5.97it/s, mse=0.03843, loss=0.49344]\n"
     ]
    },
    {
     "name": "stdout",
     "output_type": "stream",
     "text": [
      "100%|██████████████████| 95/95 [00:00<00:00, 148.94it/s, acc=0.9579, mse=0.0308]\n"
     ]
    },
    {
     "name": "stderr",
     "output_type": "stream",
     "text": [
      "[epoch#15/20][13248/13300]: 100%|██████████████████████████| 208/208 [00:37<00:00,  5.48it/s, mse=0.03803, loss=0.48684]\n"
     ]
    },
    {
     "name": "stdout",
     "output_type": "stream",
     "text": [
      "100%|██████████████████| 95/95 [00:00<00:00, 111.63it/s, acc=0.9684, mse=0.0293]\n"
     ]
    },
    {
     "name": "stderr",
     "output_type": "stream",
     "text": [
      "[epoch#16/20][ 1600/13300]:  12%|███▏                       | 25/208 [00:09<01:12,  2.52it/s, mse=0.03744, loss=0.48407]\n"
     ]
    },
    {
     "ename": "KeyboardInterrupt",
     "evalue": "",
     "output_type": "error",
     "traceback": [
      "\u001b[1;31m---------------------------------------------------------------------------\u001b[0m",
      "\u001b[1;31mKeyboardInterrupt\u001b[0m                         Traceback (most recent call last)",
      "\u001b[1;32me:\\School\\CS177H\\Project\\ShanghaiTech-CS177H-MSA-Scoring\\mlp.ipynb Cell 18\u001b[0m in \u001b[0;36m<cell line: 1>\u001b[1;34m()\u001b[0m\n\u001b[0;32m      <a href='vscode-notebook-cell:/e%3A/School/CS177H/Project/ShanghaiTech-CS177H-MSA-Scoring/mlp.ipynb#X23sZmlsZQ%3D%3D?line=8'>9</a>\u001b[0m bar\u001b[39m.\u001b[39mset_description(\u001b[39mf\u001b[39m\u001b[39m\"\u001b[39m\u001b[39m[epoch#\u001b[39m\u001b[39m{\u001b[39;00mepoch\u001b[39m:\u001b[39;00m\u001b[39m>2\u001b[39m\u001b[39m}\u001b[39;00m\u001b[39m/\u001b[39m\u001b[39m{\u001b[39;00mEPOCHS\u001b[39m:\u001b[39;00m\u001b[39m>2\u001b[39m\u001b[39m}\u001b[39;00m\u001b[39m][\u001b[39m\u001b[39m{\u001b[39;00mbatch \u001b[39m*\u001b[39m BATCH_SIZE\u001b[39m:\u001b[39;00m\u001b[39m>5\u001b[39m\u001b[39m}\u001b[39;00m\u001b[39m/\u001b[39m\u001b[39m{\u001b[39;00m\u001b[39mlen\u001b[39m(train_dataset)\u001b[39m:\u001b[39;00m\u001b[39m>5\u001b[39m\u001b[39m}\u001b[39;00m\u001b[39m]\u001b[39m\u001b[39m\"\u001b[39m)\n\u001b[0;32m     <a href='vscode-notebook-cell:/e%3A/School/CS177H/Project/ShanghaiTech-CS177H-MSA-Scoring/mlp.ipynb#X23sZmlsZQ%3D%3D?line=10'>11</a>\u001b[0m \u001b[39mif\u001b[39;00m model_name[:\u001b[39m4\u001b[39m] \u001b[39m==\u001b[39m \u001b[39m'\u001b[39m\u001b[39mpair\u001b[39m\u001b[39m'\u001b[39m :\n\u001b[1;32m---> <a href='vscode-notebook-cell:/e%3A/School/CS177H/Project/ShanghaiTech-CS177H-MSA-Scoring/mlp.ipynb#X23sZmlsZQ%3D%3D?line=11'>12</a>\u001b[0m     x1, x2, y1, y2 \u001b[39m=\u001b[39m sample[\u001b[39m\"\u001b[39m\u001b[39membedding1\u001b[39m\u001b[39m\"\u001b[39m]\u001b[39m.\u001b[39mcuda(), sample[\u001b[39m\"\u001b[39;49m\u001b[39membedding2\u001b[39;49m\u001b[39m\"\u001b[39;49m]\u001b[39m.\u001b[39;49mcuda(), sample[\u001b[39m\"\u001b[39m\u001b[39mscore1\u001b[39m\u001b[39m\"\u001b[39m]\u001b[39m.\u001b[39mcuda(), sample[\u001b[39m\"\u001b[39m\u001b[39mscore2\u001b[39m\u001b[39m\"\u001b[39m]\u001b[39m.\u001b[39mcuda()\n\u001b[0;32m     <a href='vscode-notebook-cell:/e%3A/School/CS177H/Project/ShanghaiTech-CS177H-MSA-Scoring/mlp.ipynb#X23sZmlsZQ%3D%3D?line=12'>13</a>\u001b[0m     \u001b[39m# delta = torch.sigmoid((y1 - y2) / SIGMOID_SCALE)\u001b[39;00m\n\u001b[0;32m     <a href='vscode-notebook-cell:/e%3A/School/CS177H/Project/ShanghaiTech-CS177H-MSA-Scoring/mlp.ipynb#X23sZmlsZQ%3D%3D?line=13'>14</a>\u001b[0m     delta \u001b[39m=\u001b[39m torch\u001b[39m.\u001b[39mwhere(y1 \u001b[39m>\u001b[39m y2, \u001b[39m1.0\u001b[39m, \u001b[39m0.0\u001b[39m)\n",
      "\u001b[1;31mKeyboardInterrupt\u001b[0m: "
     ]
    }
   ],
   "source": [
    "for epoch in range(checkpoint_epoch + 1, EPOCHS + 1):\n",
    "    losses, losses_reg, tot = 0, 0, 0\n",
    "    \n",
    "    model.train()\n",
    "\n",
    "    with tqdm(total = len(train_loader), ncols = 120) as bar:\n",
    "        for batch, sample in enumerate(train_loader) :\n",
    "            \n",
    "            bar.set_description(f\"[epoch#{epoch:>2}/{EPOCHS:>2}][{batch * BATCH_SIZE:>5}/{len(train_dataset):>5}]\")\n",
    "\n",
    "            if model_name[:4] == 'pair' :\n",
    "                x1, x2, y1, y2 = sample[\"embedding1\"].cuda(), sample[\"embedding2\"].cuda(), sample[\"score1\"].cuda(), sample[\"score2\"].cuda()\n",
    "                # delta = torch.sigmoid((y1 - y2) / SIGMOID_SCALE)\n",
    "                delta = torch.where(y1 > y2, 1.0, 0.0)\n",
    "\n",
    "                logit, y1_pred, y2_pred = model(x1, x2)\n",
    "\n",
    "                loss_reg = loss_reg_fn(torch.vstack([y1_pred, y2_pred]), torch.vstack([y1, y2])) \n",
    "                loss_bce = loss_fn(logit, delta)\n",
    "                loss = loss_bce + lambda_reg * loss_reg\n",
    "            else :\n",
    "                x, y = sample[\"embedding\"].cuda(), sample[\"score\"].cuda()\n",
    "                pred = torch.sigmoid(model(x))\n",
    "                loss_reg = loss_reg_fn(pred, y)\n",
    "                loss = loss_reg\n",
    "\n",
    "            # Backpropagation\n",
    "            optimizer.zero_grad()     \n",
    "            loss.backward()\n",
    "            optimizer.step()\n",
    "            \n",
    "            losses_reg += loss_reg.item() * len(sample) \n",
    "            losses += loss.item() * len(sample)\n",
    "            tot += len(sample)\n",
    "\n",
    "            bar.set_postfix({\n",
    "                # \"batch loss\" : f\"{loss.item():.5f}\",\n",
    "                \"mse\" : f\"{losses_reg / tot:.5f}\", \n",
    "                \"loss\": f\"{losses / tot:.5f}\"\n",
    "            })\n",
    "            bar.update(1)\n",
    "\n",
    "    test_metric =  calc_test_metric(model)\n",
    "    train_loss, train_mse, test_acc, valid_mse = losses / tot, losses_reg / tot, test_metric['accuracy'], test_metric['mse']\n",
    "    torch.save({\n",
    "        'epoch'               : epoch,\n",
    "        'model_state_dict'    : (model.module if USE_PARALLEL else model).state_dict(),\n",
    "        'optimizer_state_dict': optimizer.state_dict(),\n",
    "        'train_mse'           : train_mse,\n",
    "        'train_loss'          : train_loss,\n",
    "        'valid_mse'           : valid_mse,\n",
    "        'test_acc'            : test_acc\n",
    "    }, MODEL_PATH / f\"model_{model_name}_epoch{epoch}.pth\")\n",
    "    "
   ]
  },
  {
   "cell_type": "code",
   "execution_count": null,
   "metadata": {},
   "outputs": [
    {
     "name": "stdout",
     "output_type": "stream",
     "text": [
      "T1030-D1_original_fm  y_gt:0.8572  y_pred:0.8304                                \n",
      "  T1030-D1_rand13_fm  y_gt:0.8149  y_pred:0.9053                                \n",
      "===================================================                             \n",
      "    T1030-D2_base_fm  y_gt:0.9118  y_pred:0.9039                                \n",
      "T1030-D2_original_fm  y_gt:0.6008  y_pred:0.9076                                \n",
      "===================================================                             \n",
      "T1046s1-D1_rand13_fm  y_gt:0.6354  y_pred:0.6863                                \n",
      "T1046s1-D1_rosetta_fm  y_gt:0.9791  y_pred:0.6065                               \n",
      "===================================================                             \n",
      "T1047s2-D2_rand16_fm  y_gt:0.7530  y_pred:0.8924                                \n",
      " T1047s2-D2_rand5_fm  y_gt:0.9398  y_pred:0.7512                                \n",
      "===================================================                             \n",
      "    T1053-D1_base_fm  y_gt:0.9542  y_pred:0.7899                                \n",
      "     T1053-D1_our_fm  y_gt:0.7264  y_pred:0.8641                                \n",
      "===================================================                             \n",
      "  T1070-D3_rand13_fm  y_gt:0.7369  y_pred:0.7078                                \n",
      "  T1070-D3_rand16_fm  y_gt:0.8322  y_pred:0.7017                                \n",
      "===================================================                             \n",
      "  T1100-D1_rand13_fm  y_gt:0.6080  y_pred:0.5260                                \n",
      " T1100-D1_rosetta_fm  y_gt:0.6775  y_pred:0.4440                                \n",
      "===================================================                             \n",
      "100%|███████████████████| 95/95 [00:01<00:00, 57.77it/s, acc=0.9263, mse=0.0145]\n"
     ]
    },
    {
     "data": {
      "text/plain": [
       "{'accuracy': 0.9263157894736842, 'mse': 0.014492791874554793}"
      ]
     },
     "execution_count": 15,
     "metadata": {},
     "output_type": "execute_result"
    }
   ],
   "source": [
    "calc_test_metric(model, print_wrong_predictions = True)"
   ]
  },
  {
   "cell_type": "code",
   "execution_count": 43,
   "metadata": {},
   "outputs": [
    {
     "data": {
      "application/vnd.plotly.v1+json": {
       "config": {
        "plotlyServerURL": "https://plot.ly"
       },
       "data": [
        {
         "mode": "lines+markers",
         "name": "Train Loss",
         "type": "scatter",
         "x": [
          1,
          2,
          3,
          4,
          5,
          6,
          7,
          8,
          9,
          10,
          11,
          12,
          13,
          14,
          15,
          16,
          17,
          18,
          19,
          20
         ],
         "xaxis": "x",
         "y": [
          0.04751574674334664,
          0.04117105954075949,
          0.04026535763226163,
          0.038807607972278044,
          0.039179391057517096,
          0.03827916036467426,
          0.03842381541079913,
          0.038206318142608955,
          0.03788948500564752,
          0.037516249442258134,
          0.03738679736852646,
          0.037141219685928754,
          0.03701489684709276,
          0.03843354242137419,
          0.03802880548084012,
          0.02567299930020594,
          0.025044807868723113,
          0.02480801843250027,
          0.024465326842171356,
          0.024229296451756872
         ],
         "yaxis": "y"
        },
        {
         "mode": "lines+markers",
         "name": "Valid MSE",
         "type": "scatter",
         "x": [
          1.5,
          2.5,
          3.5,
          4.5,
          5.5,
          6.5,
          7.5,
          8.5,
          9.5,
          10.5,
          11.5,
          12.5,
          13.5,
          14.5,
          15.5,
          16.5,
          17.5,
          18.5,
          19.5,
          20.5
         ],
         "xaxis": "x",
         "y": [
          0.032693663107745935,
          0.03232105970719682,
          0.034658367210680524,
          0.03324885023566343,
          0.029625264336400985,
          0.03104454460095966,
          0.02997232543569369,
          0.030133621880744803,
          0.03162489254624999,
          0.02802752476272872,
          0.030815162655084063,
          0.028980148284800205,
          0.02915909865543271,
          0.030811952578197202,
          0.029253708962412354,
          0.022058906283621726,
          0.022036937077676778,
          0.02188955153534679,
          0.021778198289930037,
          0.021515664323171795
         ],
         "yaxis": "y"
        },
        {
         "mode": "lines+markers",
         "name": "Test Accuracy",
         "type": "scatter",
         "x": [
          1,
          2,
          3,
          4,
          5,
          6,
          7,
          8,
          9,
          10,
          11,
          12,
          13,
          14,
          15,
          16,
          17,
          18,
          19,
          20
         ],
         "xaxis": "x",
         "y": [
          0.9473684210526315,
          0.9473684210526315,
          0.9473684210526315,
          0.968421052631579,
          0.968421052631579,
          0.9578947368421052,
          0.968421052631579,
          0.968421052631579,
          0.9789473684210527,
          0.9578947368421052,
          0.968421052631579,
          0.9789473684210527,
          0.9578947368421052,
          0.9578947368421052,
          0.968421052631579,
          0.9368421052631579,
          0.9473684210526315,
          0.9578947368421052,
          0.9578947368421052,
          0.9578947368421052
         ],
         "yaxis": "y2"
        }
       ],
       "layout": {
        "legend": {
         "font": {
          "color": "black",
          "size": 12
         },
         "x": 0.75,
         "y": 0.55
        },
        "template": {
         "data": {
          "bar": [
           {
            "error_x": {
             "color": "#2a3f5f"
            },
            "error_y": {
             "color": "#2a3f5f"
            },
            "marker": {
             "line": {
              "color": "#E5ECF6",
              "width": 0.5
             },
             "pattern": {
              "fillmode": "overlay",
              "size": 10,
              "solidity": 0.2
             }
            },
            "type": "bar"
           }
          ],
          "barpolar": [
           {
            "marker": {
             "line": {
              "color": "#E5ECF6",
              "width": 0.5
             },
             "pattern": {
              "fillmode": "overlay",
              "size": 10,
              "solidity": 0.2
             }
            },
            "type": "barpolar"
           }
          ],
          "carpet": [
           {
            "aaxis": {
             "endlinecolor": "#2a3f5f",
             "gridcolor": "white",
             "linecolor": "white",
             "minorgridcolor": "white",
             "startlinecolor": "#2a3f5f"
            },
            "baxis": {
             "endlinecolor": "#2a3f5f",
             "gridcolor": "white",
             "linecolor": "white",
             "minorgridcolor": "white",
             "startlinecolor": "#2a3f5f"
            },
            "type": "carpet"
           }
          ],
          "choropleth": [
           {
            "colorbar": {
             "outlinewidth": 0,
             "ticks": ""
            },
            "type": "choropleth"
           }
          ],
          "contour": [
           {
            "colorbar": {
             "outlinewidth": 0,
             "ticks": ""
            },
            "colorscale": [
             [
              0,
              "#0d0887"
             ],
             [
              0.1111111111111111,
              "#46039f"
             ],
             [
              0.2222222222222222,
              "#7201a8"
             ],
             [
              0.3333333333333333,
              "#9c179e"
             ],
             [
              0.4444444444444444,
              "#bd3786"
             ],
             [
              0.5555555555555556,
              "#d8576b"
             ],
             [
              0.6666666666666666,
              "#ed7953"
             ],
             [
              0.7777777777777778,
              "#fb9f3a"
             ],
             [
              0.8888888888888888,
              "#fdca26"
             ],
             [
              1,
              "#f0f921"
             ]
            ],
            "type": "contour"
           }
          ],
          "contourcarpet": [
           {
            "colorbar": {
             "outlinewidth": 0,
             "ticks": ""
            },
            "type": "contourcarpet"
           }
          ],
          "heatmap": [
           {
            "colorbar": {
             "outlinewidth": 0,
             "ticks": ""
            },
            "colorscale": [
             [
              0,
              "#0d0887"
             ],
             [
              0.1111111111111111,
              "#46039f"
             ],
             [
              0.2222222222222222,
              "#7201a8"
             ],
             [
              0.3333333333333333,
              "#9c179e"
             ],
             [
              0.4444444444444444,
              "#bd3786"
             ],
             [
              0.5555555555555556,
              "#d8576b"
             ],
             [
              0.6666666666666666,
              "#ed7953"
             ],
             [
              0.7777777777777778,
              "#fb9f3a"
             ],
             [
              0.8888888888888888,
              "#fdca26"
             ],
             [
              1,
              "#f0f921"
             ]
            ],
            "type": "heatmap"
           }
          ],
          "heatmapgl": [
           {
            "colorbar": {
             "outlinewidth": 0,
             "ticks": ""
            },
            "colorscale": [
             [
              0,
              "#0d0887"
             ],
             [
              0.1111111111111111,
              "#46039f"
             ],
             [
              0.2222222222222222,
              "#7201a8"
             ],
             [
              0.3333333333333333,
              "#9c179e"
             ],
             [
              0.4444444444444444,
              "#bd3786"
             ],
             [
              0.5555555555555556,
              "#d8576b"
             ],
             [
              0.6666666666666666,
              "#ed7953"
             ],
             [
              0.7777777777777778,
              "#fb9f3a"
             ],
             [
              0.8888888888888888,
              "#fdca26"
             ],
             [
              1,
              "#f0f921"
             ]
            ],
            "type": "heatmapgl"
           }
          ],
          "histogram": [
           {
            "marker": {
             "pattern": {
              "fillmode": "overlay",
              "size": 10,
              "solidity": 0.2
             }
            },
            "type": "histogram"
           }
          ],
          "histogram2d": [
           {
            "colorbar": {
             "outlinewidth": 0,
             "ticks": ""
            },
            "colorscale": [
             [
              0,
              "#0d0887"
             ],
             [
              0.1111111111111111,
              "#46039f"
             ],
             [
              0.2222222222222222,
              "#7201a8"
             ],
             [
              0.3333333333333333,
              "#9c179e"
             ],
             [
              0.4444444444444444,
              "#bd3786"
             ],
             [
              0.5555555555555556,
              "#d8576b"
             ],
             [
              0.6666666666666666,
              "#ed7953"
             ],
             [
              0.7777777777777778,
              "#fb9f3a"
             ],
             [
              0.8888888888888888,
              "#fdca26"
             ],
             [
              1,
              "#f0f921"
             ]
            ],
            "type": "histogram2d"
           }
          ],
          "histogram2dcontour": [
           {
            "colorbar": {
             "outlinewidth": 0,
             "ticks": ""
            },
            "colorscale": [
             [
              0,
              "#0d0887"
             ],
             [
              0.1111111111111111,
              "#46039f"
             ],
             [
              0.2222222222222222,
              "#7201a8"
             ],
             [
              0.3333333333333333,
              "#9c179e"
             ],
             [
              0.4444444444444444,
              "#bd3786"
             ],
             [
              0.5555555555555556,
              "#d8576b"
             ],
             [
              0.6666666666666666,
              "#ed7953"
             ],
             [
              0.7777777777777778,
              "#fb9f3a"
             ],
             [
              0.8888888888888888,
              "#fdca26"
             ],
             [
              1,
              "#f0f921"
             ]
            ],
            "type": "histogram2dcontour"
           }
          ],
          "mesh3d": [
           {
            "colorbar": {
             "outlinewidth": 0,
             "ticks": ""
            },
            "type": "mesh3d"
           }
          ],
          "parcoords": [
           {
            "line": {
             "colorbar": {
              "outlinewidth": 0,
              "ticks": ""
             }
            },
            "type": "parcoords"
           }
          ],
          "pie": [
           {
            "automargin": true,
            "type": "pie"
           }
          ],
          "scatter": [
           {
            "marker": {
             "colorbar": {
              "outlinewidth": 0,
              "ticks": ""
             }
            },
            "type": "scatter"
           }
          ],
          "scatter3d": [
           {
            "line": {
             "colorbar": {
              "outlinewidth": 0,
              "ticks": ""
             }
            },
            "marker": {
             "colorbar": {
              "outlinewidth": 0,
              "ticks": ""
             }
            },
            "type": "scatter3d"
           }
          ],
          "scattercarpet": [
           {
            "marker": {
             "colorbar": {
              "outlinewidth": 0,
              "ticks": ""
             }
            },
            "type": "scattercarpet"
           }
          ],
          "scattergeo": [
           {
            "marker": {
             "colorbar": {
              "outlinewidth": 0,
              "ticks": ""
             }
            },
            "type": "scattergeo"
           }
          ],
          "scattergl": [
           {
            "marker": {
             "colorbar": {
              "outlinewidth": 0,
              "ticks": ""
             }
            },
            "type": "scattergl"
           }
          ],
          "scattermapbox": [
           {
            "marker": {
             "colorbar": {
              "outlinewidth": 0,
              "ticks": ""
             }
            },
            "type": "scattermapbox"
           }
          ],
          "scatterpolar": [
           {
            "marker": {
             "colorbar": {
              "outlinewidth": 0,
              "ticks": ""
             }
            },
            "type": "scatterpolar"
           }
          ],
          "scatterpolargl": [
           {
            "marker": {
             "colorbar": {
              "outlinewidth": 0,
              "ticks": ""
             }
            },
            "type": "scatterpolargl"
           }
          ],
          "scatterternary": [
           {
            "marker": {
             "colorbar": {
              "outlinewidth": 0,
              "ticks": ""
             }
            },
            "type": "scatterternary"
           }
          ],
          "surface": [
           {
            "colorbar": {
             "outlinewidth": 0,
             "ticks": ""
            },
            "colorscale": [
             [
              0,
              "#0d0887"
             ],
             [
              0.1111111111111111,
              "#46039f"
             ],
             [
              0.2222222222222222,
              "#7201a8"
             ],
             [
              0.3333333333333333,
              "#9c179e"
             ],
             [
              0.4444444444444444,
              "#bd3786"
             ],
             [
              0.5555555555555556,
              "#d8576b"
             ],
             [
              0.6666666666666666,
              "#ed7953"
             ],
             [
              0.7777777777777778,
              "#fb9f3a"
             ],
             [
              0.8888888888888888,
              "#fdca26"
             ],
             [
              1,
              "#f0f921"
             ]
            ],
            "type": "surface"
           }
          ],
          "table": [
           {
            "cells": {
             "fill": {
              "color": "#EBF0F8"
             },
             "line": {
              "color": "white"
             }
            },
            "header": {
             "fill": {
              "color": "#C8D4E3"
             },
             "line": {
              "color": "white"
             }
            },
            "type": "table"
           }
          ]
         },
         "layout": {
          "annotationdefaults": {
           "arrowcolor": "#2a3f5f",
           "arrowhead": 0,
           "arrowwidth": 1
          },
          "autotypenumbers": "strict",
          "coloraxis": {
           "colorbar": {
            "outlinewidth": 0,
            "ticks": ""
           }
          },
          "colorscale": {
           "diverging": [
            [
             0,
             "#8e0152"
            ],
            [
             0.1,
             "#c51b7d"
            ],
            [
             0.2,
             "#de77ae"
            ],
            [
             0.3,
             "#f1b6da"
            ],
            [
             0.4,
             "#fde0ef"
            ],
            [
             0.5,
             "#f7f7f7"
            ],
            [
             0.6,
             "#e6f5d0"
            ],
            [
             0.7,
             "#b8e186"
            ],
            [
             0.8,
             "#7fbc41"
            ],
            [
             0.9,
             "#4d9221"
            ],
            [
             1,
             "#276419"
            ]
           ],
           "sequential": [
            [
             0,
             "#0d0887"
            ],
            [
             0.1111111111111111,
             "#46039f"
            ],
            [
             0.2222222222222222,
             "#7201a8"
            ],
            [
             0.3333333333333333,
             "#9c179e"
            ],
            [
             0.4444444444444444,
             "#bd3786"
            ],
            [
             0.5555555555555556,
             "#d8576b"
            ],
            [
             0.6666666666666666,
             "#ed7953"
            ],
            [
             0.7777777777777778,
             "#fb9f3a"
            ],
            [
             0.8888888888888888,
             "#fdca26"
            ],
            [
             1,
             "#f0f921"
            ]
           ],
           "sequentialminus": [
            [
             0,
             "#0d0887"
            ],
            [
             0.1111111111111111,
             "#46039f"
            ],
            [
             0.2222222222222222,
             "#7201a8"
            ],
            [
             0.3333333333333333,
             "#9c179e"
            ],
            [
             0.4444444444444444,
             "#bd3786"
            ],
            [
             0.5555555555555556,
             "#d8576b"
            ],
            [
             0.6666666666666666,
             "#ed7953"
            ],
            [
             0.7777777777777778,
             "#fb9f3a"
            ],
            [
             0.8888888888888888,
             "#fdca26"
            ],
            [
             1,
             "#f0f921"
            ]
           ]
          },
          "colorway": [
           "#636efa",
           "#EF553B",
           "#00cc96",
           "#ab63fa",
           "#FFA15A",
           "#19d3f3",
           "#FF6692",
           "#B6E880",
           "#FF97FF",
           "#FECB52"
          ],
          "font": {
           "color": "#2a3f5f"
          },
          "geo": {
           "bgcolor": "white",
           "lakecolor": "white",
           "landcolor": "#E5ECF6",
           "showlakes": true,
           "showland": true,
           "subunitcolor": "white"
          },
          "hoverlabel": {
           "align": "left"
          },
          "hovermode": "closest",
          "mapbox": {
           "style": "light"
          },
          "paper_bgcolor": "white",
          "plot_bgcolor": "#E5ECF6",
          "polar": {
           "angularaxis": {
            "gridcolor": "white",
            "linecolor": "white",
            "ticks": ""
           },
           "bgcolor": "#E5ECF6",
           "radialaxis": {
            "gridcolor": "white",
            "linecolor": "white",
            "ticks": ""
           }
          },
          "scene": {
           "xaxis": {
            "backgroundcolor": "#E5ECF6",
            "gridcolor": "white",
            "gridwidth": 2,
            "linecolor": "white",
            "showbackground": true,
            "ticks": "",
            "zerolinecolor": "white"
           },
           "yaxis": {
            "backgroundcolor": "#E5ECF6",
            "gridcolor": "white",
            "gridwidth": 2,
            "linecolor": "white",
            "showbackground": true,
            "ticks": "",
            "zerolinecolor": "white"
           },
           "zaxis": {
            "backgroundcolor": "#E5ECF6",
            "gridcolor": "white",
            "gridwidth": 2,
            "linecolor": "white",
            "showbackground": true,
            "ticks": "",
            "zerolinecolor": "white"
           }
          },
          "shapedefaults": {
           "line": {
            "color": "#2a3f5f"
           }
          },
          "ternary": {
           "aaxis": {
            "gridcolor": "white",
            "linecolor": "white",
            "ticks": ""
           },
           "baxis": {
            "gridcolor": "white",
            "linecolor": "white",
            "ticks": ""
           },
           "bgcolor": "#E5ECF6",
           "caxis": {
            "gridcolor": "white",
            "linecolor": "white",
            "ticks": ""
           }
          },
          "title": {
           "x": 0.05
          },
          "xaxis": {
           "automargin": true,
           "gridcolor": "white",
           "linecolor": "white",
           "ticks": "",
           "title": {
            "standoff": 15
           },
           "zerolinecolor": "white",
           "zerolinewidth": 2
          },
          "yaxis": {
           "automargin": true,
           "gridcolor": "white",
           "linecolor": "white",
           "ticks": "",
           "title": {
            "standoff": 15
           },
           "zerolinecolor": "white",
           "zerolinewidth": 2
          }
         }
        },
        "xaxis": {
         "title": {
          "text": "Epoch"
         }
        },
        "yaxis": {
         "title": {
          "text": "MSE Loss"
         }
        },
        "yaxis2": {
         "overlaying": "y",
         "range": [
          0.75,
          1
         ],
         "side": "right",
         "title": {
          "text": "Accuracy"
         }
        }
       }
      }
     },
     "metadata": {},
     "output_type": "display_data"
    }
   ],
   "source": [
    "def plot_training_history(model_name = \"mean_256\", trained_epoches = 20):\n",
    "    epoches = list(range(1, trained_epoches + 1))\n",
    "    train_losses = []\n",
    "    test_losses = []\n",
    "    test_accs = []\n",
    "    for epoch in range(1, trained_epoches+1):\n",
    "        checkpoint = torch.load(MODEL_PATH / f\"model_{model_name}_epoch{epoch}.pth\")\n",
    "        train_losses.append(checkpoint[\"train_mse\"])\n",
    "        test_losses.append(checkpoint[\"valid_mse\"])\n",
    "        test_accs.append(checkpoint[\"test_acc\"])\n",
    "    \n",
    "    trace1 = go.Scatter(\n",
    "        x = epoches,\n",
    "        y = train_losses,\n",
    "        name= \"Train Loss\",\n",
    "        xaxis='x',\n",
    "        yaxis='y1',\n",
    "        mode='lines+markers'\n",
    "    )\n",
    "    trace2 = go.Scatter(\n",
    "        x = [epoch + 0.5 for epoch in epoches],\n",
    "        y = test_losses,\n",
    "        name= \"Valid MSE\",\n",
    "        xaxis='x', \n",
    "        yaxis='y1',\n",
    "        mode='lines+markers'\n",
    "    )\n",
    "    trace3 = go.Scatter(\n",
    "        x = epoches,\n",
    "        y = test_accs,\n",
    "        name='Test Accuracy',\n",
    "        xaxis='x', \n",
    "        yaxis='y2',\n",
    "        mode='lines+markers'\n",
    "    )\n",
    "    \n",
    "    data = [trace1, trace2, trace3]\n",
    "    layout = go.Layout(\n",
    "        yaxis2=dict(overlaying = 'y', side = 'right', title = \"Accuracy\", range = [0.75, 1.0]),\n",
    "        yaxis1=dict(title = \"MSE Loss\"),\n",
    "        xaxis = dict(title = \"Epoch\"),\n",
    "        legend=dict(x=0.75, y=0.55, font=dict(size=12, color=\"black\"))\n",
    "    )\n",
    "    \n",
    "    fig = go.Figure(data=data, layout=layout)\n",
    "    fig.show()\n",
    "\n",
    "plot_training_history(\"pair_bos_256\", 20)"
   ]
  }
 ],
 "metadata": {
  "kernelspec": {
   "display_name": "base",
   "language": "python",
   "name": "python3"
  },
  "language_info": {
   "codemirror_mode": {
    "name": "ipython",
    "version": 3
   },
   "file_extension": ".py",
   "mimetype": "text/x-python",
   "name": "python",
   "nbconvert_exporter": "python",
   "pygments_lexer": "ipython3",
   "version": "3.9.12"
  },
  "orig_nbformat": 4,
  "vscode": {
   "interpreter": {
    "hash": "65330f7cde59a5173e44ca3f69e53435918c7609790a8d4b978a5bed5b0e5f09"
   }
  }
 },
 "nbformat": 4,
 "nbformat_minor": 2
}
