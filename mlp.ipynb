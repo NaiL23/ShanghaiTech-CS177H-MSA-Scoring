{
 "cells": [
  {
   "attachments": {},
   "cell_type": "markdown",
   "metadata": {},
   "source": [
    "设置环境"
   ]
  },
  {
   "cell_type": "code",
   "execution_count": 12,
   "metadata": {},
   "outputs": [],
   "source": [
    "import sys\n",
    "sys.path.append(\"/public/home/cs177h/tengyue/Project/ShanghaiTech-CS177H-MSA-Scoring\")\n",
    "\n",
    "from tqdm import tqdm\n",
    "from pathlib import Path\n",
    "\n",
    "import numpy as np\n",
    "import plotly.graph_objs as go\n",
    "import matplotlib.pyplot as plt\n",
    "plt.rc('font', size=14)\n",
    "plt.rc('axes', labelsize=14, titlesize=14)\n",
    "plt.rc('legend', fontsize=14)\n",
    "plt.rc('xtick', labelsize=10)\n",
    "plt.rc('ytick', labelsize=10)\n",
    "\n",
    "import torch\n",
    "from torch import nn\n",
    "import torch.nn.functional as F\n",
    "from torch.utils.data import DataLoader\n",
    "np.random.seed(42)\n",
    "torch.manual_seed(42)\n",
    "torch.cuda.manual_seed(42)\n",
    "torch.cuda.manual_seed_all(42)\n",
    "torch.backends.cudnn.benchmark = False\n",
    "torch.backends.cudnn.deterministic = True\n",
    "\n",
    "import esm\n",
    "\n",
    "DATASET_PATH = Path() / \"Project\" / \"ShanghaiTech-CS177H-MSA-Scoring\" / \"dataset\" / \"CASP14_fm\"\n",
    "MODEL_PATH = Path() / \"Project\" / \"ShanghaiTech-CS177H-MSA-Scoring\" / \"model\"\n",
    "EMBDEDDINGS_PATH = Path() / \"Project\" / \"ShanghaiTech-CS177H-MSA-Scoring\" / \"embeddings\"\n",
    "TRANSFORMER_PATH = Path() / \"Project\" / \"ShanghaiTech-CS177H-MSA-Scoring\" / \"esm_msa1b_t12_100M_UR50S.pt\"\n",
    "\n",
    "# hyperparameters\n",
    "MAX_DEPTH = 256\n",
    "EPOCHES = 30\n",
    "LEARNING_RATE = 1e-4"
   ]
  },
  {
   "attachments": {},
   "cell_type": "markdown",
   "metadata": {},
   "source": [
    "读入数据"
   ]
  },
  {
   "cell_type": "code",
   "execution_count": 3,
   "metadata": {},
   "outputs": [],
   "source": [
    "from dataset import EScoreDataset\n",
    "train_dataset = EScoreDataset(EMBDEDDINGS_PATH, root = DATASET_PATH, is_train = True)\n",
    "test_dataset = EScoreDataset(EMBDEDDINGS_PATH, root = DATASET_PATH, is_train = False)"
   ]
  },
  {
   "cell_type": "code",
   "execution_count": 4,
   "metadata": {},
   "outputs": [
    {
     "name": "stdout",
     "output_type": "stream",
     "text": [
      "T1024-D1_aug_fm\n",
      "70.208\n"
     ]
    }
   ],
   "source": [
    "print(train_dataset.msa_name_list[0])\n",
    "print(train_dataset.msa_score[train_dataset.msa_name_list[0]])"
   ]
  },
  {
   "attachments": {},
   "cell_type": "markdown",
   "metadata": {},
   "source": [
    "预测模型"
   ]
  },
  {
   "cell_type": "code",
   "execution_count": 18,
   "metadata": {},
   "outputs": [],
   "source": [
    "class MSAPredictor(nn.Module):\n",
    "    def __init__(self, msa_transformer_path = TRANSFORMER_PATH):\n",
    "        super(MSAPredictor, self).__init__()\n",
    "        \"\"\"\n",
    "        if msa_transformer_path:\n",
    "            self.encoder, msa_alphabet = esm.pretrained.load_model_and_alphabet_local(msa_transformer_path)\n",
    "        else :\n",
    "            self.encoder, msa_alphabet = esm.pretrained.esm_msa1b_t12_100M_UR50S()\n",
    "        \n",
    "        self.encoder = self.encoder.eval()\n",
    "        self.batch_converter = msa_alphabet.get_batch_converter()\n",
    "        \"\"\"\n",
    "\n",
    "        # Freeze parameters of MSATransformer\n",
    "        \"\"\"\n",
    "        for param in self.encoder.parameters():\n",
    "            param.requires_grad = False\n",
    "        \"\"\"\n",
    "\n",
    "        self.em = []\n",
    "\n",
    "        # Regressor module (to be tested)\n",
    "        # self.conv1 = nn.Conv2d(1, 6, 5)\n",
    "        # self.pool = nn.MaxPool2d(3, 3)\n",
    "        # self.conv2 = nn.Conv2d(6, 16, 5)\n",
    "        # self.fc1 = nn.Linear(25232, 2048)\n",
    "        # self.fc2 = nn.Linear(2048, 512)\n",
    "        # self.fc3 = nn.Linear(512, 1)\n",
    "        self.fc1 = nn.Linear(768, 128)\n",
    "        self.fc2 = nn.Linear(128, 32)\n",
    "        self.fc3 = nn.Linear(32, 1)\n",
    "        \n",
    "    def forward(self, x):\n",
    "        \n",
    "        self.em = []\n",
    "\n",
    "        with torch.no_grad():\n",
    "            for i in range(x.size(0)):\n",
    "\n",
    "                xi = x[i, 1:, :]\n",
    "                print(xi.size())\n",
    "                xi = torch.mean(xi, dim = 1)\n",
    "                self.em.append(xi)\n",
    "                \n",
    "        x = torch.vstack(self.em)\n",
    "        # BATHCH_SIZE x 768\n",
    "\n",
    "        # x = self.pool(F.relu(self.conv1(x)))\n",
    "        # x = self.pool(F.relu(self.conv2(x)))\n",
    "\n",
    "        # x = torch.flatten(x, 1)\n",
    "        # x = F.relu(self.fc1(x))\n",
    "        # x = F.relu(self.fc2(x))\n",
    "        # x = self.fc3(x)\n",
    "        # x = torch.sigmoid(self.fc3(x))\n",
    "        \n",
    "        x = F.relu(self.fc1(x))\n",
    "        x = F.relu(self.fc2(x))\n",
    "        x = torch.sigmoid(self.fc3(x))\n",
    "        x = x.squeeze(-1)\n",
    "        return x"
   ]
  },
  {
   "attachments": {},
   "cell_type": "markdown",
   "metadata": {},
   "source": [
    "解析模型"
   ]
  },
  {
   "cell_type": "code",
   "execution_count": 19,
   "metadata": {},
   "outputs": [],
   "source": [
    "class MSAPredictorBOS(MSAPredictor):\n",
    "    def __init__(self, msa_transformer_path = TRANSFORMER_PATH):\n",
    "        super(MSAPredictorBOS, self).__init__(msa_transformer_path)\n",
    "        self.em = []\n",
    "        \n",
    "    def forward(self, x):\n",
    "        \n",
    "        self.em = []\n",
    "        with torch.no_grad():\n",
    "            for i in range(x.size(0)):\n",
    "\n",
    "                xi = x[i, 1, :]\n",
    "                self.em.append(xi)\n",
    "        \n",
    "        x = torch.vstack(self.em)\n",
    "        # BATHCH_SIZE x 768\n",
    "        \n",
    "        x = F.relu(self.fc1(x))\n",
    "        x = F.relu(self.fc2(x))\n",
    "        x = torch.sigmoid(self.fc3(x))\n",
    "        x = x.squeeze(-1)\n",
    "        return x"
   ]
  },
  {
   "attachments": {},
   "cell_type": "markdown",
   "metadata": {},
   "source": [
    "生成模型"
   ]
  },
  {
   "cell_type": "code",
   "execution_count": 20,
   "metadata": {},
   "outputs": [],
   "source": [
    "model_name = \"bos_256\"\n",
    "\n",
    "if model_name == \"bos_256\" :\n",
    "    model = MSAPredictorBOS().cuda()\n",
    "elif model_name == \"mean_256\" :\n",
    "    model = MSAPredictor().cuda()\n",
    "\n",
    "NUM_GPU = torch.cuda.device_count()\n",
    "USE_PARALLEL = NUM_GPU > 1\n",
    "if USE_PARALLEL :\n",
    "    model = torch.nn.DataParallel(model)"
   ]
  },
  {
   "attachments": {},
   "cell_type": "markdown",
   "metadata": {},
   "source": [
    "迭代器"
   ]
  },
  {
   "cell_type": "code",
   "execution_count": 21,
   "metadata": {},
   "outputs": [],
   "source": [
    "BATCH_SIZE = 32\n",
    "\n",
    "train_loader = DataLoader(train_dataset, batch_size = BATCH_SIZE, num_workers = NUM_GPU * 4, pin_memory = True, shuffle = True)\n",
    "test_loader = DataLoader(test_dataset, batch_size = 2, shuffle = False)"
   ]
  },
  {
   "cell_type": "code",
   "execution_count": 22,
   "metadata": {},
   "outputs": [
    {
     "name": "stdout",
     "output_type": "stream",
     "text": [
      "Start training bos_256 model from the 1st epoch.\n"
     ]
    }
   ],
   "source": [
    "loss_fn = nn.MSELoss()\n",
    "optimizer = torch.optim.Adam(model.parameters(), lr = LEARNING_RATE)\n",
    "\n",
    "checkpoint_epoch = 0\n",
    "checkpoint = 0\n",
    "if checkpoint_epoch > 0 :\n",
    "    checkpoint = torch.load(MODEL_PATH / f\"model_{model_name}_epoch{checkpoint_epoch}.pth\")\n",
    "    (model.module if USE_PARALLEL else model).load_state_dict(checkpoint['model_state_dict'])\n",
    "    optimizer.load_state_dict(checkpoint['optimizer_state_dict'])\n",
    "    epoch = checkpoint['epoch']\n",
    "    print(f\"The {model_name} model loaded has been trained for {epoch} epoche(s), with {checkpoint['train_mse']} training loss, {checkpoint['valid_mse']} validation MSE and {checkpoint['test_acc']} test accuracy. \")\n",
    "else :\n",
    "    print(f\"Start training {model_name} model from the 1st epoch.\")"
   ]
  },
  {
   "cell_type": "code",
   "execution_count": 23,
   "metadata": {},
   "outputs": [],
   "source": [
    "def calc_test_metric(model):\n",
    "    model.eval()\n",
    "    mse, correct, tot = 0.0, 0, 0\n",
    "    with torch.no_grad():\n",
    "        with tqdm(total = len(test_loader), ncols=80) as bar:\n",
    "            for sample in test_loader :\n",
    "                \n",
    "                x, y = sample[\"embedding\"].cuda(non_blocking = True), sample[\"score\"][0].cuda()\n",
    "                pred = model(x)\n",
    "\n",
    "                mse += torch.sum((y - pred) ** 2).item() \n",
    "                correct += torch.sum(torch.argmax(y) == torch.argmax(pred)).item()\n",
    "                tot += 2\n",
    "\n",
    "                bar.set_postfix({\n",
    "                    \"acc\" : f\"{correct / (tot // 2):.4f}\",\n",
    "                    \"mse\": f\"{mse / tot:.4f}\"\n",
    "                })\n",
    "                bar.update(1)\n",
    "    \n",
    "    return {'accuracy' : correct / (tot // 2), 'mse' : mse / tot}"
   ]
  },
  {
   "cell_type": "code",
   "execution_count": 24,
   "metadata": {},
   "outputs": [
    {
     "name": "stderr",
     "output_type": "stream",
     "text": [
      "[epoch#1/30][2656/2660]: 100%|██████████████████████████████████| 84/84 [00:04<00:00, 19.60it/s, batch loss=0.02384, loss=0.05288]\n",
      "100%|██████████████████| 95/95 [00:00<00:00, 185.55it/s, acc=0.8842, mse=0.0578]\n",
      "[epoch#2/30][2656/2660]: 100%|██████████████████████████████████| 84/84 [00:04<00:00, 20.23it/s, batch loss=0.04275, loss=0.03746]\n",
      "100%|██████████████████| 95/95 [00:00<00:00, 184.85it/s, acc=0.9263, mse=0.0395]\n",
      "[epoch#3/30][2656/2660]: 100%|██████████████████████████████████| 84/84 [00:04<00:00, 20.03it/s, batch loss=0.02084, loss=0.02804]\n",
      "100%|██████████████████| 95/95 [00:00<00:00, 179.44it/s, acc=0.9158, mse=0.0320]\n",
      "[epoch#4/30][2656/2660]: 100%|██████████████████████████████████| 84/84 [00:04<00:00, 19.67it/s, batch loss=0.03095, loss=0.02346]\n",
      "100%|██████████████████| 95/95 [00:00<00:00, 148.54it/s, acc=0.9263, mse=0.0287]\n",
      "[epoch#5/30][2656/2660]: 100%|██████████████████████████████████| 84/84 [00:04<00:00, 20.05it/s, batch loss=0.02693, loss=0.02054]\n",
      "100%|██████████████████| 95/95 [00:00<00:00, 230.44it/s, acc=0.9368, mse=0.0264]\n",
      "[epoch#6/30][2656/2660]: 100%|██████████████████████████████████| 84/84 [00:04<00:00, 20.22it/s, batch loss=0.01233, loss=0.01785]\n",
      "100%|██████████████████| 95/95 [00:00<00:00, 197.51it/s, acc=0.9474, mse=0.0243]\n",
      "[epoch#7/30][2656/2660]: 100%|██████████████████████████████████| 84/84 [00:04<00:00, 19.97it/s, batch loss=0.01315, loss=0.01581]\n",
      "100%|██████████████████| 95/95 [00:00<00:00, 197.63it/s, acc=0.9474, mse=0.0232]\n",
      "[epoch#8/30][2656/2660]: 100%|██████████████████████████████████| 84/84 [00:04<00:00, 19.08it/s, batch loss=0.01179, loss=0.01419]\n",
      "100%|██████████████████| 95/95 [00:00<00:00, 235.97it/s, acc=0.9684, mse=0.0226]\n",
      "[epoch#9/30][2656/2660]: 100%|██████████████████████████████████| 84/84 [00:04<00:00, 19.14it/s, batch loss=0.00703, loss=0.01277]\n",
      "100%|██████████████████| 95/95 [00:00<00:00, 190.48it/s, acc=0.9789, mse=0.0213]\n",
      "[epoch#10/30][2656/2660]: 100%|█████████████████████████████████| 84/84 [00:04<00:00, 20.95it/s, batch loss=0.00123, loss=0.01193]\n",
      "100%|██████████████████| 95/95 [00:00<00:00, 207.03it/s, acc=0.9579, mse=0.0218]\n",
      "[epoch#11/30][2656/2660]: 100%|█████████████████████████████████| 84/84 [00:04<00:00, 19.99it/s, batch loss=0.00995, loss=0.01080]\n",
      "100%|██████████████████| 95/95 [00:00<00:00, 222.60it/s, acc=0.9684, mse=0.0227]\n",
      "[epoch#12/30][2656/2660]: 100%|█████████████████████████████████| 84/84 [00:04<00:00, 20.40it/s, batch loss=0.01048, loss=0.00993]\n",
      "100%|██████████████████| 95/95 [00:00<00:00, 191.88it/s, acc=0.9684, mse=0.0201]\n",
      "[epoch#13/30][2656/2660]: 100%|█████████████████████████████████| 84/84 [00:04<00:00, 18.31it/s, batch loss=0.00270, loss=0.00918]\n",
      "100%|██████████████████| 95/95 [00:00<00:00, 192.54it/s, acc=0.9579, mse=0.0198]\n",
      "[epoch#14/30][2656/2660]: 100%|█████████████████████████████████| 84/84 [00:04<00:00, 19.42it/s, batch loss=0.00732, loss=0.00865]\n",
      "100%|██████████████████| 95/95 [00:00<00:00, 219.87it/s, acc=0.9684, mse=0.0195]\n",
      "[epoch#15/30][2656/2660]: 100%|█████████████████████████████████| 84/84 [00:03<00:00, 21.11it/s, batch loss=0.00087, loss=0.00796]\n",
      "100%|██████████████████| 95/95 [00:00<00:00, 190.22it/s, acc=0.9684, mse=0.0188]\n",
      "[epoch#16/30][2656/2660]: 100%|█████████████████████████████████| 84/84 [00:04<00:00, 20.21it/s, batch loss=0.00250, loss=0.00748]\n",
      "100%|██████████████████| 95/95 [00:00<00:00, 195.51it/s, acc=0.9579, mse=0.0189]\n",
      "[epoch#17/30][2656/2660]: 100%|█████████████████████████████████| 84/84 [00:04<00:00, 20.01it/s, batch loss=0.00417, loss=0.00729]\n",
      "100%|██████████████████| 95/95 [00:00<00:00, 227.10it/s, acc=0.9684, mse=0.0187]\n",
      "[epoch#18/30][2656/2660]: 100%|█████████████████████████████████| 84/84 [00:04<00:00, 18.99it/s, batch loss=0.00973, loss=0.00705]\n",
      "100%|██████████████████| 95/95 [00:00<00:00, 215.85it/s, acc=0.9579, mse=0.0193]\n",
      "[epoch#19/30][2656/2660]: 100%|█████████████████████████████████| 84/84 [00:04<00:00, 19.14it/s, batch loss=0.00889, loss=0.00664]\n",
      "100%|██████████████████| 95/95 [00:00<00:00, 228.27it/s, acc=0.9684, mse=0.0180]\n",
      "[epoch#20/30][2656/2660]: 100%|█████████████████████████████████| 84/84 [00:04<00:00, 19.32it/s, batch loss=0.00114, loss=0.00633]\n",
      "100%|██████████████████| 95/95 [00:00<00:00, 228.77it/s, acc=0.9684, mse=0.0179]\n",
      "[epoch#21/30][2656/2660]: 100%|█████████████████████████████████| 84/84 [00:04<00:00, 19.57it/s, batch loss=0.01640, loss=0.00617]\n",
      "100%|██████████████████| 95/95 [00:00<00:00, 196.15it/s, acc=0.9684, mse=0.0182]\n",
      "[epoch#22/30][2656/2660]: 100%|█████████████████████████████████| 84/84 [00:03<00:00, 21.16it/s, batch loss=0.00396, loss=0.00588]\n",
      "100%|██████████████████| 95/95 [00:00<00:00, 233.11it/s, acc=0.9789, mse=0.0175]\n",
      "[epoch#23/30][2656/2660]: 100%|█████████████████████████████████| 84/84 [00:04<00:00, 19.79it/s, batch loss=0.00446, loss=0.00542]\n",
      "100%|██████████████████| 95/95 [00:00<00:00, 220.84it/s, acc=0.9789, mse=0.0171]\n",
      "[epoch#24/30][2656/2660]: 100%|█████████████████████████████████| 84/84 [00:04<00:00, 20.23it/s, batch loss=0.00255, loss=0.00545]\n",
      "100%|██████████████████| 95/95 [00:00<00:00, 240.78it/s, acc=0.9684, mse=0.0186]\n",
      "[epoch#25/30][2656/2660]: 100%|█████████████████████████████████| 84/84 [00:04<00:00, 20.08it/s, batch loss=0.02540, loss=0.00534]\n",
      "100%|██████████████████| 95/95 [00:00<00:00, 198.74it/s, acc=0.9684, mse=0.0173]\n",
      "[epoch#26/30][2656/2660]: 100%|█████████████████████████████████| 84/84 [00:04<00:00, 18.61it/s, batch loss=0.00252, loss=0.00516]\n",
      "100%|██████████████████| 95/95 [00:00<00:00, 197.16it/s, acc=0.9789, mse=0.0182]\n",
      "[epoch#27/30][2656/2660]: 100%|█████████████████████████████████| 84/84 [00:04<00:00, 18.73it/s, batch loss=0.00004, loss=0.00470]\n",
      "100%|██████████████████| 95/95 [00:00<00:00, 197.49it/s, acc=0.9684, mse=0.0167]\n",
      "[epoch#28/30][2656/2660]: 100%|█████████████████████████████████| 84/84 [00:04<00:00, 19.99it/s, batch loss=0.00862, loss=0.00470]\n",
      "100%|██████████████████| 95/95 [00:00<00:00, 230.67it/s, acc=0.9684, mse=0.0171]\n",
      "[epoch#29/30][2656/2660]: 100%|█████████████████████████████████| 84/84 [00:04<00:00, 18.72it/s, batch loss=0.00199, loss=0.00450]\n",
      "100%|██████████████████| 95/95 [00:00<00:00, 193.15it/s, acc=0.9789, mse=0.0168]\n",
      "[epoch#30/30][2656/2660]: 100%|█████████████████████████████████| 84/84 [00:04<00:00, 19.65it/s, batch loss=0.00301, loss=0.00438]\n",
      "100%|██████████████████| 95/95 [00:00<00:00, 240.64it/s, acc=0.9684, mse=0.0184]\n"
     ]
    }
   ],
   "source": [
    "for epoch in range(checkpoint_epoch + 1, EPOCHES + 1):\n",
    "    losses, tot = 0, 0\n",
    "    \n",
    "    model.train()\n",
    "\n",
    "    with tqdm(total= len(train_loader), ncols=130) as bar:\n",
    "        for batch, sample in enumerate(train_loader) :\n",
    "            \n",
    "            bar.set_description(f\"[epoch#{epoch}/{EPOCHES}][{batch * BATCH_SIZE}/{len(train_dataset)}]\")\n",
    "\n",
    "            x = sample[\"embedding\"].cuda(non_blocking = True)\n",
    "            y = sample[\"score\"][0].cuda()#.squeeze(-1)\n",
    "            pred = model(x)\n",
    "            loss = loss_fn(pred.float(), y.float())\n",
    "\n",
    "            # Backpropagation\n",
    "            optimizer.zero_grad()     \n",
    "            loss.backward()\n",
    "            optimizer.step()\n",
    "            \n",
    "            losses += loss.item() * len(sample)\n",
    "            tot += len(sample)\n",
    "\n",
    "            bar.set_postfix({\n",
    "                \"batch loss\" : f\"{loss.item():.5f}\",\n",
    "                \"loss\": f\"{losses / tot:.5f}\"\n",
    "            })\n",
    "            bar.update(1)\n",
    "\n",
    "    test_metric =  calc_test_metric(model)\n",
    "    train_mse, test_acc, valid_mse =  losses / tot, test_metric['accuracy'], test_metric['mse']\n",
    "    torch.save({\n",
    "        'epoch': epoch,\n",
    "        'model_state_dict': (model.module if USE_PARALLEL else model).state_dict(),\n",
    "        'optimizer_state_dict': optimizer.state_dict(),\n",
    "        'train_mse': train_mse,\n",
    "        'valid_mse': valid_mse,\n",
    "        'test_acc': test_acc\n",
    "    }, MODEL_PATH / f\"model_{model_name}_epoch{epoch}.pth\")"
   ]
  },
  {
   "cell_type": "code",
   "execution_count": 26,
   "metadata": {},
   "outputs": [
    {
     "name": "stderr",
     "output_type": "stream",
     "text": [
      "100%|██████████████████████████████████████████████████████████████████████████████████████████████████████████| 190/190 [00:07<00:00, 25.81it/s]\n"
     ]
    }
   ],
   "source": [
    "from dataset import MSAScoreDataset\n",
    "test_dataset_1 = MSAScoreDataset(root = DATASET_PATH, is_train = False)"
   ]
  },
  {
   "cell_type": "code",
   "execution_count": 29,
   "metadata": {},
   "outputs": [
    {
     "name": "stdout",
     "output_type": "stream",
     "text": [
      "100%|██████████████████| 95/95 [00:00<00:00, 154.98it/s, acc=0.9684, mse=0.0184]\n"
     ]
    },
    {
     "data": {
      "text/plain": [
       "{'accuracy': 0.968421052631579, 'mse': 0.018424894298719956}"
      ]
     },
     "execution_count": 29,
     "metadata": {},
     "output_type": "execute_result"
    }
   ],
   "source": [
    "def print_predictions(model, only_print_wrong = True):\n",
    "    model.eval()\n",
    "    mse, correct, tot = 0.0, 0, 0\n",
    "    with torch.no_grad():\n",
    "        with tqdm(total = len(test_loader), ncols=80, file=sys.stdout) as bar:\n",
    "            for sample in test_loader :\n",
    "                \n",
    "                x, y = sample[\"embedding\"].cuda(non_blocking = True), sample[\"score\"][0].cuda()\n",
    "                pred = model(x)\n",
    "\n",
    "                mse += torch.sum((y - pred) ** 2).item() \n",
    "\n",
    "                \n",
    "                if torch.argmax(y) == torch.argmax(pred) :\n",
    "                    correct += 1\n",
    "                    \"\"\"\n",
    "                    if not only_print_wrong:\n",
    "                        for y_gt, y_pred in zip(y, pred) :\n",
    "                            tqdm.write(f\"{list(x[:, 0]).index(1) if 1 in x[:, 0] else 256:>4d}x{x.size(1):>4d} y_gt:{y_gt.item():.4f}  y_pred:{y_pred.item() * 100:.4f}\")\n",
    "                        tqdm.write(\"======\")\n",
    "                    \"\"\"\n",
    "                else :\n",
    "                    \"\"\"\n",
    "                    for y_gt, y_pred in zip(y, pred) :\n",
    "                        tqdm.write(f\"{list(x[:, 0]).index(1) if 1 in x[:, 0] else 256:>4d}x{x.size(1):>4d} y_gt:{y_gt.item():.4f}  y_pred:{y_pred.item() * 100:.4f}\")\n",
    "                    tqdm.write(\"-------\")\n",
    "                    \"\"\"\n",
    "\n",
    "                tot += 2\n",
    "\n",
    "                bar.set_postfix({\n",
    "                    \"acc\" : f\"{correct / (tot // 2):.4f}\",\n",
    "                    \"mse\": f\"{mse / tot:.4f}\"\n",
    "                })\n",
    "                bar.update(1)\n",
    "    \n",
    "    return {'accuracy' : correct / (tot // 2), 'mse' : mse / tot}\n",
    "\n",
    "print_predictions(model)"
   ]
  },
  {
   "cell_type": "code",
   "execution_count": 31,
   "metadata": {},
   "outputs": [
    {
     "name": "stderr",
     "output_type": "stream",
     "text": [
      "100%|█████████████████████████████████████████████████████████████████████████████████████████████████████████| 100/100 [00:00<00:00, 177.35it/s]\n"
     ]
    },
    {
     "data": {
      "application/vnd.plotly.v1+json": {
       "config": {
        "plotlyServerURL": "https://plot.ly"
       },
       "data": [
        {
         "mode": "lines+markers",
         "name": "Train Loss",
         "type": "scatter",
         "x": [
          1,
          2,
          3,
          4,
          5,
          6,
          7,
          8,
          9,
          10,
          11,
          12,
          13,
          14,
          15,
          16,
          17,
          18,
          19,
          20,
          21,
          22,
          23,
          24,
          25,
          26,
          27,
          28,
          29,
          30,
          31,
          32,
          33,
          34,
          35,
          36,
          37,
          38,
          39,
          40,
          41,
          42,
          43,
          44,
          45,
          46,
          47,
          48,
          49,
          50,
          51,
          52,
          53,
          54,
          55,
          56,
          57,
          58,
          59,
          60,
          61,
          62,
          63,
          64,
          65,
          66,
          67,
          68,
          69,
          70,
          71,
          72,
          73,
          74,
          75,
          76,
          77,
          78,
          79,
          80,
          81,
          82,
          83,
          84,
          85,
          86,
          87,
          88,
          89,
          90,
          91,
          92,
          93,
          94,
          95,
          96,
          97,
          98,
          99,
          100
         ],
         "xaxis": "x",
         "y": [
          0.052882617694281396,
          0.0374606718264875,
          0.02804327395833319,
          0.023458098704438834,
          0.02053872025793507,
          0.017850768963052405,
          0.015814975574834363,
          0.01419491233814153,
          0.01277495035347307,
          0.011933120882271655,
          0.010803182736881786,
          0.00992968573146278,
          0.009177669627769362,
          0.008647018979813549,
          0.007956714532892442,
          0.007476947048590297,
          0.007286044037235635,
          0.007048141865414523,
          0.006643453648956936,
          0.006325098336674273,
          0.006174816353623534,
          0.005876350324667458,
          0.0054205447931530044,
          0.005454129486766067,
          0.005335461899882094,
          0.005156161072331348,
          0.00469615385082718,
          0.0047011418958261076,
          0.004503818856652028,
          0.004378052076346995,
          0.004497015524893663,
          0.0043511337873742995,
          0.004450515610396974,
          0.00398633432175432,
          0.003974499488494506,
          0.0037949495458681334,
          0.0036199722242982765,
          0.0035682414360764555,
          0.0034322137685310573,
          0.003347780325807127,
          0.003212886563103114,
          0.0032700494731797425,
          0.0030334703881587637,
          0.0030240425146780066,
          0.0028997056792346636,
          0.0028103519294102835,
          0.0030045021699979567,
          0.0026742381225795227,
          0.002600489405186889,
          0.002489288038262551,
          0.002493076573504149,
          0.0024095221037479272,
          0.002400992874623297,
          0.002233835856633303,
          0.002331281876667662,
          0.0021262323811188115,
          0.002123417460212582,
          0.002008980607151761,
          0.002061157662218395,
          0.001891793834073539,
          0.001856050810678617,
          0.0020397877945613706,
          0.001880565083618941,
          0.001762701834979138,
          0.0018263820058988282,
          0.001775280484243443,
          0.0017363534435013632,
          0.0016770877716957794,
          0.001587087721073706,
          0.0016303225611231493,
          0.0015219871788040588,
          0.0015751319079610863,
          0.0015724225464290975,
          0.0013813063803415997,
          0.0015324183652191457,
          0.0013128985146662795,
          0.0016327976798848774,
          0.0013204516755430994,
          0.0014342901004562364,
          0.0012983923550359065,
          0.0012416375639911434,
          0.0013393177454800982,
          0.001200996026225192,
          0.0011527393896419806,
          0.0011434428104990743,
          0.0011196245106297748,
          0.0011071464806599051,
          0.0010457418939970517,
          0.0011916548591387227,
          0.0011555107252644305,
          0.0009455430219860229,
          0.0010107004281511545,
          0.0009639335410665945,
          0.0009576181270605779,
          0.0008957259430501022,
          0.0009193237809660403,
          0.0009417832165578366,
          0.0009357218247447933,
          0.0009089691773638185,
          0.000892750869498105
         ],
         "yaxis": "y"
        },
        {
         "mode": "lines+markers",
         "name": "Valid MSE",
         "type": "scatter",
         "x": [
          1.5,
          2.5,
          3.5,
          4.5,
          5.5,
          6.5,
          7.5,
          8.5,
          9.5,
          10.5,
          11.5,
          12.5,
          13.5,
          14.5,
          15.5,
          16.5,
          17.5,
          18.5,
          19.5,
          20.5,
          21.5,
          22.5,
          23.5,
          24.5,
          25.5,
          26.5,
          27.5,
          28.5,
          29.5,
          30.5,
          31.5,
          32.5,
          33.5,
          34.5,
          35.5,
          36.5,
          37.5,
          38.5,
          39.5,
          40.5,
          41.5,
          42.5,
          43.5,
          44.5,
          45.5,
          46.5,
          47.5,
          48.5,
          49.5,
          50.5,
          51.5,
          52.5,
          53.5,
          54.5,
          55.5,
          56.5,
          57.5,
          58.5,
          59.5,
          60.5,
          61.5,
          62.5,
          63.5,
          64.5,
          65.5,
          66.5,
          67.5,
          68.5,
          69.5,
          70.5,
          71.5,
          72.5,
          73.5,
          74.5,
          75.5,
          76.5,
          77.5,
          78.5,
          79.5,
          80.5,
          81.5,
          82.5,
          83.5,
          84.5,
          85.5,
          86.5,
          87.5,
          88.5,
          89.5,
          90.5,
          91.5,
          92.5,
          93.5,
          94.5,
          95.5,
          96.5,
          97.5,
          98.5,
          99.5,
          100.5
         ],
         "xaxis": "x",
         "y": [
          0.05776848647537952,
          0.03951898641136385,
          0.03195742333641454,
          0.028742911983670197,
          0.026442593274969353,
          0.02430838263386462,
          0.02317109235607144,
          0.0225951649450323,
          0.021279675084131488,
          0.02183776370502249,
          0.0227135568653487,
          0.02005096437103653,
          0.019800280980430796,
          0.019511586812077004,
          0.01880463319609083,
          0.018947165952710815,
          0.0186783945341122,
          0.01927433982185142,
          0.01800381125241346,
          0.017915667890123395,
          0.018177852916841326,
          0.017457677798758762,
          0.017127534577326308,
          0.018595468704961773,
          0.017297220095360093,
          0.018164935666702648,
          0.016691286061415185,
          0.017101208264411544,
          0.01677707768028394,
          0.018424894298719956,
          0.01620249266362455,
          0.016666505543827568,
          0.016306312554240178,
          0.016939412851627964,
          0.01708599450587491,
          0.017292380373079428,
          0.016660696557071215,
          0.01681197406808343,
          0.017110651700319356,
          0.017627447151340004,
          0.01574727283655911,
          0.016051356503694,
          0.016984142754288195,
          0.01703275470365617,
          0.01662354382207061,
          0.015817216941382196,
          0.0174076041918421,
          0.01685550892055433,
          0.0169723866032942,
          0.016950928349763816,
          0.01661857510105045,
          0.01701003581401892,
          0.016570864610893247,
          0.01659077129186603,
          0.017036224084547844,
          0.016463195203687064,
          0.016282227032015248,
          0.017602039218955295,
          0.016696852318579515,
          0.017896976963981473,
          0.017293787143286242,
          0.016830057457991644,
          0.01706730450371795,
          0.016751786486374362,
          0.01654217420532644,
          0.01729416857664259,
          0.017001357980993097,
          0.016315193361438822,
          0.017345993312866133,
          0.016642484590977946,
          0.016314990558327594,
          0.017028151373884422,
          0.017237517770670247,
          0.017281158794953386,
          0.017474782842739508,
          0.01773352865801778,
          0.017508028060393897,
          0.01758913876334478,
          0.016810039050592182,
          0.016895603927188953,
          0.01861380114435298,
          0.01791329998277912,
          0.017974477178875913,
          0.017565266388641917,
          0.01780408938761148,
          0.017765165589030643,
          0.018076276768682106,
          0.017490180263580683,
          0.017454900603288002,
          0.01781592262239811,
          0.017871044950688406,
          0.018960922548247158,
          0.017940086580098356,
          0.018409546449057464,
          0.017469334304328905,
          0.01724905026089082,
          0.01748991528676063,
          0.01772620868133871,
          0.017659288654517456,
          0.01801336193819129
         ],
         "yaxis": "y"
        },
        {
         "mode": "lines+markers",
         "name": "Test Accuracy",
         "type": "scatter",
         "x": [
          1,
          2,
          3,
          4,
          5,
          6,
          7,
          8,
          9,
          10,
          11,
          12,
          13,
          14,
          15,
          16,
          17,
          18,
          19,
          20,
          21,
          22,
          23,
          24,
          25,
          26,
          27,
          28,
          29,
          30,
          31,
          32,
          33,
          34,
          35,
          36,
          37,
          38,
          39,
          40,
          41,
          42,
          43,
          44,
          45,
          46,
          47,
          48,
          49,
          50,
          51,
          52,
          53,
          54,
          55,
          56,
          57,
          58,
          59,
          60,
          61,
          62,
          63,
          64,
          65,
          66,
          67,
          68,
          69,
          70,
          71,
          72,
          73,
          74,
          75,
          76,
          77,
          78,
          79,
          80,
          81,
          82,
          83,
          84,
          85,
          86,
          87,
          88,
          89,
          90,
          91,
          92,
          93,
          94,
          95,
          96,
          97,
          98,
          99,
          100
         ],
         "xaxis": "x",
         "y": [
          0.8842105263157894,
          0.9263157894736842,
          0.9157894736842105,
          0.9263157894736842,
          0.9368421052631579,
          0.9473684210526315,
          0.9473684210526315,
          0.968421052631579,
          0.9789473684210527,
          0.9578947368421052,
          0.968421052631579,
          0.968421052631579,
          0.9578947368421052,
          0.968421052631579,
          0.968421052631579,
          0.9578947368421052,
          0.968421052631579,
          0.9578947368421052,
          0.968421052631579,
          0.968421052631579,
          0.968421052631579,
          0.9789473684210527,
          0.9789473684210527,
          0.968421052631579,
          0.968421052631579,
          0.9789473684210527,
          0.968421052631579,
          0.968421052631579,
          0.9789473684210527,
          0.968421052631579,
          0.968421052631579,
          0.968421052631579,
          0.968421052631579,
          0.968421052631579,
          0.968421052631579,
          0.968421052631579,
          0.968421052631579,
          0.968421052631579,
          0.968421052631579,
          0.968421052631579,
          0.9789473684210527,
          0.968421052631579,
          0.968421052631579,
          0.9578947368421052,
          0.9578947368421052,
          0.9789473684210527,
          0.9578947368421052,
          0.9578947368421052,
          0.9789473684210527,
          0.9578947368421052,
          0.9578947368421052,
          0.9789473684210527,
          0.9473684210526315,
          0.968421052631579,
          0.9578947368421052,
          0.968421052631579,
          0.968421052631579,
          0.968421052631579,
          0.968421052631579,
          0.968421052631579,
          0.9578947368421052,
          0.968421052631579,
          0.9578947368421052,
          0.968421052631579,
          0.9578947368421052,
          0.9578947368421052,
          0.9578947368421052,
          0.9578947368421052,
          0.9578947368421052,
          0.9578947368421052,
          0.9578947368421052,
          0.9578947368421052,
          0.9578947368421052,
          0.9578947368421052,
          0.9578947368421052,
          0.968421052631579,
          0.9578947368421052,
          0.9578947368421052,
          0.9789473684210527,
          0.968421052631579,
          0.968421052631579,
          0.9578947368421052,
          0.9578947368421052,
          0.968421052631579,
          0.968421052631579,
          0.968421052631579,
          0.968421052631579,
          0.9578947368421052,
          0.968421052631579,
          0.9578947368421052,
          0.968421052631579,
          0.968421052631579,
          0.9578947368421052,
          0.9473684210526315,
          0.968421052631579,
          0.9578947368421052,
          0.9578947368421052,
          0.968421052631579,
          0.9578947368421052,
          0.9473684210526315
         ],
         "yaxis": "y2"
        }
       ],
       "layout": {
        "legend": {
         "font": {
          "color": "black",
          "size": 12
         },
         "x": 0.75,
         "y": 0.45
        },
        "template": {
         "data": {
          "bar": [
           {
            "error_x": {
             "color": "#2a3f5f"
            },
            "error_y": {
             "color": "#2a3f5f"
            },
            "marker": {
             "line": {
              "color": "#E5ECF6",
              "width": 0.5
             },
             "pattern": {
              "fillmode": "overlay",
              "size": 10,
              "solidity": 0.2
             }
            },
            "type": "bar"
           }
          ],
          "barpolar": [
           {
            "marker": {
             "line": {
              "color": "#E5ECF6",
              "width": 0.5
             },
             "pattern": {
              "fillmode": "overlay",
              "size": 10,
              "solidity": 0.2
             }
            },
            "type": "barpolar"
           }
          ],
          "carpet": [
           {
            "aaxis": {
             "endlinecolor": "#2a3f5f",
             "gridcolor": "white",
             "linecolor": "white",
             "minorgridcolor": "white",
             "startlinecolor": "#2a3f5f"
            },
            "baxis": {
             "endlinecolor": "#2a3f5f",
             "gridcolor": "white",
             "linecolor": "white",
             "minorgridcolor": "white",
             "startlinecolor": "#2a3f5f"
            },
            "type": "carpet"
           }
          ],
          "choropleth": [
           {
            "colorbar": {
             "outlinewidth": 0,
             "ticks": ""
            },
            "type": "choropleth"
           }
          ],
          "contour": [
           {
            "colorbar": {
             "outlinewidth": 0,
             "ticks": ""
            },
            "colorscale": [
             [
              0,
              "#0d0887"
             ],
             [
              0.1111111111111111,
              "#46039f"
             ],
             [
              0.2222222222222222,
              "#7201a8"
             ],
             [
              0.3333333333333333,
              "#9c179e"
             ],
             [
              0.4444444444444444,
              "#bd3786"
             ],
             [
              0.5555555555555556,
              "#d8576b"
             ],
             [
              0.6666666666666666,
              "#ed7953"
             ],
             [
              0.7777777777777778,
              "#fb9f3a"
             ],
             [
              0.8888888888888888,
              "#fdca26"
             ],
             [
              1,
              "#f0f921"
             ]
            ],
            "type": "contour"
           }
          ],
          "contourcarpet": [
           {
            "colorbar": {
             "outlinewidth": 0,
             "ticks": ""
            },
            "type": "contourcarpet"
           }
          ],
          "heatmap": [
           {
            "colorbar": {
             "outlinewidth": 0,
             "ticks": ""
            },
            "colorscale": [
             [
              0,
              "#0d0887"
             ],
             [
              0.1111111111111111,
              "#46039f"
             ],
             [
              0.2222222222222222,
              "#7201a8"
             ],
             [
              0.3333333333333333,
              "#9c179e"
             ],
             [
              0.4444444444444444,
              "#bd3786"
             ],
             [
              0.5555555555555556,
              "#d8576b"
             ],
             [
              0.6666666666666666,
              "#ed7953"
             ],
             [
              0.7777777777777778,
              "#fb9f3a"
             ],
             [
              0.8888888888888888,
              "#fdca26"
             ],
             [
              1,
              "#f0f921"
             ]
            ],
            "type": "heatmap"
           }
          ],
          "heatmapgl": [
           {
            "colorbar": {
             "outlinewidth": 0,
             "ticks": ""
            },
            "colorscale": [
             [
              0,
              "#0d0887"
             ],
             [
              0.1111111111111111,
              "#46039f"
             ],
             [
              0.2222222222222222,
              "#7201a8"
             ],
             [
              0.3333333333333333,
              "#9c179e"
             ],
             [
              0.4444444444444444,
              "#bd3786"
             ],
             [
              0.5555555555555556,
              "#d8576b"
             ],
             [
              0.6666666666666666,
              "#ed7953"
             ],
             [
              0.7777777777777778,
              "#fb9f3a"
             ],
             [
              0.8888888888888888,
              "#fdca26"
             ],
             [
              1,
              "#f0f921"
             ]
            ],
            "type": "heatmapgl"
           }
          ],
          "histogram": [
           {
            "marker": {
             "pattern": {
              "fillmode": "overlay",
              "size": 10,
              "solidity": 0.2
             }
            },
            "type": "histogram"
           }
          ],
          "histogram2d": [
           {
            "colorbar": {
             "outlinewidth": 0,
             "ticks": ""
            },
            "colorscale": [
             [
              0,
              "#0d0887"
             ],
             [
              0.1111111111111111,
              "#46039f"
             ],
             [
              0.2222222222222222,
              "#7201a8"
             ],
             [
              0.3333333333333333,
              "#9c179e"
             ],
             [
              0.4444444444444444,
              "#bd3786"
             ],
             [
              0.5555555555555556,
              "#d8576b"
             ],
             [
              0.6666666666666666,
              "#ed7953"
             ],
             [
              0.7777777777777778,
              "#fb9f3a"
             ],
             [
              0.8888888888888888,
              "#fdca26"
             ],
             [
              1,
              "#f0f921"
             ]
            ],
            "type": "histogram2d"
           }
          ],
          "histogram2dcontour": [
           {
            "colorbar": {
             "outlinewidth": 0,
             "ticks": ""
            },
            "colorscale": [
             [
              0,
              "#0d0887"
             ],
             [
              0.1111111111111111,
              "#46039f"
             ],
             [
              0.2222222222222222,
              "#7201a8"
             ],
             [
              0.3333333333333333,
              "#9c179e"
             ],
             [
              0.4444444444444444,
              "#bd3786"
             ],
             [
              0.5555555555555556,
              "#d8576b"
             ],
             [
              0.6666666666666666,
              "#ed7953"
             ],
             [
              0.7777777777777778,
              "#fb9f3a"
             ],
             [
              0.8888888888888888,
              "#fdca26"
             ],
             [
              1,
              "#f0f921"
             ]
            ],
            "type": "histogram2dcontour"
           }
          ],
          "mesh3d": [
           {
            "colorbar": {
             "outlinewidth": 0,
             "ticks": ""
            },
            "type": "mesh3d"
           }
          ],
          "parcoords": [
           {
            "line": {
             "colorbar": {
              "outlinewidth": 0,
              "ticks": ""
             }
            },
            "type": "parcoords"
           }
          ],
          "pie": [
           {
            "automargin": true,
            "type": "pie"
           }
          ],
          "scatter": [
           {
            "fillpattern": {
             "fillmode": "overlay",
             "size": 10,
             "solidity": 0.2
            },
            "type": "scatter"
           }
          ],
          "scatter3d": [
           {
            "line": {
             "colorbar": {
              "outlinewidth": 0,
              "ticks": ""
             }
            },
            "marker": {
             "colorbar": {
              "outlinewidth": 0,
              "ticks": ""
             }
            },
            "type": "scatter3d"
           }
          ],
          "scattercarpet": [
           {
            "marker": {
             "colorbar": {
              "outlinewidth": 0,
              "ticks": ""
             }
            },
            "type": "scattercarpet"
           }
          ],
          "scattergeo": [
           {
            "marker": {
             "colorbar": {
              "outlinewidth": 0,
              "ticks": ""
             }
            },
            "type": "scattergeo"
           }
          ],
          "scattergl": [
           {
            "marker": {
             "colorbar": {
              "outlinewidth": 0,
              "ticks": ""
             }
            },
            "type": "scattergl"
           }
          ],
          "scattermapbox": [
           {
            "marker": {
             "colorbar": {
              "outlinewidth": 0,
              "ticks": ""
             }
            },
            "type": "scattermapbox"
           }
          ],
          "scatterpolar": [
           {
            "marker": {
             "colorbar": {
              "outlinewidth": 0,
              "ticks": ""
             }
            },
            "type": "scatterpolar"
           }
          ],
          "scatterpolargl": [
           {
            "marker": {
             "colorbar": {
              "outlinewidth": 0,
              "ticks": ""
             }
            },
            "type": "scatterpolargl"
           }
          ],
          "scatterternary": [
           {
            "marker": {
             "colorbar": {
              "outlinewidth": 0,
              "ticks": ""
             }
            },
            "type": "scatterternary"
           }
          ],
          "surface": [
           {
            "colorbar": {
             "outlinewidth": 0,
             "ticks": ""
            },
            "colorscale": [
             [
              0,
              "#0d0887"
             ],
             [
              0.1111111111111111,
              "#46039f"
             ],
             [
              0.2222222222222222,
              "#7201a8"
             ],
             [
              0.3333333333333333,
              "#9c179e"
             ],
             [
              0.4444444444444444,
              "#bd3786"
             ],
             [
              0.5555555555555556,
              "#d8576b"
             ],
             [
              0.6666666666666666,
              "#ed7953"
             ],
             [
              0.7777777777777778,
              "#fb9f3a"
             ],
             [
              0.8888888888888888,
              "#fdca26"
             ],
             [
              1,
              "#f0f921"
             ]
            ],
            "type": "surface"
           }
          ],
          "table": [
           {
            "cells": {
             "fill": {
              "color": "#EBF0F8"
             },
             "line": {
              "color": "white"
             }
            },
            "header": {
             "fill": {
              "color": "#C8D4E3"
             },
             "line": {
              "color": "white"
             }
            },
            "type": "table"
           }
          ]
         },
         "layout": {
          "annotationdefaults": {
           "arrowcolor": "#2a3f5f",
           "arrowhead": 0,
           "arrowwidth": 1
          },
          "autotypenumbers": "strict",
          "coloraxis": {
           "colorbar": {
            "outlinewidth": 0,
            "ticks": ""
           }
          },
          "colorscale": {
           "diverging": [
            [
             0,
             "#8e0152"
            ],
            [
             0.1,
             "#c51b7d"
            ],
            [
             0.2,
             "#de77ae"
            ],
            [
             0.3,
             "#f1b6da"
            ],
            [
             0.4,
             "#fde0ef"
            ],
            [
             0.5,
             "#f7f7f7"
            ],
            [
             0.6,
             "#e6f5d0"
            ],
            [
             0.7,
             "#b8e186"
            ],
            [
             0.8,
             "#7fbc41"
            ],
            [
             0.9,
             "#4d9221"
            ],
            [
             1,
             "#276419"
            ]
           ],
           "sequential": [
            [
             0,
             "#0d0887"
            ],
            [
             0.1111111111111111,
             "#46039f"
            ],
            [
             0.2222222222222222,
             "#7201a8"
            ],
            [
             0.3333333333333333,
             "#9c179e"
            ],
            [
             0.4444444444444444,
             "#bd3786"
            ],
            [
             0.5555555555555556,
             "#d8576b"
            ],
            [
             0.6666666666666666,
             "#ed7953"
            ],
            [
             0.7777777777777778,
             "#fb9f3a"
            ],
            [
             0.8888888888888888,
             "#fdca26"
            ],
            [
             1,
             "#f0f921"
            ]
           ],
           "sequentialminus": [
            [
             0,
             "#0d0887"
            ],
            [
             0.1111111111111111,
             "#46039f"
            ],
            [
             0.2222222222222222,
             "#7201a8"
            ],
            [
             0.3333333333333333,
             "#9c179e"
            ],
            [
             0.4444444444444444,
             "#bd3786"
            ],
            [
             0.5555555555555556,
             "#d8576b"
            ],
            [
             0.6666666666666666,
             "#ed7953"
            ],
            [
             0.7777777777777778,
             "#fb9f3a"
            ],
            [
             0.8888888888888888,
             "#fdca26"
            ],
            [
             1,
             "#f0f921"
            ]
           ]
          },
          "colorway": [
           "#636efa",
           "#EF553B",
           "#00cc96",
           "#ab63fa",
           "#FFA15A",
           "#19d3f3",
           "#FF6692",
           "#B6E880",
           "#FF97FF",
           "#FECB52"
          ],
          "font": {
           "color": "#2a3f5f"
          },
          "geo": {
           "bgcolor": "white",
           "lakecolor": "white",
           "landcolor": "#E5ECF6",
           "showlakes": true,
           "showland": true,
           "subunitcolor": "white"
          },
          "hoverlabel": {
           "align": "left"
          },
          "hovermode": "closest",
          "mapbox": {
           "style": "light"
          },
          "paper_bgcolor": "white",
          "plot_bgcolor": "#E5ECF6",
          "polar": {
           "angularaxis": {
            "gridcolor": "white",
            "linecolor": "white",
            "ticks": ""
           },
           "bgcolor": "#E5ECF6",
           "radialaxis": {
            "gridcolor": "white",
            "linecolor": "white",
            "ticks": ""
           }
          },
          "scene": {
           "xaxis": {
            "backgroundcolor": "#E5ECF6",
            "gridcolor": "white",
            "gridwidth": 2,
            "linecolor": "white",
            "showbackground": true,
            "ticks": "",
            "zerolinecolor": "white"
           },
           "yaxis": {
            "backgroundcolor": "#E5ECF6",
            "gridcolor": "white",
            "gridwidth": 2,
            "linecolor": "white",
            "showbackground": true,
            "ticks": "",
            "zerolinecolor": "white"
           },
           "zaxis": {
            "backgroundcolor": "#E5ECF6",
            "gridcolor": "white",
            "gridwidth": 2,
            "linecolor": "white",
            "showbackground": true,
            "ticks": "",
            "zerolinecolor": "white"
           }
          },
          "shapedefaults": {
           "line": {
            "color": "#2a3f5f"
           }
          },
          "ternary": {
           "aaxis": {
            "gridcolor": "white",
            "linecolor": "white",
            "ticks": ""
           },
           "baxis": {
            "gridcolor": "white",
            "linecolor": "white",
            "ticks": ""
           },
           "bgcolor": "#E5ECF6",
           "caxis": {
            "gridcolor": "white",
            "linecolor": "white",
            "ticks": ""
           }
          },
          "title": {
           "x": 0.05
          },
          "xaxis": {
           "automargin": true,
           "gridcolor": "white",
           "linecolor": "white",
           "ticks": "",
           "title": {
            "standoff": 15
           },
           "zerolinecolor": "white",
           "zerolinewidth": 2
          },
          "yaxis": {
           "automargin": true,
           "gridcolor": "white",
           "linecolor": "white",
           "ticks": "",
           "title": {
            "standoff": 15
           },
           "zerolinecolor": "white",
           "zerolinewidth": 2
          }
         }
        },
        "xaxis": {
         "title": {
          "text": "Epoch"
         }
        },
        "yaxis": {
         "title": {
          "text": "MSE Loss"
         }
        },
        "yaxis2": {
         "overlaying": "y",
         "range": [
          0.85,
          1
         ],
         "side": "right",
         "title": {
          "text": "Accuracy"
         }
        }
       }
      },
      "text/html": [
       "<div>                            <div id=\"916cd0b1-3e84-4caf-86bf-d0aba79f541b\" class=\"plotly-graph-div\" style=\"height:525px; width:100%;\"></div>            <script type=\"text/javascript\">                require([\"plotly\"], function(Plotly) {                    window.PLOTLYENV=window.PLOTLYENV || {};                                    if (document.getElementById(\"916cd0b1-3e84-4caf-86bf-d0aba79f541b\")) {                    Plotly.newPlot(                        \"916cd0b1-3e84-4caf-86bf-d0aba79f541b\",                        [{\"mode\":\"lines+markers\",\"name\":\"Train Loss\",\"x\":[1,2,3,4,5,6,7,8,9,10,11,12,13,14,15,16,17,18,19,20,21,22,23,24,25,26,27,28,29,30,31,32,33,34,35,36,37,38,39,40,41,42,43,44,45,46,47,48,49,50,51,52,53,54,55,56,57,58,59,60,61,62,63,64,65,66,67,68,69,70,71,72,73,74,75,76,77,78,79,80,81,82,83,84,85,86,87,88,89,90,91,92,93,94,95,96,97,98,99,100],\"xaxis\":\"x\",\"y\":[0.052882617694281396,0.0374606718264875,0.02804327395833319,0.023458098704438834,0.02053872025793507,0.017850768963052405,0.015814975574834363,0.01419491233814153,0.01277495035347307,0.011933120882271655,0.010803182736881786,0.00992968573146278,0.009177669627769362,0.008647018979813549,0.007956714532892442,0.007476947048590297,0.007286044037235635,0.007048141865414523,0.006643453648956936,0.006325098336674273,0.006174816353623534,0.005876350324667458,0.0054205447931530044,0.005454129486766067,0.005335461899882094,0.005156161072331348,0.00469615385082718,0.0047011418958261076,0.004503818856652028,0.004378052076346995,0.004497015524893663,0.0043511337873742995,0.004450515610396974,0.00398633432175432,0.003974499488494506,0.0037949495458681334,0.0036199722242982765,0.0035682414360764555,0.0034322137685310573,0.003347780325807127,0.003212886563103114,0.0032700494731797425,0.0030334703881587637,0.0030240425146780066,0.0028997056792346636,0.0028103519294102835,0.0030045021699979567,0.0026742381225795227,0.002600489405186889,0.002489288038262551,0.002493076573504149,0.0024095221037479272,0.002400992874623297,0.002233835856633303,0.002331281876667662,0.0021262323811188115,0.002123417460212582,0.002008980607151761,0.002061157662218395,0.001891793834073539,0.001856050810678617,0.0020397877945613706,0.001880565083618941,0.001762701834979138,0.0018263820058988282,0.001775280484243443,0.0017363534435013632,0.0016770877716957794,0.001587087721073706,0.0016303225611231493,0.0015219871788040588,0.0015751319079610863,0.0015724225464290975,0.0013813063803415997,0.0015324183652191457,0.0013128985146662795,0.0016327976798848774,0.0013204516755430994,0.0014342901004562364,0.0012983923550359065,0.0012416375639911434,0.0013393177454800982,0.001200996026225192,0.0011527393896419806,0.0011434428104990743,0.0011196245106297748,0.0011071464806599051,0.0010457418939970517,0.0011916548591387227,0.0011555107252644305,0.0009455430219860229,0.0010107004281511545,0.0009639335410665945,0.0009576181270605779,0.0008957259430501022,0.0009193237809660403,0.0009417832165578366,0.0009357218247447933,0.0009089691773638185,0.000892750869498105],\"yaxis\":\"y\",\"type\":\"scatter\"},{\"mode\":\"lines+markers\",\"name\":\"Valid MSE\",\"x\":[1.5,2.5,3.5,4.5,5.5,6.5,7.5,8.5,9.5,10.5,11.5,12.5,13.5,14.5,15.5,16.5,17.5,18.5,19.5,20.5,21.5,22.5,23.5,24.5,25.5,26.5,27.5,28.5,29.5,30.5,31.5,32.5,33.5,34.5,35.5,36.5,37.5,38.5,39.5,40.5,41.5,42.5,43.5,44.5,45.5,46.5,47.5,48.5,49.5,50.5,51.5,52.5,53.5,54.5,55.5,56.5,57.5,58.5,59.5,60.5,61.5,62.5,63.5,64.5,65.5,66.5,67.5,68.5,69.5,70.5,71.5,72.5,73.5,74.5,75.5,76.5,77.5,78.5,79.5,80.5,81.5,82.5,83.5,84.5,85.5,86.5,87.5,88.5,89.5,90.5,91.5,92.5,93.5,94.5,95.5,96.5,97.5,98.5,99.5,100.5],\"xaxis\":\"x\",\"y\":[0.05776848647537952,0.03951898641136385,0.03195742333641454,0.028742911983670197,0.026442593274969353,0.02430838263386462,0.02317109235607144,0.0225951649450323,0.021279675084131488,0.02183776370502249,0.0227135568653487,0.02005096437103653,0.019800280980430796,0.019511586812077004,0.01880463319609083,0.018947165952710815,0.0186783945341122,0.01927433982185142,0.01800381125241346,0.017915667890123395,0.018177852916841326,0.017457677798758762,0.017127534577326308,0.018595468704961773,0.017297220095360093,0.018164935666702648,0.016691286061415185,0.017101208264411544,0.01677707768028394,0.018424894298719956,0.01620249266362455,0.016666505543827568,0.016306312554240178,0.016939412851627964,0.01708599450587491,0.017292380373079428,0.016660696557071215,0.01681197406808343,0.017110651700319356,0.017627447151340004,0.01574727283655911,0.016051356503694,0.016984142754288195,0.01703275470365617,0.01662354382207061,0.015817216941382196,0.0174076041918421,0.01685550892055433,0.0169723866032942,0.016950928349763816,0.01661857510105045,0.01701003581401892,0.016570864610893247,0.01659077129186603,0.017036224084547844,0.016463195203687064,0.016282227032015248,0.017602039218955295,0.016696852318579515,0.017896976963981473,0.017293787143286242,0.016830057457991644,0.01706730450371795,0.016751786486374362,0.01654217420532644,0.01729416857664259,0.017001357980993097,0.016315193361438822,0.017345993312866133,0.016642484590977946,0.016314990558327594,0.017028151373884422,0.017237517770670247,0.017281158794953386,0.017474782842739508,0.01773352865801778,0.017508028060393897,0.01758913876334478,0.016810039050592182,0.016895603927188953,0.01861380114435298,0.01791329998277912,0.017974477178875913,0.017565266388641917,0.01780408938761148,0.017765165589030643,0.018076276768682106,0.017490180263580683,0.017454900603288002,0.01781592262239811,0.017871044950688406,0.018960922548247158,0.017940086580098356,0.018409546449057464,0.017469334304328905,0.01724905026089082,0.01748991528676063,0.01772620868133871,0.017659288654517456,0.01801336193819129],\"yaxis\":\"y\",\"type\":\"scatter\"},{\"mode\":\"lines+markers\",\"name\":\"Test Accuracy\",\"x\":[1,2,3,4,5,6,7,8,9,10,11,12,13,14,15,16,17,18,19,20,21,22,23,24,25,26,27,28,29,30,31,32,33,34,35,36,37,38,39,40,41,42,43,44,45,46,47,48,49,50,51,52,53,54,55,56,57,58,59,60,61,62,63,64,65,66,67,68,69,70,71,72,73,74,75,76,77,78,79,80,81,82,83,84,85,86,87,88,89,90,91,92,93,94,95,96,97,98,99,100],\"xaxis\":\"x\",\"y\":[0.8842105263157894,0.9263157894736842,0.9157894736842105,0.9263157894736842,0.9368421052631579,0.9473684210526315,0.9473684210526315,0.968421052631579,0.9789473684210527,0.9578947368421052,0.968421052631579,0.968421052631579,0.9578947368421052,0.968421052631579,0.968421052631579,0.9578947368421052,0.968421052631579,0.9578947368421052,0.968421052631579,0.968421052631579,0.968421052631579,0.9789473684210527,0.9789473684210527,0.968421052631579,0.968421052631579,0.9789473684210527,0.968421052631579,0.968421052631579,0.9789473684210527,0.968421052631579,0.968421052631579,0.968421052631579,0.968421052631579,0.968421052631579,0.968421052631579,0.968421052631579,0.968421052631579,0.968421052631579,0.968421052631579,0.968421052631579,0.9789473684210527,0.968421052631579,0.968421052631579,0.9578947368421052,0.9578947368421052,0.9789473684210527,0.9578947368421052,0.9578947368421052,0.9789473684210527,0.9578947368421052,0.9578947368421052,0.9789473684210527,0.9473684210526315,0.968421052631579,0.9578947368421052,0.968421052631579,0.968421052631579,0.968421052631579,0.968421052631579,0.968421052631579,0.9578947368421052,0.968421052631579,0.9578947368421052,0.968421052631579,0.9578947368421052,0.9578947368421052,0.9578947368421052,0.9578947368421052,0.9578947368421052,0.9578947368421052,0.9578947368421052,0.9578947368421052,0.9578947368421052,0.9578947368421052,0.9578947368421052,0.968421052631579,0.9578947368421052,0.9578947368421052,0.9789473684210527,0.968421052631579,0.968421052631579,0.9578947368421052,0.9578947368421052,0.968421052631579,0.968421052631579,0.968421052631579,0.968421052631579,0.9578947368421052,0.968421052631579,0.9578947368421052,0.968421052631579,0.968421052631579,0.9578947368421052,0.9473684210526315,0.968421052631579,0.9578947368421052,0.9578947368421052,0.968421052631579,0.9578947368421052,0.9473684210526315],\"yaxis\":\"y2\",\"type\":\"scatter\"}],                        {\"legend\":{\"font\":{\"color\":\"black\",\"size\":12},\"x\":0.75,\"y\":0.45},\"xaxis\":{\"title\":{\"text\":\"Epoch\"}},\"yaxis\":{\"title\":{\"text\":\"MSE Loss\"}},\"yaxis2\":{\"overlaying\":\"y\",\"range\":[0.85,1.0],\"side\":\"right\",\"title\":{\"text\":\"Accuracy\"}},\"template\":{\"data\":{\"histogram2dcontour\":[{\"type\":\"histogram2dcontour\",\"colorbar\":{\"outlinewidth\":0,\"ticks\":\"\"},\"colorscale\":[[0.0,\"#0d0887\"],[0.1111111111111111,\"#46039f\"],[0.2222222222222222,\"#7201a8\"],[0.3333333333333333,\"#9c179e\"],[0.4444444444444444,\"#bd3786\"],[0.5555555555555556,\"#d8576b\"],[0.6666666666666666,\"#ed7953\"],[0.7777777777777778,\"#fb9f3a\"],[0.8888888888888888,\"#fdca26\"],[1.0,\"#f0f921\"]]}],\"choropleth\":[{\"type\":\"choropleth\",\"colorbar\":{\"outlinewidth\":0,\"ticks\":\"\"}}],\"histogram2d\":[{\"type\":\"histogram2d\",\"colorbar\":{\"outlinewidth\":0,\"ticks\":\"\"},\"colorscale\":[[0.0,\"#0d0887\"],[0.1111111111111111,\"#46039f\"],[0.2222222222222222,\"#7201a8\"],[0.3333333333333333,\"#9c179e\"],[0.4444444444444444,\"#bd3786\"],[0.5555555555555556,\"#d8576b\"],[0.6666666666666666,\"#ed7953\"],[0.7777777777777778,\"#fb9f3a\"],[0.8888888888888888,\"#fdca26\"],[1.0,\"#f0f921\"]]}],\"heatmap\":[{\"type\":\"heatmap\",\"colorbar\":{\"outlinewidth\":0,\"ticks\":\"\"},\"colorscale\":[[0.0,\"#0d0887\"],[0.1111111111111111,\"#46039f\"],[0.2222222222222222,\"#7201a8\"],[0.3333333333333333,\"#9c179e\"],[0.4444444444444444,\"#bd3786\"],[0.5555555555555556,\"#d8576b\"],[0.6666666666666666,\"#ed7953\"],[0.7777777777777778,\"#fb9f3a\"],[0.8888888888888888,\"#fdca26\"],[1.0,\"#f0f921\"]]}],\"heatmapgl\":[{\"type\":\"heatmapgl\",\"colorbar\":{\"outlinewidth\":0,\"ticks\":\"\"},\"colorscale\":[[0.0,\"#0d0887\"],[0.1111111111111111,\"#46039f\"],[0.2222222222222222,\"#7201a8\"],[0.3333333333333333,\"#9c179e\"],[0.4444444444444444,\"#bd3786\"],[0.5555555555555556,\"#d8576b\"],[0.6666666666666666,\"#ed7953\"],[0.7777777777777778,\"#fb9f3a\"],[0.8888888888888888,\"#fdca26\"],[1.0,\"#f0f921\"]]}],\"contourcarpet\":[{\"type\":\"contourcarpet\",\"colorbar\":{\"outlinewidth\":0,\"ticks\":\"\"}}],\"contour\":[{\"type\":\"contour\",\"colorbar\":{\"outlinewidth\":0,\"ticks\":\"\"},\"colorscale\":[[0.0,\"#0d0887\"],[0.1111111111111111,\"#46039f\"],[0.2222222222222222,\"#7201a8\"],[0.3333333333333333,\"#9c179e\"],[0.4444444444444444,\"#bd3786\"],[0.5555555555555556,\"#d8576b\"],[0.6666666666666666,\"#ed7953\"],[0.7777777777777778,\"#fb9f3a\"],[0.8888888888888888,\"#fdca26\"],[1.0,\"#f0f921\"]]}],\"surface\":[{\"type\":\"surface\",\"colorbar\":{\"outlinewidth\":0,\"ticks\":\"\"},\"colorscale\":[[0.0,\"#0d0887\"],[0.1111111111111111,\"#46039f\"],[0.2222222222222222,\"#7201a8\"],[0.3333333333333333,\"#9c179e\"],[0.4444444444444444,\"#bd3786\"],[0.5555555555555556,\"#d8576b\"],[0.6666666666666666,\"#ed7953\"],[0.7777777777777778,\"#fb9f3a\"],[0.8888888888888888,\"#fdca26\"],[1.0,\"#f0f921\"]]}],\"mesh3d\":[{\"type\":\"mesh3d\",\"colorbar\":{\"outlinewidth\":0,\"ticks\":\"\"}}],\"scatter\":[{\"fillpattern\":{\"fillmode\":\"overlay\",\"size\":10,\"solidity\":0.2},\"type\":\"scatter\"}],\"parcoords\":[{\"type\":\"parcoords\",\"line\":{\"colorbar\":{\"outlinewidth\":0,\"ticks\":\"\"}}}],\"scatterpolargl\":[{\"type\":\"scatterpolargl\",\"marker\":{\"colorbar\":{\"outlinewidth\":0,\"ticks\":\"\"}}}],\"bar\":[{\"error_x\":{\"color\":\"#2a3f5f\"},\"error_y\":{\"color\":\"#2a3f5f\"},\"marker\":{\"line\":{\"color\":\"#E5ECF6\",\"width\":0.5},\"pattern\":{\"fillmode\":\"overlay\",\"size\":10,\"solidity\":0.2}},\"type\":\"bar\"}],\"scattergeo\":[{\"type\":\"scattergeo\",\"marker\":{\"colorbar\":{\"outlinewidth\":0,\"ticks\":\"\"}}}],\"scatterpolar\":[{\"type\":\"scatterpolar\",\"marker\":{\"colorbar\":{\"outlinewidth\":0,\"ticks\":\"\"}}}],\"histogram\":[{\"marker\":{\"pattern\":{\"fillmode\":\"overlay\",\"size\":10,\"solidity\":0.2}},\"type\":\"histogram\"}],\"scattergl\":[{\"type\":\"scattergl\",\"marker\":{\"colorbar\":{\"outlinewidth\":0,\"ticks\":\"\"}}}],\"scatter3d\":[{\"type\":\"scatter3d\",\"line\":{\"colorbar\":{\"outlinewidth\":0,\"ticks\":\"\"}},\"marker\":{\"colorbar\":{\"outlinewidth\":0,\"ticks\":\"\"}}}],\"scattermapbox\":[{\"type\":\"scattermapbox\",\"marker\":{\"colorbar\":{\"outlinewidth\":0,\"ticks\":\"\"}}}],\"scatterternary\":[{\"type\":\"scatterternary\",\"marker\":{\"colorbar\":{\"outlinewidth\":0,\"ticks\":\"\"}}}],\"scattercarpet\":[{\"type\":\"scattercarpet\",\"marker\":{\"colorbar\":{\"outlinewidth\":0,\"ticks\":\"\"}}}],\"carpet\":[{\"aaxis\":{\"endlinecolor\":\"#2a3f5f\",\"gridcolor\":\"white\",\"linecolor\":\"white\",\"minorgridcolor\":\"white\",\"startlinecolor\":\"#2a3f5f\"},\"baxis\":{\"endlinecolor\":\"#2a3f5f\",\"gridcolor\":\"white\",\"linecolor\":\"white\",\"minorgridcolor\":\"white\",\"startlinecolor\":\"#2a3f5f\"},\"type\":\"carpet\"}],\"table\":[{\"cells\":{\"fill\":{\"color\":\"#EBF0F8\"},\"line\":{\"color\":\"white\"}},\"header\":{\"fill\":{\"color\":\"#C8D4E3\"},\"line\":{\"color\":\"white\"}},\"type\":\"table\"}],\"barpolar\":[{\"marker\":{\"line\":{\"color\":\"#E5ECF6\",\"width\":0.5},\"pattern\":{\"fillmode\":\"overlay\",\"size\":10,\"solidity\":0.2}},\"type\":\"barpolar\"}],\"pie\":[{\"automargin\":true,\"type\":\"pie\"}]},\"layout\":{\"autotypenumbers\":\"strict\",\"colorway\":[\"#636efa\",\"#EF553B\",\"#00cc96\",\"#ab63fa\",\"#FFA15A\",\"#19d3f3\",\"#FF6692\",\"#B6E880\",\"#FF97FF\",\"#FECB52\"],\"font\":{\"color\":\"#2a3f5f\"},\"hovermode\":\"closest\",\"hoverlabel\":{\"align\":\"left\"},\"paper_bgcolor\":\"white\",\"plot_bgcolor\":\"#E5ECF6\",\"polar\":{\"bgcolor\":\"#E5ECF6\",\"angularaxis\":{\"gridcolor\":\"white\",\"linecolor\":\"white\",\"ticks\":\"\"},\"radialaxis\":{\"gridcolor\":\"white\",\"linecolor\":\"white\",\"ticks\":\"\"}},\"ternary\":{\"bgcolor\":\"#E5ECF6\",\"aaxis\":{\"gridcolor\":\"white\",\"linecolor\":\"white\",\"ticks\":\"\"},\"baxis\":{\"gridcolor\":\"white\",\"linecolor\":\"white\",\"ticks\":\"\"},\"caxis\":{\"gridcolor\":\"white\",\"linecolor\":\"white\",\"ticks\":\"\"}},\"coloraxis\":{\"colorbar\":{\"outlinewidth\":0,\"ticks\":\"\"}},\"colorscale\":{\"sequential\":[[0.0,\"#0d0887\"],[0.1111111111111111,\"#46039f\"],[0.2222222222222222,\"#7201a8\"],[0.3333333333333333,\"#9c179e\"],[0.4444444444444444,\"#bd3786\"],[0.5555555555555556,\"#d8576b\"],[0.6666666666666666,\"#ed7953\"],[0.7777777777777778,\"#fb9f3a\"],[0.8888888888888888,\"#fdca26\"],[1.0,\"#f0f921\"]],\"sequentialminus\":[[0.0,\"#0d0887\"],[0.1111111111111111,\"#46039f\"],[0.2222222222222222,\"#7201a8\"],[0.3333333333333333,\"#9c179e\"],[0.4444444444444444,\"#bd3786\"],[0.5555555555555556,\"#d8576b\"],[0.6666666666666666,\"#ed7953\"],[0.7777777777777778,\"#fb9f3a\"],[0.8888888888888888,\"#fdca26\"],[1.0,\"#f0f921\"]],\"diverging\":[[0,\"#8e0152\"],[0.1,\"#c51b7d\"],[0.2,\"#de77ae\"],[0.3,\"#f1b6da\"],[0.4,\"#fde0ef\"],[0.5,\"#f7f7f7\"],[0.6,\"#e6f5d0\"],[0.7,\"#b8e186\"],[0.8,\"#7fbc41\"],[0.9,\"#4d9221\"],[1,\"#276419\"]]},\"xaxis\":{\"gridcolor\":\"white\",\"linecolor\":\"white\",\"ticks\":\"\",\"title\":{\"standoff\":15},\"zerolinecolor\":\"white\",\"automargin\":true,\"zerolinewidth\":2},\"yaxis\":{\"gridcolor\":\"white\",\"linecolor\":\"white\",\"ticks\":\"\",\"title\":{\"standoff\":15},\"zerolinecolor\":\"white\",\"automargin\":true,\"zerolinewidth\":2},\"scene\":{\"xaxis\":{\"backgroundcolor\":\"#E5ECF6\",\"gridcolor\":\"white\",\"linecolor\":\"white\",\"showbackground\":true,\"ticks\":\"\",\"zerolinecolor\":\"white\",\"gridwidth\":2},\"yaxis\":{\"backgroundcolor\":\"#E5ECF6\",\"gridcolor\":\"white\",\"linecolor\":\"white\",\"showbackground\":true,\"ticks\":\"\",\"zerolinecolor\":\"white\",\"gridwidth\":2},\"zaxis\":{\"backgroundcolor\":\"#E5ECF6\",\"gridcolor\":\"white\",\"linecolor\":\"white\",\"showbackground\":true,\"ticks\":\"\",\"zerolinecolor\":\"white\",\"gridwidth\":2}},\"shapedefaults\":{\"line\":{\"color\":\"#2a3f5f\"}},\"annotationdefaults\":{\"arrowcolor\":\"#2a3f5f\",\"arrowhead\":0,\"arrowwidth\":1},\"geo\":{\"bgcolor\":\"white\",\"landcolor\":\"#E5ECF6\",\"subunitcolor\":\"white\",\"showland\":true,\"showlakes\":true,\"lakecolor\":\"white\"},\"title\":{\"x\":0.05},\"mapbox\":{\"style\":\"light\"}}}},                        {\"responsive\": true}                    ).then(function(){\n",
       "                            \n",
       "var gd = document.getElementById('916cd0b1-3e84-4caf-86bf-d0aba79f541b');\n",
       "var x = new MutationObserver(function (mutations, observer) {{\n",
       "        var display = window.getComputedStyle(gd).display;\n",
       "        if (!display || display === 'none') {{\n",
       "            console.log([gd, 'removed!']);\n",
       "            Plotly.purge(gd);\n",
       "            observer.disconnect();\n",
       "        }}\n",
       "}});\n",
       "\n",
       "// Listen for the removal of the full notebook cells\n",
       "var notebookContainer = gd.closest('#notebook-container');\n",
       "if (notebookContainer) {{\n",
       "    x.observe(notebookContainer, {childList: true});\n",
       "}}\n",
       "\n",
       "// Listen for the clearing of the current output cell\n",
       "var outputEl = gd.closest('.output');\n",
       "if (outputEl) {{\n",
       "    x.observe(outputEl, {childList: true});\n",
       "}}\n",
       "\n",
       "                        })                };                });            </script>        </div>"
      ]
     },
     "metadata": {},
     "output_type": "display_data"
    }
   ],
   "source": [
    "def plot_training_history(model_name = \"mean_256\", trained_epoches = 10):\n",
    "    epoches = list(range(1, trained_epoches + 1))\n",
    "    train_losses = []\n",
    "    test_losses = []\n",
    "    test_accs = []\n",
    "    for epoch in tqdm(range(1, trained_epoches+1)):\n",
    "        checkpoint = torch.load(MODEL_PATH / f\"model_{model_name}_epoch{epoch}.pth\")\n",
    "        train_losses.append(checkpoint[\"train_mse\"])\n",
    "        test_losses.append(checkpoint[\"valid_mse\"])\n",
    "        test_accs.append(checkpoint[\"test_acc\"])\n",
    "    \n",
    "    trace1 = go.Scatter(\n",
    "        x = epoches,\n",
    "        y = train_losses,\n",
    "        name= \"Train Loss\",\n",
    "        xaxis='x',\n",
    "        yaxis='y1',\n",
    "        mode='lines+markers'\n",
    "    )\n",
    "    trace2 = go.Scatter(\n",
    "        x = [epoch + 0.5 for epoch in epoches],\n",
    "        y = test_losses,\n",
    "        name= \"Valid MSE\",\n",
    "        xaxis='x', \n",
    "        yaxis='y1',\n",
    "        mode='lines+markers'\n",
    "    )\n",
    "    trace3 = go.Scatter(\n",
    "        x = epoches,\n",
    "        y = test_accs,\n",
    "        name='Test Accuracy',\n",
    "        xaxis='x', \n",
    "        yaxis='y2',\n",
    "        mode='lines+markers'\n",
    "    )\n",
    "    \n",
    "    data = [trace1, trace2, trace3]\n",
    "    layout = go.Layout(\n",
    "        yaxis2=dict(overlaying = 'y', side = 'right', title = \"Accuracy\", range = [0.85, 1.0]),\n",
    "        yaxis1=dict(title = \"MSE Loss\"),\n",
    "        xaxis = dict(title = \"Epoch\"),\n",
    "        legend=dict(x=0.75, y=0.45, font=dict(size=12, color=\"black\"))\n",
    "    )\n",
    "    \n",
    "    fig = go.Figure(data=data, layout=layout)\n",
    "    fig.show()\n",
    "\n",
    "plot_training_history(\"bos_256\", 30)"
   ]
  }
 ],
 "metadata": {
  "kernelspec": {
   "display_name": "Python 3 (ipykernel)",
   "language": "python",
   "name": "python3"
  },
  "language_info": {
   "codemirror_mode": {
    "name": "ipython",
    "version": 3
   },
   "file_extension": ".py",
   "mimetype": "text/x-python",
   "name": "python",
   "nbconvert_exporter": "python",
   "pygments_lexer": "ipython3",
   "version": "3.9.12"
  },
  "orig_nbformat": 4,
  "vscode": {
   "interpreter": {
    "hash": "979fbd48e52ed2a14997c40ff6200245796f609ab77113b8ade7c1d89d4140d7"
   }
  }
 },
 "nbformat": 4,
 "nbformat_minor": 2
}
