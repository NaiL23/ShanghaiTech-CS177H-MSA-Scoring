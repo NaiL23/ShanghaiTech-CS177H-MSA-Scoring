{
 "cells": [
  {
   "cell_type": "code",
   "execution_count": 1,
   "metadata": {},
   "outputs": [],
   "source": [
    "# !sinfo -O Nodehost,Gres:.30,GresUsed:.45\n",
    "# !salloc -N 1 --cpus-per-task=4 -p CS177h --gres=gpu:TeslaM4024GB:1\n",
    "# !salloc -N 1 --cpus-per-task=8 -p CS177h --gres=gpu:TeslaM4024GB:2\n",
    "# !salloc -N 1 --cpus-per-task=12 -p CS177h --gres=gpu:TeslaM4024GB:3\n",
    "# !salloc -N 1 --cpus-per-task=16 -p CS177h --gres=gpu:TeslaM4024GB:4\n",
    "# !jupyter-lab --no-brows --ip=0.0.0.0 --port=7774 "
   ]
  },
  {
   "cell_type": "code",
   "execution_count": 2,
   "metadata": {},
   "outputs": [
    {
     "name": "stdout",
     "output_type": "stream",
     "text": [
      "Tue Dec 13 03:25:37 2022       \n",
      "+-----------------------------------------------------------------------------+\n",
      "| NVIDIA-SMI 512.36       Driver Version: 512.36       CUDA Version: 11.6     |\n",
      "|-------------------------------+----------------------+----------------------+\n",
      "| GPU  Name            TCC/WDDM | Bus-Id        Disp.A | Volatile Uncorr. ECC |\n",
      "| Fan  Temp  Perf  Pwr:Usage/Cap|         Memory-Usage | GPU-Util  Compute M. |\n",
      "|                               |                      |               MIG M. |\n",
      "|===============================+======================+======================|\n",
      "|   0  NVIDIA GeForce ... WDDM  | 00000000:01:00.0  On |                  N/A |\n",
      "| N/A   53C    P8    15W /  N/A |   2085MiB /  6144MiB |     14%      Default |\n",
      "|                               |                      |                  N/A |\n",
      "+-------------------------------+----------------------+----------------------+\n",
      "                                                                               \n",
      "+-----------------------------------------------------------------------------+\n",
      "| Processes:                                                                  |\n",
      "|  GPU   GI   CI        PID   Type   Process name                  GPU Memory |\n",
      "|        ID   ID                                                   Usage      |\n",
      "|=============================================================================|\n",
      "|    0   N/A  N/A      3700    C+G   ...d\\runtime\\WeChatAppEx.exe    N/A      |\n",
      "|    0   N/A  N/A      8520    C+G   ...m Files\\Typora\\Typora.exe    N/A      |\n",
      "|    0   N/A  N/A      8972    C+G   ...2gh52qy24etm\\Nahimic3.exe    N/A      |\n",
      "|    0   N/A  N/A     10148    C+G   C:\\Windows\\explorer.exe         N/A      |\n",
      "|    0   N/A  N/A     12332    C+G   ...n1h2txyewy\\SearchHost.exe    N/A      |\n",
      "|    0   N/A  N/A     12356    C+G   ...artMenuExperienceHost.exe    N/A      |\n",
      "|    0   N/A  N/A     13204    C+G   ...2txyewy\\TextInputHost.exe    N/A      |\n",
      "|    0   N/A  N/A     14048    C+G   ...me\\Application\\chrome.exe    N/A      |\n",
      "|    0   N/A  N/A     15260    C+G   ...perience\\NVIDIA Share.exe    N/A      |\n",
      "|    0   N/A  N/A     17380    C+G   ...ray\\lghub_system_tray.exe    N/A      |\n",
      "|    0   N/A  N/A     17848    C+G   ...obeNotificationClient.exe    N/A      |\n",
      "|    0   N/A  N/A     18120    C+G   ...ge\\Application\\msedge.exe    N/A      |\n",
      "|    0   N/A  N/A     18156    C+G   ...tracted\\WechatBrowser.exe    N/A      |\n",
      "|    0   N/A  N/A     18360      C   ...iL23\\anaconda3\\python.exe    N/A      |\n",
      "|    0   N/A  N/A     19608    C+G   ...g\\Dropbox\\bin\\Dropbox.exe    N/A      |\n",
      "|    0   N/A  N/A     20088    C+G   ...icrosoft VS Code\\Code.exe    N/A      |\n",
      "|    0   N/A  N/A     21000    C+G   ...slator\\copytranslator.exe    N/A      |\n",
      "|    0   N/A  N/A     26644    C+G   ...p-3.1.2\\GitHubDesktop.exe    N/A      |\n",
      "|    0   N/A  N/A     28224    C+G   ...h2txyewy\\FESearchHost.exe    N/A      |\n",
      "+-----------------------------------------------------------------------------+\n"
     ]
    }
   ],
   "source": [
    "!nvidia-smi"
   ]
  },
  {
   "attachments": {},
   "cell_type": "markdown",
   "metadata": {},
   "source": [
    "# MSA Transformer + MLP Baseline"
   ]
  },
  {
   "cell_type": "code",
   "execution_count": 3,
   "metadata": {},
   "outputs": [],
   "source": [
    "import os\n",
    "import sys\n",
    "from pathlib import Path\n",
    "\n",
    "# PROJECT_PATH = Path() / \"Project\" / \"ShanghaiTech-CS177H-MSA-Scoring\"\n",
    "PROJECT_PATH = Path() \n",
    "sys.path.append(str(PROJECT_PATH))\n",
    "from tqdm import tqdm\n",
    "from pathlib import Path\n",
    "\n",
    "import numpy as np\n",
    "import plotly.graph_objs as go\n",
    "import matplotlib.pyplot as plt\n",
    "plt.rc('font', size=14)\n",
    "plt.rc('axes', labelsize=14, titlesize=14)\n",
    "plt.rc('legend', fontsize=14)\n",
    "plt.rc('xtick', labelsize=10)\n",
    "plt.rc('ytick', labelsize=10)\n",
    "\n",
    "import torch\n",
    "from torch import nn\n",
    "import torch.nn.functional as F\n",
    "from torch.utils.data import DataLoader\n",
    "np.random.seed(42)\n",
    "torch.manual_seed(42)\n",
    "torch.cuda.manual_seed(42)\n",
    "torch.cuda.manual_seed_all(42)\n",
    "torch.backends.cudnn.benchmark = False\n",
    "torch.backends.cudnn.deterministic = True\n",
    "\n",
    "import esm\n",
    "\n",
    "DATASET_PATH     = PROJECT_PATH / \"dataset\" / \"CASP14_fm\"\n",
    "MODEL_PATH       = PROJECT_PATH / \"model\"\n",
    "EMBDEDDINGS_PATH = PROJECT_PATH / \"embeddings\"\n",
    "TRANSFORMER_PATH = PROJECT_PATH / \"esm_msa1b_t12_100M_UR50S.pt\"\n",
    "\n",
    "# hyperparameters and settings\n",
    "MAX_DEPTH        = 256\n",
    "LEARNING_RATE    = 1e-4\n",
    "BATCH_SIZE       = 128\n",
    "EPOCHS           = 20\n",
    "checkpoint_epoch = 0\n",
    "model_name       = \"bos_256\""
   ]
  },
  {
   "attachments": {},
   "cell_type": "markdown",
   "metadata": {},
   "source": [
    "Define model"
   ]
  },
  {
   "cell_type": "code",
   "execution_count": 4,
   "metadata": {},
   "outputs": [],
   "source": [
    "# !scp -r tengyue@10.15.89.191:/public/home/cs177h/tengyue/Project/ShanghaiTech-CS177H-MSA-Scoring/embeddings /public/home/cs177h/lianyh/perl5/project/embeddings"
   ]
  },
  {
   "cell_type": "code",
   "execution_count": 5,
   "metadata": {},
   "outputs": [],
   "source": [
    "class MSAPredictor(nn.Module):\n",
    "    def __init__(self, msa_transformer_path = TRANSFORMER_PATH):\n",
    "        super(MSAPredictor, self).__init__()\n",
    "        \"\"\"\n",
    "        if msa_transformer_path:\n",
    "            self.encoder, msa_alphabet = esm.pretrained.load_model_and_alphabet_local(msa_transformer_path)\n",
    "        else :\n",
    "            self.encoder, msa_alphabet = esm.pretrained.esm_msa1b_t12_100M_UR50S()\n",
    "        \n",
    "        self.encoder = self.encoder.eval()\n",
    "        self.batch_converter = msa_alphabet.get_batch_converter()\n",
    "        \"\"\"\n",
    "\n",
    "        # Freeze parameters of MSATransformer\n",
    "        \"\"\"\n",
    "        for param in self.encoder.parameters():\n",
    "            param.requires_grad = False\n",
    "        \"\"\"\n",
    "        # Regressor module (to be tested)\n",
    "        # self.conv1 = nn.Conv2d(1, 6, 5)\n",
    "        # self.pool = nn.MaxPool2d(3, 3)\n",
    "        # self.conv2 = nn.Conv2d(6, 16, 5)\n",
    "        # self.fc1 = nn.Linear(25232, 2048)\n",
    "        # self.fc2 = nn.Linear(2048, 512)\n",
    "        # self.fc3 = nn.Linear(512, 1)\n",
    "        self.fc1 = nn.Linear(768, 128)\n",
    "        self.fc2 = nn.Linear(128, 32)\n",
    "        self.fc3 = nn.Linear(32, 1)\n",
    "        \n",
    "    def forward(self, x):\n",
    "        x = torch.mean(x[:, 1:, :], dim = 1)\n",
    "        # BATHCH_SIZE x 768\n",
    "\n",
    "        # x = self.pool(F.relu(self.conv1(x)))\n",
    "        # x = self.pool(F.relu(self.conv2(x)))\n",
    "\n",
    "        # x = torch.flatten(x, 1)\n",
    "        # x = F.relu(self.fc1(x))\n",
    "        # x = F.relu(self.fc2(x))\n",
    "        # x = self.fc3(x)\n",
    "        # x = torch.sigmoid(self.fc3(x))\n",
    "        \n",
    "        x = F.leaky_relu(self.fc1(x))\n",
    "        x = F.leaky_relu(self.fc2(x))\n",
    "        x = self.fc3(x)\n",
    "        # x = torch.sigmoid(self.fc3(x))\n",
    "        return x"
   ]
  },
  {
   "cell_type": "code",
   "execution_count": 6,
   "metadata": {},
   "outputs": [],
   "source": [
    "class MSAPredictorBOS(MSAPredictor):\n",
    "    def __init__(self, msa_transformer_path = TRANSFORMER_PATH):\n",
    "        super(MSAPredictorBOS, self).__init__(msa_transformer_path)\n",
    "        \n",
    "    def forward(self, x):\n",
    "        \n",
    "        x = x[:, 0, :]\n",
    "        # BATHCH_SIZE x 768\n",
    "        \n",
    "        x = F.leaky_relu(self.fc1(x))\n",
    "        x = F.leaky_relu(self.fc2(x))\n",
    "        x = self.fc3(x)\n",
    "        # x = torch.sigmoid(self.fc3(x))\n",
    "        return x"
   ]
  },
  {
   "cell_type": "code",
   "execution_count": 7,
   "metadata": {},
   "outputs": [],
   "source": [
    "class PairMSAPredictor(nn.Module):\n",
    "    def __init__(self, msa_transformer_path = TRANSFORMER_PATH, type = 'pair_bos_256'):\n",
    "        super(PairMSAPredictor, self).__init__()\n",
    "        self.regressor = MSAPredictorBOS(msa_transformer_path) if type == 'pair_bos_256' else MSAPredictor(msa_transformer_path)\n",
    "        \n",
    "    def forward(self, x1, x2):\n",
    "        y1, y2 = self.regressor(x1), self.regressor(x2)\n",
    "        delta, y1, y2 = torch.sigmoid(y1 - y2), torch.sigmoid(y1), torch.sigmoid(y2)\n",
    "        return delta, y1, y2"
   ]
  },
  {
   "cell_type": "code",
   "execution_count": 8,
   "metadata": {},
   "outputs": [],
   "source": [
    "if model_name == \"bos_256\" :\n",
    "    model = MSAPredictorBOS().cuda()\n",
    "elif model_name == \"mean_256\" :\n",
    "    model = MSAPredictor().cuda()\n",
    "elif model_name[:4] == \"pair\" :\n",
    "    model = PairMSAPredictor(type = model_name).cuda()\n",
    "\n",
    "NUM_GPU = torch.cuda.device_count()\n",
    "USE_PARALLEL = NUM_GPU > 1\n",
    "if USE_PARALLEL :\n",
    "    model = torch.nn.DataParallel(model)"
   ]
  },
  {
   "cell_type": "code",
   "execution_count": 9,
   "metadata": {},
   "outputs": [
    {
     "name": "stdout",
     "output_type": "stream",
     "text": [
      "Start training bos_256 model from the 1st epoch.\n"
     ]
    }
   ],
   "source": [
    "loss_fn = nn.BCELoss()\n",
    "loss_reg_fn = nn.MSELoss()\n",
    "\n",
    "optimizer = torch.optim.Adam(model.parameters(), lr = LEARNING_RATE)\n",
    "\n",
    "if checkpoint_epoch > 0 :\n",
    "    checkpoint = torch.load(MODEL_PATH / f\"model_{model_name}_epoch{checkpoint_epoch}.pth\")\n",
    "    (model.module if USE_PARALLEL else model).load_state_dict(checkpoint['model_state_dict'])\n",
    "    optimizer.load_state_dict(checkpoint['optimizer_state_dict'])\n",
    "    epoch = checkpoint['epoch']\n",
    "    print(f\"The {model_name} model loaded has been trained for {epoch} epoche(s), with {checkpoint['train_mse']} training loss, {checkpoint['valid_mse']} validation MSE and {checkpoint['test_acc']} test accuracy. \")\n",
    "else :\n",
    "    print(f\"Start training {model_name} model from the 1st epoch.\")"
   ]
  },
  {
   "attachments": {},
   "cell_type": "markdown",
   "metadata": {},
   "source": [
    "Prepare dataset"
   ]
  },
  {
   "cell_type": "code",
   "execution_count": 10,
   "metadata": {},
   "outputs": [],
   "source": [
    "from dataset import EmbeddingScoreDataset, PairDataset\n",
    "\n",
    "train_dataset = PairDataset(EMBDEDDINGS_PATH, DATASET_PATH, is_train = True) if model_name[:4] == \"pair\" else EmbeddingScoreDataset(EMBDEDDINGS_PATH, DATASET_PATH, is_train = True)\n",
    "test_dataset  = PairDataset(EMBDEDDINGS_PATH, DATASET_PATH, is_train = False)"
   ]
  },
  {
   "cell_type": "code",
   "execution_count": 11,
   "metadata": {},
   "outputs": [],
   "source": [
    "train_loader = DataLoader(train_dataset, batch_size = BATCH_SIZE, num_workers = NUM_GPU * 4, pin_memory = True, shuffle = True)\n",
    "test_loader  = DataLoader(test_dataset, batch_size = 1, shuffle = False)"
   ]
  },
  {
   "cell_type": "code",
   "execution_count": 12,
   "metadata": {},
   "outputs": [
    {
     "name": "stdout",
     "output_type": "stream",
     "text": [
      "torch.Size([128, 584, 768]) torch.Size([128, 1]) 128\n"
     ]
    }
   ],
   "source": [
    "# explore batch shape\n",
    "it = iter(train_loader)\n",
    "it = next(it)\n",
    "if model_name[:4] == \"pair\" :\n",
    "    print(it['embedding1'].shape, it['score1'].shape, len(it['name1']))\n",
    "    print(it['embedding2'].shape, it['score2'].shape, len(it['name2']))\n",
    "else :\n",
    "    print(it['embedding'].shape, it['score'].shape, len(it['name']))"
   ]
  },
  {
   "cell_type": "code",
   "execution_count": 13,
   "metadata": {},
   "outputs": [],
   "source": [
    "def calc_test_metric(model, print_wrong_predictions = False, print_correct_predictions = False):\n",
    "    model.eval()\n",
    "    mse, correct, tot = 0.0, 0, 0\n",
    "    with torch.no_grad():\n",
    "        with tqdm(total = len(test_loader), ncols = 80, file = sys.stdout) as bar:\n",
    "            for sample in test_loader :\n",
    "                x1, x2, y1, y2 = sample[\"embedding1\"].cuda(), sample[\"embedding2\"].cuda(), sample[\"score1\"].cuda(), sample[\"score2\"].cuda()\n",
    "                x, y = torch.vstack([x1, x2]), torch.vstack([y1, y2])\n",
    "                \n",
    "                predictor = model.module if USE_PARALLEL else model\n",
    "                pred = torch.sigmoid(predictor.regressor(x)) if model_name[:4] == 'pair' else predictor(x)\n",
    "\n",
    "                if torch.argmax(y) == torch.argmax(pred) :\n",
    "                    correct += 1\n",
    "                    if print_correct_predictions:\n",
    "                        for name, y_gt, y_pred in zip([sample['name1'][0], sample['name2'][0]], y, pred) :\n",
    "                            tqdm.write(f\"{name:>20}  y_gt:{y_gt.item():.4f}  y_pred:{y_pred.item() :.4f}\")\n",
    "                        tqdm.write(\"-----------------------------------------------\")\n",
    "                else :\n",
    "                    if print_wrong_predictions:\n",
    "                        for name, y_gt, y_pred in zip([sample['name1'][0], sample['name2'][0]], y, pred) :\n",
    "                            tqdm.write(f\"{name:>20}  y_gt:{y_gt.item() :.4f}  y_pred:{y_pred.item() :.4f}\")\n",
    "                        tqdm.write(\"===================================================\")\n",
    "                \n",
    "                mse += torch.sum((y - pred) ** 2).item()\n",
    "                tot += 2\n",
    "\n",
    "                bar.set_postfix({\n",
    "                    \"acc\": f\"{correct / (tot // 2):.4f}\",\n",
    "                    \"mse\": f\"{mse / tot:.4f}\"\n",
    "                })\n",
    "                bar.update(1)\n",
    "    \n",
    "    return {'accuracy' : correct / (tot // 2), 'mse' : mse / tot}"
   ]
  },
  {
   "attachments": {},
   "cell_type": "markdown",
   "metadata": {},
   "source": [
    "Train:"
   ]
  },
  {
   "cell_type": "code",
   "execution_count": 14,
   "metadata": {},
   "outputs": [
    {
     "name": "stderr",
     "output_type": "stream",
     "text": [
      "[epoch# 1/20][ 2560/ 2660]: 100%|██████████████████████████████████████| 21/21 [00:09<00:00,  2.31it/s, mse=0.28393, loss=0.28393]\n"
     ]
    },
    {
     "name": "stdout",
     "output_type": "stream",
     "text": [
      "100%|██████████████████| 95/95 [00:00<00:00, 168.70it/s, acc=0.5684, mse=0.1907]\n"
     ]
    },
    {
     "name": "stderr",
     "output_type": "stream",
     "text": [
      "[epoch# 2/20][ 2560/ 2660]: 100%|██████████████████████████████████████| 21/21 [00:06<00:00,  3.01it/s, mse=0.07886, loss=0.07886]\n"
     ]
    },
    {
     "name": "stdout",
     "output_type": "stream",
     "text": [
      "100%|██████████████████| 95/95 [00:00<00:00, 191.64it/s, acc=0.6316, mse=0.0692]\n"
     ]
    },
    {
     "name": "stderr",
     "output_type": "stream",
     "text": [
      "[epoch# 3/20][ 2560/ 2660]: 100%|██████████████████████████████████████| 21/21 [00:07<00:00,  2.97it/s, mse=0.05676, loss=0.05676]\n"
     ]
    },
    {
     "name": "stdout",
     "output_type": "stream",
     "text": [
      "100%|██████████████████| 95/95 [00:00<00:00, 185.08it/s, acc=0.7053, mse=0.0667]\n"
     ]
    },
    {
     "name": "stderr",
     "output_type": "stream",
     "text": [
      "[epoch# 4/20][ 2560/ 2660]: 100%|██████████████████████████████████████| 21/21 [00:07<00:00,  2.99it/s, mse=0.05125, loss=0.05125]\n"
     ]
    },
    {
     "name": "stdout",
     "output_type": "stream",
     "text": [
      "100%|██████████████████| 95/95 [00:00<00:00, 142.53it/s, acc=0.8105, mse=0.0605]\n"
     ]
    },
    {
     "name": "stderr",
     "output_type": "stream",
     "text": [
      "[epoch# 5/20][ 2560/ 2660]: 100%|██████████████████████████████████████| 21/21 [00:07<00:00,  3.00it/s, mse=0.04738, loss=0.04738]\n"
     ]
    },
    {
     "name": "stdout",
     "output_type": "stream",
     "text": [
      "100%|██████████████████| 95/95 [00:00<00:00, 185.80it/s, acc=0.8632, mse=0.0550]\n"
     ]
    },
    {
     "name": "stderr",
     "output_type": "stream",
     "text": [
      "[epoch# 6/20][ 2560/ 2660]: 100%|██████████████████████████████████████| 21/21 [00:07<00:00,  2.98it/s, mse=0.04400, loss=0.04400]\n"
     ]
    },
    {
     "name": "stdout",
     "output_type": "stream",
     "text": [
      "100%|██████████████████| 95/95 [00:00<00:00, 189.71it/s, acc=0.9158, mse=0.0492]\n"
     ]
    },
    {
     "name": "stderr",
     "output_type": "stream",
     "text": [
      "[epoch# 7/20][ 2560/ 2660]: 100%|██████████████████████████████████████| 21/21 [00:06<00:00,  3.01it/s, mse=0.04054, loss=0.04054]\n"
     ]
    },
    {
     "name": "stdout",
     "output_type": "stream",
     "text": [
      "100%|██████████████████| 95/95 [00:00<00:00, 193.74it/s, acc=0.9263, mse=0.0443]\n"
     ]
    },
    {
     "name": "stderr",
     "output_type": "stream",
     "text": [
      "[epoch# 8/20][ 2560/ 2660]: 100%|██████████████████████████████████████| 21/21 [00:06<00:00,  3.01it/s, mse=0.03779, loss=0.03779]\n"
     ]
    },
    {
     "name": "stdout",
     "output_type": "stream",
     "text": [
      "100%|██████████████████| 95/95 [00:00<00:00, 151.96it/s, acc=0.9474, mse=0.0401]\n"
     ]
    },
    {
     "name": "stderr",
     "output_type": "stream",
     "text": [
      "[epoch# 9/20][ 2560/ 2660]: 100%|██████████████████████████████████████| 21/21 [00:06<00:00,  3.02it/s, mse=0.03532, loss=0.03532]\n"
     ]
    },
    {
     "name": "stdout",
     "output_type": "stream",
     "text": [
      "100%|██████████████████| 95/95 [00:00<00:00, 152.76it/s, acc=0.9579, mse=0.0363]\n"
     ]
    },
    {
     "name": "stderr",
     "output_type": "stream",
     "text": [
      "[epoch#10/20][ 2560/ 2660]: 100%|██████████████████████████████████████| 21/21 [00:06<00:00,  3.04it/s, mse=0.03316, loss=0.03316]\n"
     ]
    },
    {
     "name": "stdout",
     "output_type": "stream",
     "text": [
      "100%|██████████████████| 95/95 [00:00<00:00, 179.32it/s, acc=0.9474, mse=0.0347]\n"
     ]
    },
    {
     "name": "stderr",
     "output_type": "stream",
     "text": [
      "[epoch#11/20][ 2560/ 2660]: 100%|██████████████████████████████████████| 21/21 [00:07<00:00,  2.98it/s, mse=0.03157, loss=0.03157]\n"
     ]
    },
    {
     "name": "stdout",
     "output_type": "stream",
     "text": [
      "100%|██████████████████| 95/95 [00:00<00:00, 144.81it/s, acc=0.9368, mse=0.0322]\n"
     ]
    },
    {
     "name": "stderr",
     "output_type": "stream",
     "text": [
      "[epoch#12/20][ 2560/ 2660]: 100%|██████████████████████████████████████| 21/21 [00:07<00:00,  2.97it/s, mse=0.03027, loss=0.03027]\n"
     ]
    },
    {
     "name": "stdout",
     "output_type": "stream",
     "text": [
      "100%|██████████████████| 95/95 [00:00<00:00, 154.74it/s, acc=0.9368, mse=0.0299]\n"
     ]
    },
    {
     "name": "stderr",
     "output_type": "stream",
     "text": [
      "[epoch#13/20][ 2560/ 2660]: 100%|██████████████████████████████████████| 21/21 [00:07<00:00,  2.91it/s, mse=0.02892, loss=0.02892]\n"
     ]
    },
    {
     "name": "stdout",
     "output_type": "stream",
     "text": [
      "100%|██████████████████| 95/95 [00:00<00:00, 167.49it/s, acc=0.9368, mse=0.0288]\n"
     ]
    },
    {
     "name": "stderr",
     "output_type": "stream",
     "text": [
      "[epoch#14/20][ 2560/ 2660]: 100%|██████████████████████████████████████| 21/21 [00:06<00:00,  3.01it/s, mse=0.02791, loss=0.02791]\n"
     ]
    },
    {
     "name": "stdout",
     "output_type": "stream",
     "text": [
      "100%|██████████████████| 95/95 [00:00<00:00, 182.62it/s, acc=0.9368, mse=0.0279]\n"
     ]
    },
    {
     "name": "stderr",
     "output_type": "stream",
     "text": [
      "[epoch#15/20][ 2560/ 2660]: 100%|██████████████████████████████████████| 21/21 [00:07<00:00,  2.99it/s, mse=0.02710, loss=0.02710]\n"
     ]
    },
    {
     "name": "stdout",
     "output_type": "stream",
     "text": [
      "100%|██████████████████| 95/95 [00:00<00:00, 149.86it/s, acc=0.9368, mse=0.0270]\n"
     ]
    },
    {
     "name": "stderr",
     "output_type": "stream",
     "text": [
      "[epoch#16/20][ 2560/ 2660]: 100%|██████████████████████████████████████| 21/21 [00:07<00:00,  2.90it/s, mse=0.02629, loss=0.02629]\n"
     ]
    },
    {
     "name": "stdout",
     "output_type": "stream",
     "text": [
      "100%|██████████████████| 95/95 [00:00<00:00, 120.74it/s, acc=0.9368, mse=0.0264]\n"
     ]
    },
    {
     "name": "stderr",
     "output_type": "stream",
     "text": [
      "[epoch#17/20][ 2560/ 2660]: 100%|██████████████████████████████████████| 21/21 [00:07<00:00,  2.93it/s, mse=0.02581, loss=0.02581]\n"
     ]
    },
    {
     "name": "stdout",
     "output_type": "stream",
     "text": [
      "100%|██████████████████| 95/95 [00:00<00:00, 153.36it/s, acc=0.9474, mse=0.0261]\n"
     ]
    },
    {
     "name": "stderr",
     "output_type": "stream",
     "text": [
      "[epoch#18/20][ 2560/ 2660]: 100%|██████████████████████████████████████| 21/21 [00:07<00:00,  2.97it/s, mse=0.02512, loss=0.02512]\n"
     ]
    },
    {
     "name": "stdout",
     "output_type": "stream",
     "text": [
      "100%|██████████████████| 95/95 [00:00<00:00, 150.11it/s, acc=0.9474, mse=0.0253]\n"
     ]
    },
    {
     "name": "stderr",
     "output_type": "stream",
     "text": [
      "[epoch#19/20][ 2560/ 2660]: 100%|██████████████████████████████████████| 21/21 [00:07<00:00,  2.89it/s, mse=0.02465, loss=0.02465]\n"
     ]
    },
    {
     "name": "stdout",
     "output_type": "stream",
     "text": [
      "100%|██████████████████| 95/95 [00:00<00:00, 162.94it/s, acc=0.9474, mse=0.0249]\n"
     ]
    },
    {
     "name": "stderr",
     "output_type": "stream",
     "text": [
      "[epoch#20/20][ 2560/ 2660]: 100%|██████████████████████████████████████| 21/21 [00:07<00:00,  2.93it/s, mse=0.02428, loss=0.02428]\n"
     ]
    },
    {
     "name": "stdout",
     "output_type": "stream",
     "text": [
      "100%|██████████████████| 95/95 [00:00<00:00, 138.26it/s, acc=0.9474, mse=0.0248]\n"
     ]
    }
   ],
   "source": [
    "\n",
    "\n",
    "for epoch in range(checkpoint_epoch + 1, EPOCHS + 1):\n",
    "    losses, losses_reg, tot = 0, 0, 0\n",
    "    \n",
    "    model.train()\n",
    "\n",
    "    with tqdm(total = len(train_loader), ncols = 130) as bar:\n",
    "        for batch, sample in enumerate(train_loader) :\n",
    "            \n",
    "            bar.set_description(f\"[epoch#{epoch:>2}/{EPOCHS:>2}][{batch * BATCH_SIZE:>5}/{len(train_dataset):>5}]\")\n",
    "\n",
    "            if model_name[:4] == 'pair' :\n",
    "                x1, x2, y1, y2 = sample[\"embedding1\"].cuda(), sample[\"embedding2\"].cuda(), sample[\"score1\"].cuda(), sample[\"score2\"].cuda()\n",
    "                # delta = torch.sigmoid((y1 - y2) / SIGMOID_SCALE)\n",
    "                delta = torch.where(y1 > y2, 1.0, 0.0)\n",
    "\n",
    "                logit, y1_pred, y2_pred = model(x1, x2)\n",
    "\n",
    "                loss_reg = loss_reg_fn(torch.vstack([y1_pred, y2_pred]), torch.vstack([y1, y2])) \n",
    "                loss_bce = loss_fn(logit, delta)\n",
    "                loss = loss_bce + loss_reg\n",
    "            else :\n",
    "                x, y = sample[\"embedding\"].cuda(), sample[\"score\"].cuda()\n",
    "                pred = model(x)\n",
    "                loss_reg = loss_reg_fn(pred, y)\n",
    "                loss = loss_reg\n",
    "\n",
    "            # Backpropagation\n",
    "            optimizer.zero_grad()     \n",
    "            loss.backward()\n",
    "            optimizer.step()\n",
    "            \n",
    "            losses_reg += loss_reg.item() * len(sample) \n",
    "            losses += loss.item() * len(sample)\n",
    "            tot += len(sample)\n",
    "\n",
    "            bar.set_postfix({\n",
    "                # \"batch loss\" : f\"{loss.item():.5f}\",\n",
    "                \"mse\" : f\"{losses_reg / tot:.5f}\", \n",
    "                \"loss\": f\"{losses / tot:.5f}\"\n",
    "            })\n",
    "            bar.update(1)\n",
    "\n",
    "    test_metric =  calc_test_metric(model)\n",
    "    train_loss, train_mse, test_acc, valid_mse = losses / tot, losses_reg / tot, test_metric['accuracy'], test_metric['mse']\n",
    "    torch.save({\n",
    "        'epoch'               : epoch,\n",
    "        'model_state_dict'    : (model.module if USE_PARALLEL else model).state_dict(),\n",
    "        'optimizer_state_dict': optimizer.state_dict(),\n",
    "        'train_mse'           : train_mse,\n",
    "        'train_loss'          : train_loss,\n",
    "        'valid_mse'           : valid_mse,\n",
    "        'test_acc'            : test_acc\n",
    "    }, MODEL_PATH / f\"model_{model_name}_epoch{epoch}.pth\")\n",
    "    "
   ]
  },
  {
   "cell_type": "code",
   "execution_count": 17,
   "metadata": {},
   "outputs": [
    {
     "name": "stdout",
     "output_type": "stream",
     "text": [
      "T1030-D1_original_fm  y_gt:0.8572  y_pred:0.8515                                \n",
      "  T1030-D1_rand13_fm  y_gt:0.8149  y_pred:0.8849                                \n",
      "===================================================                             \n",
      "    T1030-D2_base_fm  y_gt:0.9118  y_pred:0.6857                                \n",
      "T1030-D2_original_fm  y_gt:0.6008  y_pred:0.7441                                \n",
      "===================================================                             \n",
      "T1047s2-D2_rand16_fm  y_gt:0.7530  y_pred:0.6656                                \n",
      " T1047s2-D2_rand5_fm  y_gt:0.9398  y_pred:0.5768                                \n",
      "===================================================                             \n",
      "  T1070-D3_rand13_fm  y_gt:0.7369  y_pred:0.6451                                \n",
      "  T1070-D3_rand16_fm  y_gt:0.8322  y_pred:0.6199                                \n",
      "===================================================                             \n",
      "  T1100-D1_rand13_fm  y_gt:0.6080  y_pred:0.6496                                \n",
      " T1100-D1_rosetta_fm  y_gt:0.6775  y_pred:0.5739                                \n",
      "===================================================                             \n",
      "100%|██████████████████| 95/95 [00:00<00:00, 126.79it/s, acc=0.9474, mse=0.0248]\n"
     ]
    },
    {
     "data": {
      "text/plain": [
       "{'accuracy': 0.9473684210526315, 'mse': 0.02484022955728793}"
      ]
     },
     "execution_count": 17,
     "metadata": {},
     "output_type": "execute_result"
    }
   ],
   "source": [
    "calc_test_metric(model, print_wrong_predictions = True)"
   ]
  },
  {
   "cell_type": "code",
   "execution_count": 35,
   "metadata": {},
   "outputs": [
    {
     "data": {
      "application/vnd.plotly.v1+json": {
       "config": {
        "plotlyServerURL": "https://plot.ly"
       },
       "data": [
        {
         "mode": "lines+markers",
         "name": "Train Loss",
         "type": "scatter",
         "x": [
          1,
          2,
          3,
          4,
          5,
          6,
          7,
          8,
          9,
          10,
          11,
          12,
          13,
          14,
          15,
          16,
          17,
          18,
          19,
          20
         ],
         "xaxis": "x",
         "y": [
          0.06569453896596454,
          0.0553116244622148,
          0.04963717688448154,
          0.04619651071082514,
          0.04442992394503493,
          0.043521258872575484,
          0.04255843651480973,
          0.041914447533110015,
          0.04105929616623773,
          0.04019977478310466,
          0.0394487851478446,
          0.03881757000747781,
          0.0380191670354599,
          0.03762665335447169,
          0.03686505182682035,
          0.036336787564393416,
          0.03592249748404496,
          0.035489361957073785,
          0.03505808011127206,
          0.03463351566237039
         ],
         "yaxis": "y"
        },
        {
         "mode": "lines+markers",
         "name": "Valid MSE",
         "type": "scatter",
         "x": [
          1.5,
          2.5,
          3.5,
          4.5,
          5.5,
          6.5,
          7.5,
          8.5,
          9.5,
          10.5,
          11.5,
          12.5,
          13.5,
          14.5,
          15.5,
          16.5,
          17.5,
          18.5,
          19.5,
          20.5
         ],
         "xaxis": "x",
         "y": [
          0.08115054183688603,
          0.06424126678244456,
          0.053985600922207694,
          0.047970735039071816,
          0.04474705621832982,
          0.042718792696311875,
          0.041333494784224684,
          0.03976215731419966,
          0.038672889991798194,
          0.03796777071907663,
          0.036748394325810584,
          0.03573165987082144,
          0.03507440787790601,
          0.034068384190629186,
          0.033208930369858676,
          0.033178485571835684,
          0.031722001553709175,
          0.031624978031399416,
          0.0312881936650037,
          0.030675131631524938
         ],
         "yaxis": "y"
        },
        {
         "mode": "lines+markers",
         "name": "Test Accuracy",
         "type": "scatter",
         "x": [
          1,
          2,
          3,
          4,
          5,
          6,
          7,
          8,
          9,
          10,
          11,
          12,
          13,
          14,
          15,
          16,
          17,
          18,
          19,
          20
         ],
         "xaxis": "x",
         "y": [
          0.9052631578947369,
          0.9473684210526315,
          0.9578947368421052,
          0.968421052631579,
          0.9578947368421052,
          0.9578947368421052,
          0.9578947368421052,
          0.9578947368421052,
          0.9578947368421052,
          0.968421052631579,
          0.968421052631579,
          0.968421052631579,
          0.968421052631579,
          0.9578947368421052,
          0.9578947368421052,
          0.9578947368421052,
          0.9578947368421052,
          0.9578947368421052,
          0.9578947368421052,
          0.9578947368421052
         ],
         "yaxis": "y2"
        }
       ],
       "layout": {
        "legend": {
         "font": {
          "color": "black",
          "size": 12
         },
         "x": 0.75,
         "y": 0.45
        },
        "template": {
         "data": {
          "bar": [
           {
            "error_x": {
             "color": "#2a3f5f"
            },
            "error_y": {
             "color": "#2a3f5f"
            },
            "marker": {
             "line": {
              "color": "#E5ECF6",
              "width": 0.5
             },
             "pattern": {
              "fillmode": "overlay",
              "size": 10,
              "solidity": 0.2
             }
            },
            "type": "bar"
           }
          ],
          "barpolar": [
           {
            "marker": {
             "line": {
              "color": "#E5ECF6",
              "width": 0.5
             },
             "pattern": {
              "fillmode": "overlay",
              "size": 10,
              "solidity": 0.2
             }
            },
            "type": "barpolar"
           }
          ],
          "carpet": [
           {
            "aaxis": {
             "endlinecolor": "#2a3f5f",
             "gridcolor": "white",
             "linecolor": "white",
             "minorgridcolor": "white",
             "startlinecolor": "#2a3f5f"
            },
            "baxis": {
             "endlinecolor": "#2a3f5f",
             "gridcolor": "white",
             "linecolor": "white",
             "minorgridcolor": "white",
             "startlinecolor": "#2a3f5f"
            },
            "type": "carpet"
           }
          ],
          "choropleth": [
           {
            "colorbar": {
             "outlinewidth": 0,
             "ticks": ""
            },
            "type": "choropleth"
           }
          ],
          "contour": [
           {
            "colorbar": {
             "outlinewidth": 0,
             "ticks": ""
            },
            "colorscale": [
             [
              0,
              "#0d0887"
             ],
             [
              0.1111111111111111,
              "#46039f"
             ],
             [
              0.2222222222222222,
              "#7201a8"
             ],
             [
              0.3333333333333333,
              "#9c179e"
             ],
             [
              0.4444444444444444,
              "#bd3786"
             ],
             [
              0.5555555555555556,
              "#d8576b"
             ],
             [
              0.6666666666666666,
              "#ed7953"
             ],
             [
              0.7777777777777778,
              "#fb9f3a"
             ],
             [
              0.8888888888888888,
              "#fdca26"
             ],
             [
              1,
              "#f0f921"
             ]
            ],
            "type": "contour"
           }
          ],
          "contourcarpet": [
           {
            "colorbar": {
             "outlinewidth": 0,
             "ticks": ""
            },
            "type": "contourcarpet"
           }
          ],
          "heatmap": [
           {
            "colorbar": {
             "outlinewidth": 0,
             "ticks": ""
            },
            "colorscale": [
             [
              0,
              "#0d0887"
             ],
             [
              0.1111111111111111,
              "#46039f"
             ],
             [
              0.2222222222222222,
              "#7201a8"
             ],
             [
              0.3333333333333333,
              "#9c179e"
             ],
             [
              0.4444444444444444,
              "#bd3786"
             ],
             [
              0.5555555555555556,
              "#d8576b"
             ],
             [
              0.6666666666666666,
              "#ed7953"
             ],
             [
              0.7777777777777778,
              "#fb9f3a"
             ],
             [
              0.8888888888888888,
              "#fdca26"
             ],
             [
              1,
              "#f0f921"
             ]
            ],
            "type": "heatmap"
           }
          ],
          "heatmapgl": [
           {
            "colorbar": {
             "outlinewidth": 0,
             "ticks": ""
            },
            "colorscale": [
             [
              0,
              "#0d0887"
             ],
             [
              0.1111111111111111,
              "#46039f"
             ],
             [
              0.2222222222222222,
              "#7201a8"
             ],
             [
              0.3333333333333333,
              "#9c179e"
             ],
             [
              0.4444444444444444,
              "#bd3786"
             ],
             [
              0.5555555555555556,
              "#d8576b"
             ],
             [
              0.6666666666666666,
              "#ed7953"
             ],
             [
              0.7777777777777778,
              "#fb9f3a"
             ],
             [
              0.8888888888888888,
              "#fdca26"
             ],
             [
              1,
              "#f0f921"
             ]
            ],
            "type": "heatmapgl"
           }
          ],
          "histogram": [
           {
            "marker": {
             "pattern": {
              "fillmode": "overlay",
              "size": 10,
              "solidity": 0.2
             }
            },
            "type": "histogram"
           }
          ],
          "histogram2d": [
           {
            "colorbar": {
             "outlinewidth": 0,
             "ticks": ""
            },
            "colorscale": [
             [
              0,
              "#0d0887"
             ],
             [
              0.1111111111111111,
              "#46039f"
             ],
             [
              0.2222222222222222,
              "#7201a8"
             ],
             [
              0.3333333333333333,
              "#9c179e"
             ],
             [
              0.4444444444444444,
              "#bd3786"
             ],
             [
              0.5555555555555556,
              "#d8576b"
             ],
             [
              0.6666666666666666,
              "#ed7953"
             ],
             [
              0.7777777777777778,
              "#fb9f3a"
             ],
             [
              0.8888888888888888,
              "#fdca26"
             ],
             [
              1,
              "#f0f921"
             ]
            ],
            "type": "histogram2d"
           }
          ],
          "histogram2dcontour": [
           {
            "colorbar": {
             "outlinewidth": 0,
             "ticks": ""
            },
            "colorscale": [
             [
              0,
              "#0d0887"
             ],
             [
              0.1111111111111111,
              "#46039f"
             ],
             [
              0.2222222222222222,
              "#7201a8"
             ],
             [
              0.3333333333333333,
              "#9c179e"
             ],
             [
              0.4444444444444444,
              "#bd3786"
             ],
             [
              0.5555555555555556,
              "#d8576b"
             ],
             [
              0.6666666666666666,
              "#ed7953"
             ],
             [
              0.7777777777777778,
              "#fb9f3a"
             ],
             [
              0.8888888888888888,
              "#fdca26"
             ],
             [
              1,
              "#f0f921"
             ]
            ],
            "type": "histogram2dcontour"
           }
          ],
          "mesh3d": [
           {
            "colorbar": {
             "outlinewidth": 0,
             "ticks": ""
            },
            "type": "mesh3d"
           }
          ],
          "parcoords": [
           {
            "line": {
             "colorbar": {
              "outlinewidth": 0,
              "ticks": ""
             }
            },
            "type": "parcoords"
           }
          ],
          "pie": [
           {
            "automargin": true,
            "type": "pie"
           }
          ],
          "scatter": [
           {
            "marker": {
             "colorbar": {
              "outlinewidth": 0,
              "ticks": ""
             }
            },
            "type": "scatter"
           }
          ],
          "scatter3d": [
           {
            "line": {
             "colorbar": {
              "outlinewidth": 0,
              "ticks": ""
             }
            },
            "marker": {
             "colorbar": {
              "outlinewidth": 0,
              "ticks": ""
             }
            },
            "type": "scatter3d"
           }
          ],
          "scattercarpet": [
           {
            "marker": {
             "colorbar": {
              "outlinewidth": 0,
              "ticks": ""
             }
            },
            "type": "scattercarpet"
           }
          ],
          "scattergeo": [
           {
            "marker": {
             "colorbar": {
              "outlinewidth": 0,
              "ticks": ""
             }
            },
            "type": "scattergeo"
           }
          ],
          "scattergl": [
           {
            "marker": {
             "colorbar": {
              "outlinewidth": 0,
              "ticks": ""
             }
            },
            "type": "scattergl"
           }
          ],
          "scattermapbox": [
           {
            "marker": {
             "colorbar": {
              "outlinewidth": 0,
              "ticks": ""
             }
            },
            "type": "scattermapbox"
           }
          ],
          "scatterpolar": [
           {
            "marker": {
             "colorbar": {
              "outlinewidth": 0,
              "ticks": ""
             }
            },
            "type": "scatterpolar"
           }
          ],
          "scatterpolargl": [
           {
            "marker": {
             "colorbar": {
              "outlinewidth": 0,
              "ticks": ""
             }
            },
            "type": "scatterpolargl"
           }
          ],
          "scatterternary": [
           {
            "marker": {
             "colorbar": {
              "outlinewidth": 0,
              "ticks": ""
             }
            },
            "type": "scatterternary"
           }
          ],
          "surface": [
           {
            "colorbar": {
             "outlinewidth": 0,
             "ticks": ""
            },
            "colorscale": [
             [
              0,
              "#0d0887"
             ],
             [
              0.1111111111111111,
              "#46039f"
             ],
             [
              0.2222222222222222,
              "#7201a8"
             ],
             [
              0.3333333333333333,
              "#9c179e"
             ],
             [
              0.4444444444444444,
              "#bd3786"
             ],
             [
              0.5555555555555556,
              "#d8576b"
             ],
             [
              0.6666666666666666,
              "#ed7953"
             ],
             [
              0.7777777777777778,
              "#fb9f3a"
             ],
             [
              0.8888888888888888,
              "#fdca26"
             ],
             [
              1,
              "#f0f921"
             ]
            ],
            "type": "surface"
           }
          ],
          "table": [
           {
            "cells": {
             "fill": {
              "color": "#EBF0F8"
             },
             "line": {
              "color": "white"
             }
            },
            "header": {
             "fill": {
              "color": "#C8D4E3"
             },
             "line": {
              "color": "white"
             }
            },
            "type": "table"
           }
          ]
         },
         "layout": {
          "annotationdefaults": {
           "arrowcolor": "#2a3f5f",
           "arrowhead": 0,
           "arrowwidth": 1
          },
          "autotypenumbers": "strict",
          "coloraxis": {
           "colorbar": {
            "outlinewidth": 0,
            "ticks": ""
           }
          },
          "colorscale": {
           "diverging": [
            [
             0,
             "#8e0152"
            ],
            [
             0.1,
             "#c51b7d"
            ],
            [
             0.2,
             "#de77ae"
            ],
            [
             0.3,
             "#f1b6da"
            ],
            [
             0.4,
             "#fde0ef"
            ],
            [
             0.5,
             "#f7f7f7"
            ],
            [
             0.6,
             "#e6f5d0"
            ],
            [
             0.7,
             "#b8e186"
            ],
            [
             0.8,
             "#7fbc41"
            ],
            [
             0.9,
             "#4d9221"
            ],
            [
             1,
             "#276419"
            ]
           ],
           "sequential": [
            [
             0,
             "#0d0887"
            ],
            [
             0.1111111111111111,
             "#46039f"
            ],
            [
             0.2222222222222222,
             "#7201a8"
            ],
            [
             0.3333333333333333,
             "#9c179e"
            ],
            [
             0.4444444444444444,
             "#bd3786"
            ],
            [
             0.5555555555555556,
             "#d8576b"
            ],
            [
             0.6666666666666666,
             "#ed7953"
            ],
            [
             0.7777777777777778,
             "#fb9f3a"
            ],
            [
             0.8888888888888888,
             "#fdca26"
            ],
            [
             1,
             "#f0f921"
            ]
           ],
           "sequentialminus": [
            [
             0,
             "#0d0887"
            ],
            [
             0.1111111111111111,
             "#46039f"
            ],
            [
             0.2222222222222222,
             "#7201a8"
            ],
            [
             0.3333333333333333,
             "#9c179e"
            ],
            [
             0.4444444444444444,
             "#bd3786"
            ],
            [
             0.5555555555555556,
             "#d8576b"
            ],
            [
             0.6666666666666666,
             "#ed7953"
            ],
            [
             0.7777777777777778,
             "#fb9f3a"
            ],
            [
             0.8888888888888888,
             "#fdca26"
            ],
            [
             1,
             "#f0f921"
            ]
           ]
          },
          "colorway": [
           "#636efa",
           "#EF553B",
           "#00cc96",
           "#ab63fa",
           "#FFA15A",
           "#19d3f3",
           "#FF6692",
           "#B6E880",
           "#FF97FF",
           "#FECB52"
          ],
          "font": {
           "color": "#2a3f5f"
          },
          "geo": {
           "bgcolor": "white",
           "lakecolor": "white",
           "landcolor": "#E5ECF6",
           "showlakes": true,
           "showland": true,
           "subunitcolor": "white"
          },
          "hoverlabel": {
           "align": "left"
          },
          "hovermode": "closest",
          "mapbox": {
           "style": "light"
          },
          "paper_bgcolor": "white",
          "plot_bgcolor": "#E5ECF6",
          "polar": {
           "angularaxis": {
            "gridcolor": "white",
            "linecolor": "white",
            "ticks": ""
           },
           "bgcolor": "#E5ECF6",
           "radialaxis": {
            "gridcolor": "white",
            "linecolor": "white",
            "ticks": ""
           }
          },
          "scene": {
           "xaxis": {
            "backgroundcolor": "#E5ECF6",
            "gridcolor": "white",
            "gridwidth": 2,
            "linecolor": "white",
            "showbackground": true,
            "ticks": "",
            "zerolinecolor": "white"
           },
           "yaxis": {
            "backgroundcolor": "#E5ECF6",
            "gridcolor": "white",
            "gridwidth": 2,
            "linecolor": "white",
            "showbackground": true,
            "ticks": "",
            "zerolinecolor": "white"
           },
           "zaxis": {
            "backgroundcolor": "#E5ECF6",
            "gridcolor": "white",
            "gridwidth": 2,
            "linecolor": "white",
            "showbackground": true,
            "ticks": "",
            "zerolinecolor": "white"
           }
          },
          "shapedefaults": {
           "line": {
            "color": "#2a3f5f"
           }
          },
          "ternary": {
           "aaxis": {
            "gridcolor": "white",
            "linecolor": "white",
            "ticks": ""
           },
           "baxis": {
            "gridcolor": "white",
            "linecolor": "white",
            "ticks": ""
           },
           "bgcolor": "#E5ECF6",
           "caxis": {
            "gridcolor": "white",
            "linecolor": "white",
            "ticks": ""
           }
          },
          "title": {
           "x": 0.05
          },
          "xaxis": {
           "automargin": true,
           "gridcolor": "white",
           "linecolor": "white",
           "ticks": "",
           "title": {
            "standoff": 15
           },
           "zerolinecolor": "white",
           "zerolinewidth": 2
          },
          "yaxis": {
           "automargin": true,
           "gridcolor": "white",
           "linecolor": "white",
           "ticks": "",
           "title": {
            "standoff": 15
           },
           "zerolinecolor": "white",
           "zerolinewidth": 2
          }
         }
        },
        "xaxis": {
         "title": {
          "text": "Epoch"
         }
        },
        "yaxis": {
         "title": {
          "text": "MSE Loss"
         }
        },
        "yaxis2": {
         "overlaying": "y",
         "range": [
          0.7,
          1
         ],
         "side": "right",
         "title": {
          "text": "Accuracy"
         }
        }
       }
      }
     },
     "metadata": {},
     "output_type": "display_data"
    }
   ],
   "source": [
    "def plot_training_history(model_name = \"mean_256\", trained_epoches = 20):\n",
    "    epoches = list(range(1, trained_epoches + 1))\n",
    "    train_losses = []\n",
    "    test_losses = []\n",
    "    test_accs = []\n",
    "    for epoch in range(1, trained_epoches+1):\n",
    "        checkpoint = torch.load(MODEL_PATH / f\"model_{model_name}_epoch{epoch}.pth\")\n",
    "        train_losses.append(checkpoint[\"train_mse\"])\n",
    "        test_losses.append(checkpoint[\"valid_mse\"])\n",
    "        test_accs.append(checkpoint[\"test_acc\"])\n",
    "    \n",
    "    trace1 = go.Scatter(\n",
    "        x = epoches,\n",
    "        y = train_losses,\n",
    "        name= \"Train Loss\",\n",
    "        xaxis='x',\n",
    "        yaxis='y1',\n",
    "        mode='lines+markers'\n",
    "    )\n",
    "    trace2 = go.Scatter(\n",
    "        x = [epoch + 0.5 for epoch in epoches],\n",
    "        y = test_losses,\n",
    "        name= \"Valid MSE\",\n",
    "        xaxis='x', \n",
    "        yaxis='y1',\n",
    "        mode='lines+markers'\n",
    "    )\n",
    "    trace3 = go.Scatter(\n",
    "        x = epoches,\n",
    "        y = test_accs,\n",
    "        name='Test Accuracy',\n",
    "        xaxis='x', \n",
    "        yaxis='y2',\n",
    "        mode='lines+markers'\n",
    "    )\n",
    "    \n",
    "    data = [trace1, trace2, trace3]\n",
    "    layout = go.Layout(\n",
    "        yaxis2=dict(overlaying = 'y', side = 'right', title = \"Accuracy\", range = [0.7, 1.0]),\n",
    "        yaxis1=dict(title = \"MSE Loss\"),\n",
    "        xaxis = dict(title = \"Epoch\"),\n",
    "        legend=dict(x=0.75, y=0.45, font=dict(size=12, color=\"black\"))\n",
    "    )\n",
    "    \n",
    "    fig = go.Figure(data=data, layout=layout)\n",
    "    fig.show()\n",
    "\n",
    "plot_training_history(\"pair_mean_256\", 20)"
   ]
  }
 ],
 "metadata": {
  "kernelspec": {
   "display_name": "base",
   "language": "python",
   "name": "python3"
  },
  "language_info": {
   "codemirror_mode": {
    "name": "ipython",
    "version": 3
   },
   "file_extension": ".py",
   "mimetype": "text/x-python",
   "name": "python",
   "nbconvert_exporter": "python",
   "pygments_lexer": "ipython3",
   "version": "3.9.12"
  },
  "orig_nbformat": 4,
  "vscode": {
   "interpreter": {
    "hash": "65330f7cde59a5173e44ca3f69e53435918c7609790a8d4b978a5bed5b0e5f09"
   }
  }
 },
 "nbformat": 4,
 "nbformat_minor": 2
}
