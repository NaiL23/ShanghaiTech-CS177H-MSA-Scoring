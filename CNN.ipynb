{
 "cells": [
  {
   "cell_type": "markdown",
   "id": "separate-atmosphere",
   "metadata": {},
   "source": [
    "## CNN"
   ]
  },
  {
   "cell_type": "code",
   "execution_count": null,
   "id": "99578c78",
   "metadata": {},
   "outputs": [],
   "source": [
    "import os\n",
    "import sys\n",
    "from pathlib import Path\n",
    "\n",
    "PROJECT_PATH = Path() \n",
    "sys.path.append(str(PROJECT_PATH))\n",
    "\n",
    "import torch\n",
    "import torchvision\n",
    "import torch.utils.data as Data\n",
    "import torch.nn as nn\n",
    "from matplotlib import pyplot as plt\n",
    "\n",
    "DATASET_PATH = Path() / \"perl5\" / \"project\" / \"dataset\" / \"CASP14_fm\"\n",
    "MODEL_PATH       = PROJECT_PATH / \"model\"\n",
    "EMBDEDDINGS_PATH = PROJECT_PATH / \"embeddings\"\n",
    "\n",
    "# hyperparameters\n",
    "LEARNING_RATE = 1e-4\n",
    "EPOCH_NUM = 20\n",
    "BATCH_SIZE = 128"
   ]
  },
  {
   "cell_type": "code",
   "execution_count": null,
   "id": "e1658a93",
   "metadata": {},
   "outputs": [],
   "source": [
    "# Prepare dataset\n",
    "from dataset import EmbeddingScoreDataset\n",
    "\n",
    "train_dataset = EmbeddingScoreDataset(EMBDEDDINGS_PATH, DATASET_PATH, is_train = True)\n",
    "test_dataset  = EmbeddingScoreDataset(EMBDEDDINGS_PATH, DATASET_PATH, is_train = False)\n",
    "\n",
    "test_x = torch.unsqueeze(test_data.test_data, dim=1).type(torch.FloatTensor)[:2000].cuda() / 255.\n",
    "test_y = test_data.test_labels[:2000].cuda()\n",
    "\n",
    "train_loader = Data.DataLoader(train_dataset, batch_size = BATCH_SIZE, num_workers = NUM_GPU * 4, pin_memory = True, shuffle = True)\n",
    "test_loader  = Data.DataLoader(test_dataset, batch_size = 1, shuffle = False)\n"
   ]
  },
  {
   "cell_type": "code",
   "execution_count": null,
   "id": "601fb035",
   "metadata": {},
   "outputs": [],
   "source": [
    "# model\n",
    "class CNN(nn.Module):\n",
    "    def __init__(self):\n",
    "        super(CNN, self).__init__()\n",
    "        self.conv1 = nn.Sequential(\n",
    "            nn.Conv2d(\n",
    "                in_channels=1,\n",
    "                out_channels=16,\n",
    "                kernel_size=5,\n",
    "                stride=1,\n",
    "                padding=0\n",
    "            ),\n",
    "            nn.ReLU(),\n",
    "            nn.MaxPool2d(kernel_size=2)\n",
    "        )\n",
    "\n",
    "        self.conv2 = nn.Sequential(\n",
    "            nn.Conv2d(\n",
    "                in_channels=16,\n",
    "                out_channels=32,\n",
    "                kernel_size=5,\n",
    "                stride=1,\n",
    "                padding=0\n",
    "            ),\n",
    "            nn.ReLU(),\n",
    "            nn.MaxPool2d(kernel_size=2)\n",
    "        )\n",
    "\n",
    "        self.fc1  = nn.Linear(32 * 7 * 7, 128) \n",
    "        self.fc2  = nn.Linear(128, 32)\n",
    "        self.fc3  = nn.Linear(32,1)\n",
    "\n",
    "    def forward(self, x):\n",
    "        x = self.conv1(x)\n",
    "        x = self.conv2(x)\n",
    "        x = x.view(-1, self.num_flat_features(x)) \n",
    "        x = F.relu(self.fc1(x)) \n",
    "        x = F.relu(self.fc2(x)) \n",
    "        x = self.fc3(x) \n",
    "        return x"
   ]
  },
  {
   "cell_type": "code",
   "execution_count": null,
   "id": "8bbbc140",
   "metadata": {},
   "outputs": [],
   "source": [
    "cnn = CNN()\n",
    "cnn = cnn.cuda()\n",
    "\n",
    "NUM_GPU = torch.cuda.device_count()\n",
    "USE_PARALLEL = NUM_GPU > 1\n",
    "if USE_PARALLEL :\n",
    "    cnn = torch.nn.DataParallel(cnn)\n",
    "    \n",
    "print(cnn)"
   ]
  },
  {
   "cell_type": "code",
   "execution_count": null,
   "id": "b4ff2e81",
   "metadata": {},
   "outputs": [],
   "source": [
    "optimizer = torch.optim.Adam(cnn.parameters(), lr=LEARNING_RATE)\n",
    "criterion = nn.MSELoss()\n",
    "\n",
    "step_list = []\n",
    "loss_list = []\n",
    "accuracy_list = []\n",
    "counter = 0"
   ]
  },
  {
   "cell_type": "code",
   "execution_count": null,
   "id": "0379dedc",
   "metadata": {},
   "outputs": [],
   "source": [
    "# train\n",
    "for epoch in range(EPOCH_NUM):\n",
    "    for step, (b_x, b_y) in enumerate(train_loader):\n",
    "        predict_y = cnn(b_x.cuda())\n",
    "        loss = criterion(predict_y, b_y.cuda())\n",
    "        optimizer.zero_grad()\n",
    "        loss.backward()\n",
    "        optimizer.step()\n",
    "\n",
    "        counter += 1\n",
    "\n",
    "        if step % 100 == 0:\n",
    "            test_output = cnn(test_x)\n",
    "            pred_y = torch.max(test_output, 1)[1].data.squeeze()\n",
    "            accuracy = float(torch.sum(pred_y == test_y)) / float(test_y.size(0))\n",
    "            print('epoch:', epoch, '|step:%4d' % step, '|loss:%6f' % loss.data.cpu(), '|accuracy:%4f' % accuracy)\n",
    "\n",
    "            step_list.append(counter)\n",
    "            loss_list.append(loss.data.cpu())\n",
    "            accuracy_list.append(accuracy)\n",
    "\n",
    "            plt.cla()\n",
    "            plt.plot(step_list, loss_list, c='red', label='loss')\n",
    "            plt.plot(step_list, accuracy_list, c='blue', label='accuracy')\n",
    "            plt.legend(loc='best')\n",
    "            plt.pause(0.1)"
   ]
  }
 ],
 "metadata": {
  "kernelspec": {
   "display_name": "Python 3 (ipykernel)",
   "language": "python",
   "name": "python3"
  },
  "language_info": {
   "codemirror_mode": {
    "name": "ipython",
    "version": 3
   },
   "file_extension": ".py",
   "mimetype": "text/x-python",
   "name": "python",
   "nbconvert_exporter": "python",
   "pygments_lexer": "ipython3",
   "version": "3.9.13"
  }
 },
 "nbformat": 4,
 "nbformat_minor": 5
}
