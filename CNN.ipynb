{
 "cells": [
  {
   "cell_type": "markdown",
   "id": "separate-atmosphere",
   "metadata": {},
   "source": [
    "## CNN"
   ]
  },
  {
   "cell_type": "code",
   "execution_count": 1,
   "id": "ff351dca",
   "metadata": {},
   "outputs": [
    {
     "name": "stdout",
     "output_type": "stream",
     "text": [
      "Tue Dec 13 23:21:29 2022       \n",
      "+-----------------------------------------------------------------------------+\n",
      "| NVIDIA-SMI 512.78       Driver Version: 512.78       CUDA Version: 11.6     |\n",
      "|-------------------------------+----------------------+----------------------+\n",
      "| GPU  Name            TCC/WDDM | Bus-Id        Disp.A | Volatile Uncorr. ECC |\n",
      "| Fan  Temp  Perf  Pwr:Usage/Cap|         Memory-Usage | GPU-Util  Compute M. |\n",
      "|                               |                      |               MIG M. |\n",
      "|===============================+======================+======================|\n",
      "|   0  NVIDIA GeForce ... WDDM  | 00000000:01:00.0 Off |                  N/A |\n",
      "| N/A   53C    P8     6W /  N/A |     23MiB /  4096MiB |      0%      Default |\n",
      "|                               |                      |                  N/A |\n",
      "+-------------------------------+----------------------+----------------------+\n",
      "                                                                               \n",
      "+-----------------------------------------------------------------------------+\n",
      "| Processes:                                                                  |\n",
      "|  GPU   GI   CI        PID   Type   Process name                  GPU Memory |\n",
      "|        ID   ID                                                   Usage      |\n",
      "|=============================================================================|\n",
      "+-----------------------------------------------------------------------------+\n"
     ]
    }
   ],
   "source": [
    "!nvidia-smi"
   ]
  },
  {
   "cell_type": "code",
   "execution_count": 2,
   "id": "99578c78",
   "metadata": {},
   "outputs": [
    {
     "name": "stderr",
     "output_type": "stream",
     "text": [
      "C:\\Users\\craig\\anaconda3\\envs\\PyTorch\\lib\\site-packages\\tqdm\\auto.py:22: TqdmWarning: IProgress not found. Please update jupyter and ipywidgets. See https://ipywidgets.readthedocs.io/en/stable/user_install.html\n",
      "  from .autonotebook import tqdm as notebook_tqdm\n"
     ]
    }
   ],
   "source": [
    "import os\n",
    "import sys\n",
    "from pathlib import Path\n",
    "\n",
    "PROJECT_PATH = Path() \n",
    "sys.path.append(str(PROJECT_PATH))\n",
    "from tqdm import tqdm\n",
    "from pathlib import Path\n",
    "\n",
    "import torch\n",
    "import torchvision\n",
    "import torch.utils.data as Data\n",
    "import torch.nn as nn\n",
    "\n",
    "DATASET_PATH = Path() / \"dataset\" / \"CASP14_fm\"\n",
    "MODEL_PATH       = PROJECT_PATH / \"model\"\n",
    "EMBDEDDINGS_PATH = PROJECT_PATH / \"embeddings\"\n",
    "\n",
    "# hyperparameters\n",
    "LEARNING_RATE = 1e-4\n",
    "EPOCHS = 20\n",
    "BATCH_SIZE = 64\n",
    "checkpoint_epoch = 0\n",
    "model_name = \"cnn_256\""
   ]
  },
  {
   "cell_type": "code",
   "execution_count": 3,
   "id": "e1658a93",
   "metadata": {},
   "outputs": [],
   "source": [
    "# Prepare dataset\n",
    "from dataset import EmbeddingScoreDataset, PairDataset\n",
    "\n",
    "train_dataset = EmbeddingScoreDataset(EMBDEDDINGS_PATH, DATASET_PATH, is_train = True)\n",
    "test_dataset  = PairDataset(EMBDEDDINGS_PATH, DATASET_PATH, is_train = False)\n",
    "\n",
    "NUM_GPU = torch.cuda.device_count()\n",
    "\n",
    "train_loader = Data.DataLoader(train_dataset, batch_size = BATCH_SIZE, num_workers = NUM_GPU * 4, pin_memory = True, shuffle = True)\n",
    "test_loader  = Data.DataLoader(test_dataset, batch_size = 1, shuffle = False)\n"
   ]
  },
  {
   "cell_type": "code",
   "execution_count": 4,
   "id": "601fb035",
   "metadata": {},
   "outputs": [],
   "source": [
    "# model\n",
    "class CNN(nn.Module):\n",
    "    def __init__(self):\n",
    "        super(CNN, self).__init__()\n",
    "        self.conv1 = nn.Sequential(\n",
    "            nn.Conv2d(\n",
    "                in_channels=1,\n",
    "                out_channels=6,\n",
    "                kernel_size=5,\n",
    "                stride=1,\n",
    "                padding=0\n",
    "            ),\n",
    "            nn.ReLU(),\n",
    "            nn.MaxPool2d(kernel_size=2)\n",
    "        )\n",
    "\n",
    "        self.conv2 = nn.Sequential(\n",
    "            nn.Conv2d(\n",
    "                in_channels=6,\n",
    "                out_channels=16,\n",
    "                kernel_size=5,\n",
    "                stride=1,\n",
    "                padding=0\n",
    "            ),\n",
    "            nn.ReLU(),\n",
    "            nn.MaxPool2d(kernel_size=2)\n",
    "        )\n",
    "\n",
    "        self.fc1  = nn.Linear(768, 128) \n",
    "        self.fc2  = nn.Linear(128, 32)\n",
    "        self.fc3  = nn.Linear(128,32)\n",
    "\n",
    "    def forward(self, x):\n",
    "        x = self.conv1(x)\n",
    "        x = self.conv2(x)\n",
    "        x = x.view(-1, self.num_flat_features(x)) \n",
    "        x = F.relu(self.fc1(x)) \n",
    "        x = F.relu(self.fc2(x)) \n",
    "        x = torch.sigmoid(self.fc3(x))\n",
    "        return x"
   ]
  },
  {
   "cell_type": "code",
   "execution_count": 5,
   "id": "8bbbc140",
   "metadata": {},
   "outputs": [
    {
     "name": "stdout",
     "output_type": "stream",
     "text": [
      "CNN(\n",
      "  (conv1): Sequential(\n",
      "    (0): Conv2d(1, 6, kernel_size=(5, 5), stride=(1, 1))\n",
      "    (1): ReLU()\n",
      "    (2): MaxPool2d(kernel_size=2, stride=2, padding=0, dilation=1, ceil_mode=False)\n",
      "  )\n",
      "  (conv2): Sequential(\n",
      "    (0): Conv2d(6, 16, kernel_size=(5, 5), stride=(1, 1))\n",
      "    (1): ReLU()\n",
      "    (2): MaxPool2d(kernel_size=2, stride=2, padding=0, dilation=1, ceil_mode=False)\n",
      "  )\n",
      "  (fc1): Linear(in_features=768, out_features=128, bias=True)\n",
      "  (fc2): Linear(in_features=128, out_features=32, bias=True)\n",
      "  (fc3): Linear(in_features=128, out_features=32, bias=True)\n",
      ")\n"
     ]
    }
   ],
   "source": [
    "model = CNN().cuda()\n",
    "\n",
    "NUM_GPU = torch.cuda.device_count()\n",
    "USE_PARALLEL = NUM_GPU > 1\n",
    "if USE_PARALLEL :\n",
    "    model = torch.nn.DataParallel(model)\n",
    "    \n",
    "print(model)"
   ]
  },
  {
   "cell_type": "code",
   "execution_count": 6,
   "id": "b4ff2e81",
   "metadata": {},
   "outputs": [
    {
     "name": "stdout",
     "output_type": "stream",
     "text": [
      "Start training cnn_256 model from the 1st epoch.\n"
     ]
    }
   ],
   "source": [
    "optimizer = torch.optim.Adam(model.parameters(), lr=LEARNING_RATE)\n",
    "criterion = nn.MSELoss()\n",
    "\n",
    "if checkpoint_epoch > 0 :\n",
    "    checkpoint = torch.load(MODEL_PATH / f\"model_{model_name}_epoch{checkpoint_epoch}.pth\")\n",
    "    (model.module if USE_PARALLEL else model).load_state_dict(checkpoint['model_state_dict'])\n",
    "    optimizer.load_state_dict(checkpoint['optimizer_state_dict'])\n",
    "    epoch = checkpoint['epoch']\n",
    "    print(f\"The {model_name} model loaded has been trained for {epoch} epoche(s), with {checkpoint['train_mse']} training loss, {checkpoint['valid_mse']} validation MSE and {checkpoint['test_acc']} test accuracy. \")\n",
    "else :\n",
    "    print(f\"Start training {model_name} model from the 1st epoch.\")"
   ]
  },
  {
   "cell_type": "code",
   "execution_count": 7,
   "id": "1de13e63",
   "metadata": {},
   "outputs": [],
   "source": [
    "def calc_test_metric(model, print_wrong_predictions = False, print_correct_predictions = False):\n",
    "    model.eval()\n",
    "    mse, correct, tot = 0.0, 0, 0\n",
    "    with torch.no_grad():\n",
    "        with tqdm(total = len(test_loader), ncols = 80, file = sys.stdout) as bar:\n",
    "            for sample in test_loader :\n",
    "                x1, x2, y1, y2 = sample[\"embedding1\"].cuda(), sample[\"embedding2\"].cuda(), sample[\"score1\"].cuda(), sample[\"score2\"].cuda()\n",
    "                x, y = torch.vstack([x1, x2]), torch.vstack([y1, y2])\n",
    "                \n",
    "                predictor = model.module if USE_PARALLEL else model\n",
    "                pred = torch.sigmoid(predictor.regressor(x)) if model_name[:4] == 'pair' else predictor(x)\n",
    "\n",
    "                if torch.argmax(y) == torch.argmax(pred) :\n",
    "                    correct += 1\n",
    "                    if print_correct_predictions:\n",
    "                        for name, y_gt, y_pred in zip([sample['name1'][0], sample['name2'][0]], y, pred) :\n",
    "                            tqdm.write(f\"{name:>20}  y_gt:{y_gt.item():.4f}  y_pred:{y_pred.item() :.4f}\")\n",
    "                        tqdm.write(\"-----------------------------------------------\")\n",
    "                else :\n",
    "                    if print_wrong_predictions:\n",
    "                        for name, y_gt, y_pred in zip([sample['name1'][0], sample['name2'][0]], y, pred) :\n",
    "                            tqdm.write(f\"{name:>20}  y_gt:{y_gt.item() :.4f}  y_pred:{y_pred.item() :.4f}\")\n",
    "                        tqdm.write(\"===================================================\")\n",
    "                \n",
    "                mse += torch.sum((y - pred) ** 2).item()\n",
    "                tot += 2\n",
    "\n",
    "                bar.set_postfix({\n",
    "                    \"acc\": f\"{correct / (tot // 2):.4f}\",\n",
    "                    \"mse\": f\"{mse / tot:.4f}\"\n",
    "                })\n",
    "                bar.update(1)\n",
    "    \n",
    "    return {'accuracy' : correct / (tot // 2), 'mse' : mse / tot}"
   ]
  },
  {
   "cell_type": "code",
   "execution_count": null,
   "id": "0379dedc",
   "metadata": {},
   "outputs": [
    {
     "name": "stderr",
     "output_type": "stream",
     "text": [
      "\r",
      "  0%|                                                                                                      | 0/42 [00:00<?, ?it/s]"
     ]
    }
   ],
   "source": [
    "# train\n",
    "for epoch in range(checkpoint_epoch + 1, EPOCHS + 1):\n",
    "    losses, losses_reg, tot = 0, 0, 0\n",
    "    \n",
    "    model.train()\n",
    "\n",
    "    with tqdm(total = len(train_loader), ncols = 130) as bar:\n",
    "        for batch, sample in enumerate(train_loader) :\n",
    "            \n",
    "            bar.set_description(f\"[epoch#{epoch:>2}/{EPOCHS:>2}][{batch * BATCH_SIZE:>5}/{len(train_dataset):>5}]\")\n",
    "\n",
    "            x, y = sample[\"embedding\"].cuda(), sample[\"score\"].cuda()\n",
    "            pred = model(x)\n",
    "            loss = criterion(pred,y)\n",
    "\n",
    "            # Backpropagation\n",
    "            optimizer.zero_grad()     \n",
    "            loss.backward()\n",
    "            optimizer.step()\n",
    "            \n",
    "            losses += loss.item() * len(sample)\n",
    "            tot += len(sample)\n",
    "\n",
    "            bar.set_postfix({\n",
    "                # \"batch loss\" : f\"{loss.item():.5f}\",\n",
    "                \"loss\": f\"{losses / tot:.5f}\"\n",
    "            })\n",
    "            bar.update(1)\n",
    "\n",
    "    test_metric =  calc_test_metric(model)\n",
    "    train_loss, train_mse, test_acc, valid_mse = losses / tot, losses_reg / tot, test_metric['accuracy'], test_metric['mse']\n",
    "    torch.save({\n",
    "        'epoch'               : epoch,\n",
    "        'model_state_dict'    : (model.module if USE_PARALLEL else model).state_dict(),\n",
    "        'optimizer_state_dict': optimizer.state_dict(),\n",
    "        'train_mse'           : train_mse,\n",
    "        'train_loss'          : train_loss,\n",
    "        'valid_mse'           : valid_mse,\n",
    "        'test_acc'            : test_acc\n",
    "    }, MODEL_PATH / f\"model_{model_name}_epoch{epoch}.pth\")"
   ]
  },
  {
   "cell_type": "code",
   "execution_count": null,
   "id": "1592ddde",
   "metadata": {},
   "outputs": [],
   "source": []
  }
 ],
 "metadata": {
  "kernelspec": {
   "display_name": "PyTorch",
   "language": "python",
   "name": "pytorch"
  },
  "language_info": {
   "codemirror_mode": {
    "name": "ipython",
    "version": 3
   },
   "file_extension": ".py",
   "mimetype": "text/x-python",
   "name": "python",
   "nbconvert_exporter": "python",
   "pygments_lexer": "ipython3",
   "version": "3.8.15"
  }
 },
 "nbformat": 4,
 "nbformat_minor": 5
}
