{
 "cells": [
  {
   "cell_type": "code",
   "execution_count": null,
   "metadata": {},
   "outputs": [],
   "source": [
    "!sinfo -O Nodehost,Gres:.30,GresUsed:.45\n",
    "!salloc -N 1 --cpus-per-task=4 -p CS177h --gres=gpu:TeslaM4024GB:1\n",
    "!salloc -N 1 --cpus-per-task=8 -p CS177h --gres=gpu:TeslaM4024GB:2\n",
    "!salloc -N 1 --cpus-per-task=12 -p CS177h --gres=gpu:TeslaM4024GB:3\n",
    "!salloc -N 1 --cpus-per-task=16 -p CS177h --gres=gpu:TeslaM4024GB:4\n",
    "!jupyter-lab --no-brows --ip=0.0.0.0 --port=7774 "
   ]
  },
  {
   "cell_type": "code",
   "execution_count": 1,
   "metadata": {},
   "outputs": [],
   "source": [
    "import os\n",
    "import sys\n",
    "from pathlib import Path\n",
    "\n",
    "# PROJECT_PATH = Path() / \"Project\" / \"ShanghaiTech-CS177H-MSA-Scoring\"\n",
    "PROJECT_PATH = Path() / \"perl5\" / \"project\"\n",
    "sys.path.append(str(PROJECT_PATH))\n",
    "\n",
    "from tqdm import tqdm\n",
    "import numpy as np\n",
    "import torch\n",
    "np.random.seed(42)\n",
    "torch.manual_seed(42)\n",
    "torch.cuda.manual_seed(42)\n",
    "torch.cuda.manual_seed_all(42)\n",
    "torch.backends.cudnn.benchmark = False\n",
    "torch.backends.cudnn.deterministic = True\n",
    "\n",
    "import esm\n",
    "\n",
    "DATASET_PATH     = PROJECT_PATH / \"dataset\" / \"CASP14_fm\"\n",
    "MODEL_PATH       = PROJECT_PATH / \"model\"\n",
    "EMBDEDDINGS_PATH = PROJECT_PATH / \"embeddings\"\n",
    "TRANSFORMER_PATH = PROJECT_PATH / \"esm_msa1b_t12_100M_UR50S.pt\"\n",
    "\n",
    "# hyperparameters\n",
    "MAX_DEPTH = 256"
   ]
  },
  {
   "cell_type": "code",
   "execution_count": 2,
   "metadata": {},
   "outputs": [
    {
     "name": "stdout",
     "output_type": "stream",
     "text": [
      "Mon Dec 12 16:51:59 2022       \n",
      "+-----------------------------------------------------------------------------+\n",
      "| NVIDIA-SMI 470.74       Driver Version: 470.74       CUDA Version: 11.4     |\n",
      "|-------------------------------+----------------------+----------------------+\n",
      "| GPU  Name        Persistence-M| Bus-Id        Disp.A | Volatile Uncorr. ECC |\n",
      "| Fan  Temp  Perf  Pwr:Usage/Cap|         Memory-Usage | GPU-Util  Compute M. |\n",
      "|                               |                      |               MIG M. |\n",
      "|===============================+======================+======================|\n",
      "|   0  NVIDIA TITAN V      On   | 00000000:18:00.0 Off |                  N/A |\n",
      "| 28%   28C    P8    24W / 250W |      0MiB / 12066MiB |      0%      Default |\n",
      "|                               |                      |                  N/A |\n",
      "+-------------------------------+----------------------+----------------------+\n",
      "                                                                               \n",
      "+-----------------------------------------------------------------------------+\n",
      "| Processes:                                                                  |\n",
      "|  GPU   GI   CI        PID   Type   Process name                  GPU Memory |\n",
      "|        ID   ID                                                   Usage      |\n",
      "|=============================================================================|\n",
      "|  No running processes found                                                 |\n",
      "+-----------------------------------------------------------------------------+\n"
     ]
    }
   ],
   "source": [
    "!nvidia-smi"
   ]
  },
  {
   "cell_type": "code",
   "execution_count": 3,
   "metadata": {},
   "outputs": [],
   "source": [
    "msa_transformer, msa_alphabet = esm.pretrained.load_model_and_alphabet_local(TRANSFORMER_PATH) if TRANSFORMER_PATH else esm.pretrained.esm_msa1b_t12_100M_UR50S()\n",
    "msa_transformer = msa_transformer.eval().cuda()\n",
    "msa_batch_converter = msa_alphabet.get_batch_converter()"
   ]
  },
  {
   "cell_type": "code",
   "execution_count": 4,
   "metadata": {},
   "outputs": [
    {
     "name": "stdout",
     "output_type": "stream",
     "text": [
      "# of MSAs in dataset: 2850\n"
     ]
    }
   ],
   "source": [
    "# load MSA data\n",
    "train_dataset_path = DATASET_PATH / \"train_filtered\"\n",
    "test_dataset_path  = DATASET_PATH / \"test_filtered\"\n",
    "train_msas = [ {'path': train_dataset_path / filename, 'name': filename[:-4]} for filename in os.listdir(train_dataset_path) if filename.endswith('.a3m') ]\n",
    "test_msas  = [ {'path': test_dataset_path  / filename, 'name': filename[:-4]} for filename in os.listdir(test_dataset_path)  if filename.endswith('.a3m') ]\n",
    "msas = train_msas + test_msas\n",
    "\n",
    "print(f\"# of MSAs in dataset: {len(msas)}\")"
   ]
  },
  {
   "cell_type": "code",
   "execution_count": 6,
   "metadata": {},
   "outputs": [
    {
     "name": "stderr",
     "output_type": "stream",
     "text": [
      " 47%|██████████████████████████████████████████████████████████████████▍                                                                          | 682/1447 [1:05:54<57:34,  4.52s/it]"
     ]
    }
   ],
   "source": [
    "from dataset import read_msa\n",
    "from subsampling import greedy_subsampling\n",
    "\n",
    "padding_size = 0\n",
    "\n",
    "for msa in tqdm(msas):\n",
    "    msa_name, msa_path = msa['name'], msa['path']\n",
    "    msa_data = greedy_subsampling(read_msa(msa_path), MAX_DEPTH)\n",
    "    _, _, msa_batch_tokens = msa_batch_converter(msa_data)\n",
    "    \n",
    "    with torch.no_grad():\n",
    "        torch.cuda.empty_cache()\n",
    "        results = msa_transformer(msa_batch_tokens.cuda(non_blocking = True), repr_layers=[12])\n",
    "    \n",
    "    embedding = results['representations'][12][0, 0, :, :].cpu().clone()\n",
    "    torch.save(embedding, EMBDEDDINGS_PATH / (msa_name + \".pt\"))\n",
    "    padding_size = max(padding_size, embedding.shape[0])\n",
    "\n",
    "print(f\"Shape of a feature map after padding: {padding_size} x {msa_transformer.args.embed_dim}\")"
   ]
  },
  {
   "cell_type": "code",
   "execution_count": 6,
   "metadata": {},
   "outputs": [
    {
     "name": "stdout",
     "output_type": "stream",
     "text": [
      "# of embedding extracted: 2850\n"
     ]
    }
   ],
   "source": [
    "n_extracted = len([filename for filename in os.listdir(EMBDEDDINGS_PATH) if filename.endswith('.pt')])\n",
    "print(f\"# of embedding extracted: {n_extracted}\")"
   ]
  }
 ],
 "metadata": {
  "kernelspec": {
   "display_name": "Python 3 (ipykernel)",
   "language": "python",
   "name": "python3"
  },
  "orig_nbformat": 4,
  "vscode": {
   "interpreter": {
    "hash": "6e0b1f18ae03a7035bc033a9f9c7ae76394b92e608ff6812adcccfdadc13d2c8"
   }
  }
 },
 "nbformat": 4,
 "nbformat_minor": 2
}
