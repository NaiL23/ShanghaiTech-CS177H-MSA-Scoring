{
 "cells": [
  {
   "cell_type": "code",
   "execution_count": null,
   "metadata": {},
   "outputs": [],
   "source": [
    "!sinfo -O Nodehost,Gres:.30,GresUsed:.45\n",
    "!salloc -N 1 --cpus-per-task=4 -p CS177h --gres=gpu:TeslaM4024GB:1\n",
    "!salloc -N 1 --cpus-per-task=8 -p CS177h --gres=gpu:TeslaM4024GB:2\n",
    "!salloc -N 1 --cpus-per-task=12 -p CS177h --gres=gpu:TeslaM4024GB:3\n",
    "!salloc -N 1 --cpus-per-task=16 -p CS177h --gres=gpu:TeslaM4024GB:4\n",
    "!jupyter-lab --no-brows --ip=0.0.0.0 --port=7774 "
   ]
  },
  {
   "cell_type": "code",
   "execution_count": null,
   "metadata": {},
   "outputs": [],
   "source": [
    "%pip install fair-esm\n",
    "%conda install biopython"
   ]
  },
  {
   "cell_type": "code",
   "execution_count": 1,
   "metadata": {},
   "outputs": [
    {
     "name": "stdout",
     "output_type": "stream",
     "text": [
      "Mon Oct 31 19:05:48 2022       \n",
      "+-----------------------------------------------------------------------------+\n",
      "| NVIDIA-SMI 470.74       Driver Version: 470.74       CUDA Version: 11.4     |\n",
      "|-------------------------------+----------------------+----------------------+\n",
      "| GPU  Name        Persistence-M| Bus-Id        Disp.A | Volatile Uncorr. ECC |\n",
      "| Fan  Temp  Perf  Pwr:Usage/Cap|         Memory-Usage | GPU-Util  Compute M. |\n",
      "|                               |                      |               MIG M. |\n",
      "|===============================+======================+======================|\n",
      "|   0  Tesla M40 24GB      On   | 00000000:02:00.0 Off |                    0 |\n",
      "| N/A   28C    P8    28W / 250W |      0MiB / 22945MiB |      0%      Default |\n",
      "|                               |                      |                  N/A |\n",
      "+-------------------------------+----------------------+----------------------+\n",
      "|   1  Tesla M40 24GB      On   | 00000000:03:00.0 Off |                    0 |\n",
      "| N/A   28C    P8    27W / 250W |      0MiB / 22945MiB |      0%      Default |\n",
      "|                               |                      |                  N/A |\n",
      "+-------------------------------+----------------------+----------------------+\n",
      "|   2  Tesla M40 24GB      On   | 00000000:83:00.0 Off |                    0 |\n",
      "| N/A   28C    P8    28W / 250W |      0MiB / 22945MiB |      0%      Default |\n",
      "|                               |                      |                  N/A |\n",
      "+-------------------------------+----------------------+----------------------+\n",
      "|   3  Tesla M40 24GB      On   | 00000000:84:00.0 Off |                    0 |\n",
      "| N/A   28C    P8    27W / 250W |      0MiB / 22945MiB |      0%      Default |\n",
      "|                               |                      |                  N/A |\n",
      "+-------------------------------+----------------------+----------------------+\n",
      "                                                                               \n",
      "+-----------------------------------------------------------------------------+\n",
      "| Processes:                                                                  |\n",
      "|  GPU   GI   CI        PID   Type   Process name                  GPU Memory |\n",
      "|        ID   ID                                                   Usage      |\n",
      "|=============================================================================|\n",
      "|  No running processes found                                                 |\n",
      "+-----------------------------------------------------------------------------+\n"
     ]
    }
   ],
   "source": [
    "!nvidia-smi"
   ]
  },
  {
   "cell_type": "code",
   "execution_count": null,
   "metadata": {},
   "outputs": [],
   "source": [
    "import sys\n",
    "sys.path.append(\"/public/home/cs177h/lianyh/perl5/project\")\n",
    "\n",
    "from tqdm import tqdm\n",
    "from pathlib import Path\n",
    "\n",
    "import numpy as np\n",
    "import matplotlib.pyplot as plt\n",
    "plt.rc('font', size=14)\n",
    "plt.rc('axes', labelsize=14, titlesize=14)\n",
    "plt.rc('legend', fontsize=14)\n",
    "plt.rc('xtick', labelsize=10)\n",
    "plt.rc('ytick', labelsize=10)\n",
    "\n",
    "import torch\n",
    "from torch import nn\n",
    "import torch.nn.functional as F\n",
    "from torch.utils.data import DataLoader\n",
    "np.random.seed(42)\n",
    "torch.manual_seed(42)\n",
    "torch.cuda.manual_seed(42)\n",
    "torch.cuda.manual_seed_all(42)\n",
    "torch.backends.cudnn.benchmark = False\n",
    "torch.backends.cudnn.deterministic = True\n",
    "\n",
    "import esm\n",
    "\n",
    "DATASET_PATH = Path() / \"perl5\" / \"project\" / \"dataset\" / \"CASP14_fm\"\n",
    "MODEL_PATH = Path() / \"perl5\" / \"project\" / \"model\"\n",
    "EMBDEDDINGS_PATH = Path() / \"perl5\" / \"project\" / \"embdeddings\"\n",
    "TRANSFORMER_PATH = Path() / \"perl5\" / \"project\" / \"esm_msa1b_t12_100M_UR50S.pt\"\n",
    "\n",
    "# hyperparameters\n",
    "MAX_DEPTH = 256\n",
    "EPOCHES = 50\n",
    "LEARNING_RATE = 1e-4"
   ]
  },
  {
   "cell_type": "markdown",
   "metadata": {},
   "source": [
    "## Explore data"
   ]
  },
  {
   "cell_type": "markdown",
   "metadata": {},
   "source": [
    "### `.a3m` MSA"
   ]
  },
  {
   "cell_type": "code",
   "execution_count": 2,
   "metadata": {},
   "outputs": [],
   "source": [
    "from dataset import read_msa"
   ]
  },
  {
   "cell_type": "code",
   "execution_count": 3,
   "metadata": {},
   "outputs": [
    {
     "data": {
      "text/plain": [
       "[('T1024-D1:',\n",
       "  'KEFWNLDKNLQLRLGIVFLGAFSYGTVFSSMTIYYNQYLGSAITGILLALSAVATFVAGILAGFFADRNGRKPVMVFGTIIQLLGAALAIASNLPGHVNPWSTFIAFLLISFGYNFVITAGNAMIIDASNAENRKVVFMLDYWAQNLSVILGAALGAWLFRPAFEALLVILLLTVLVSFFLTTFVMTETFKPT'),\n",
       " ('3799131 len:525',\n",
       "  'KGLWALAANTGERFGYTMLAVF---LLYLQANFHYEAGLASTIYSTFLML----VYFLPVIGGIAADRFGFGKMVTTGIFIMFIGYLL-LSIPMGGDYMAIIAMLALILVSLGTGLF--KGNLQVMAPQYADKRDSGFSLFYMAINIGAMFAPTIMDWYYHFAFAVACVSLIVSILIYYFTSSTYN-------'),\n",
       " ('tr|A0A0R1VVR4|A0A0R1VVR4_9LACO Major facilitator superfamily permease OS=Lactobacillus ghanensis DSM 18630 GN=FC89_GL000394 PE=4 SV=1',\n",
       "  'ENIMK--KNLPILLA-SMLVNMGIGLIMPITTLFLHNRLHQTLVTVLMGF-SLAMVLGNLLGGWLFDHWKVKPTHYLGGLLVWLNLTLLIIFPI------WPLY-TILVIGYGFGL----GILNSAIAAHQKKSPNLFTNAYWLANLGMGLATF----NIRWVFSVALFIFIVTLLVVFFHE-----------'),\n",
       " ('8253022 len:434',\n",
       "  'ANFILLV------LG-QGISLFGNTMLFAMSMWVLDETASSTTFATVLAISVIPTILISPFGGVMADRVSKRAMMVISGIVTLLATVF---FALSG----FNILIAIMQVVLAVLDAMETPVVQSAGRESSTDLRRGAAIINQVQQLSQLLPSFLGGVGIRPMMLITAACLMSAAMVECFIRLAKPNQ-----'),\n",
       " ('7093751 len:409',\n",
       "  'KDIRQTDRKIIILLT-VLVDVLGVGIVIPILPFYEENGVSPLVLTLLIAVFSFFSFISAPMLGALSDKIGRRPVLIISIASTAIGWLV---FAWANSI--WMLFLGRIIDGMA------AGNLPVAIAKDEKERTKNLGLISAVFGVGFIIGPALGA-ITLPFFVVGFMALLNTLAAIIFLPETNL-------')]"
      ]
     },
     "execution_count": 3,
     "metadata": {},
     "output_type": "execute_result"
    }
   ],
   "source": [
    "msa = read_msa(DATASET_PATH / \"train\" / \"T1024-D1_aug_fm.a3m\")\n",
    "msa[:5]"
   ]
  },
  {
   "cell_type": "markdown",
   "metadata": {},
   "source": [
    "### Read MSAs\n",
    "\n",
    "read MSA from `.a3m` files"
   ]
  },
  {
   "cell_type": "code",
   "execution_count": 4,
   "metadata": {},
   "outputs": [],
   "source": [
    "from dataset import read_msa_data"
   ]
  },
  {
   "cell_type": "code",
   "execution_count": 10,
   "metadata": {},
   "outputs": [],
   "source": [
    "msa_data_train, _ = read_msa_data(root = DATASET_PATH, is_train = True)\n",
    "msa_data_test, _ = read_msa_data(root = DATASET_PATH, is_train = False)"
   ]
  },
  {
   "cell_type": "code",
   "execution_count": 12,
   "metadata": {},
   "outputs": [
    {
     "name": "stdout",
     "output_type": "stream",
     "text": [
      "# of train MSAs: 2660\n",
      "> max MSA depth in train set: 32494\n",
      "> max sequence length in train set: 583\n",
      "# of test MSAs: 190\n",
      "> max MSA depth in test set: 21298\n",
      "> max sequence length in test set: 583\n"
     ]
    }
   ],
   "source": [
    "print(f\"# of train MSAs: {len(msa_data_train)}\")\n",
    "print(f\"> max MSA depth in train set: {max(len(msa['msa']) for _, msa in msa_data_train.items())}\" )\n",
    "print(f\"> max sequence length in train set: {max(len(msa['msa'][0][1]) for _, msa in msa_data_train.items())}\" )\n",
    "\n",
    "print(f\"# of test MSAs: {len(msa_data_test)}\")\n",
    "print(f\"> max MSA depth in test set: {max(len(msa['msa']) for _, msa in msa_data_test.items())}\" )\n",
    "print(f\"> max sequence length in test set: {max(len(msa['msa'][0][1]) for _, msa in msa_data_test.items())}\" )"
   ]
  },
  {
   "cell_type": "markdown",
   "metadata": {},
   "source": [
    "Sort MSAs by scores:"
   ]
  },
  {
   "cell_type": "code",
   "execution_count": 13,
   "metadata": {},
   "outputs": [],
   "source": [
    "def print_top_scored_msas(msa_data, top_k = 10, bot_k = 5) :\n",
    "    msa_scores = sorted([(msa['score'], msa_name) for msa_name, msa in msa_data.items()], reverse = True)\n",
    "    for _, msa_name in msa_scores[:top_k] :\n",
    "        msa = msa_data[msa_name]\n",
    "        print(f\"MSA {msa_name} has { len(msa['msa']) } sequences of length { len(msa['msa'][0][1]) }, scored {msa['score']:.3f}\")\n",
    "    print(\"......\")\n",
    "    for _, msa_name in msa_scores[-bot_k:] :\n",
    "        msa = msa_data[msa_name]\n",
    "        print(f\"MSA {msa_name} has { len(msa['msa']) } sequences of length { len(msa['msa'][0][1]) }, scored {msa['score']:.3f}\")"
   ]
  },
  {
   "cell_type": "code",
   "execution_count": 14,
   "metadata": {},
   "outputs": [
    {
     "name": "stdout",
     "output_type": "stream",
     "text": [
      "MSA T1070-D2_rosetta_fm has 10403 sequences of length 101, scored 99.752\n",
      "MSA T1070-D2_our_fm has 4277 sequences of length 101, scored 99.752\n",
      "MSA T1070-D2_original_fm has 8885 sequences of length 101, scored 99.752\n",
      "MSA T1070-D2_meta_fm has 6439 sequences of length 101, scored 99.505\n",
      "MSA T1070-D2_deduplicated_fm has 2155 sequences of length 101, scored 99.505\n",
      "MSA T1070-D2_cov50_fm has 1956 sequences of length 101, scored 99.505\n",
      "MSA T1101-D1_rand22_fm has 204 sequences of length 83, scored 99.097\n",
      "MSA T1065s2-D1_original_fm has 8868 sequences of length 98, scored 98.980\n",
      "MSA T1101-D1_rand9_fm has 203 sequences of length 83, scored 98.795\n",
      "MSA T1101-D1_rand19_fm has 203 sequences of length 83, scored 98.795\n",
      "......\n",
      "MSA T1026-D1_rand9_fm has 201 sequences of length 146, scored 15.925\n",
      "MSA T1026-D1_rand15_fm has 206 sequences of length 146, scored 15.925\n",
      "MSA T1026-D1_rand7_fm has 200 sequences of length 146, scored 15.755\n",
      "MSA T1043-D1_rand3_fm has 204 sequences of length 148, scored 15.370\n",
      "MSA T1028-D1_rand5_fm has 208 sequences of length 292, scored 13.697\n"
     ]
    }
   ],
   "source": [
    "print_top_scored_msas(msa_data_train)"
   ]
  },
  {
   "cell_type": "code",
   "execution_count": 15,
   "metadata": {},
   "outputs": [
    {
     "name": "stdout",
     "output_type": "stream",
     "text": [
      "MSA T1070-D2_base_fm has 4808 sequences of length 101, scored 99.752\n",
      "MSA T1101-D1_rand18_fm has 202 sequences of length 83, scored 99.398\n",
      "MSA T1065s2-D1_base_fm has 4543 sequences of length 98, scored 99.235\n",
      "MSA T1046s2-D1_rosetta_fm has 52 sequences of length 141, scored 98.935\n",
      "MSA T1070-D4_base_fm has 398 sequences of length 68, scored 98.162\n",
      "MSA T1091-D4_our_fm has 4888 sequences of length 112, scored 97.990\n",
      "MSA T1046s1-D1_rosetta_fm has 44 sequences of length 72, scored 97.915\n",
      "MSA T1101-D1_rand13_fm has 203 sequences of length 83, scored 97.892\n",
      "MSA T1052-D3_original_fm has 3201 sequences of length 80, scored 97.812\n",
      "MSA T1089-D1_meta_fm has 9576 sequences of length 377, scored 97.810\n",
      "......\n",
      "MSA T1026-D1_rand13_fm has 202 sequences of length 146, scored 16.780\n",
      "MSA T1056-D1_rand15_fm has 203 sequences of length 169, scored 16.273\n",
      "MSA T1038-D1_rand6_fm has 207 sequences of length 114, scored 16.230\n",
      "MSA T1090-D1_rand6_fm has 201 sequences of length 189, scored 15.475\n",
      "MSA T1043-D1_rand1_fm has 200 sequences of length 148, scored 14.525\n"
     ]
    }
   ],
   "source": [
    "print_top_scored_msas(msa_data_test)"
   ]
  },
  {
   "cell_type": "code",
   "execution_count": 16,
   "metadata": {},
   "outputs": [
    {
     "data": {
      "text/plain": [
       "['AHKGAEHHHKAAEHHEQAAKHHHAAAEHHEKGEHEQAAHHADTAYAHHKHAEEHAAQAAKHDAEHHAPKPH',\n",
       " '----IEHHHKAAEHHEHAAKHHHAAAEHHQNGDHEKASHHAHAAHGHALHAEHHASEAAKHHANEHG----',\n",
       " '-HKGAEHHHKAAEHHEHAARHHREAAKHYETGNHEKAAHHAHVAHGHHLHARHHAEEATKHHASEHG----',\n",
       " '-HKGAEHHKKAAEHHELAAKHHREAAKHHEAGSHEKGAHHSEIAAGHGLHATYHTEEATKHHAEEHTG---',\n",
       " '--QAAEHHRKAAEHHEHAARHHEEAAEHHEAGKHETAAHHAHLARAHHEVATHHAVEAAKAHLEQHG----']"
      ]
     },
     "execution_count": 16,
     "metadata": {},
     "output_type": "execute_result"
    }
   ],
   "source": [
    "msa = msa_data_test[\"T1084-D1_our_fm\"]['msa']\n",
    "msa_sequences = [sequence for _, sequence in msa]\n",
    "msa_sequences[:5]"
   ]
  },
  {
   "cell_type": "code",
   "execution_count": 17,
   "metadata": {},
   "outputs": [
    {
     "name": "stdout",
     "output_type": "stream",
     "text": [
      "# of sequences (depth) : 2823\n",
      "# of protetins in a sequence: 71\n"
     ]
    }
   ],
   "source": [
    "print(f\"# of sequences (depth) : { len(msa_sequences) }\")\n",
    "print(f\"# of protetins in a sequence: { len(msa_sequences[0]) }\")"
   ]
  },
  {
   "cell_type": "code",
   "execution_count": 20,
   "metadata": {},
   "outputs": [
    {
     "name": "stdout",
     "output_type": "stream",
     "text": [
      "All sequences in an MSA share the same number of protetins.\n"
     ]
    }
   ],
   "source": [
    "def same_length(msa_data):\n",
    "    return all(all([len(sequence) == len(msa['msa'][0]) for sequence in msa['msa']]) for msa in msa_data.values())\n",
    "\n",
    "if same_length(msa_data_test) and same_length(msa_data_train):\n",
    "    print(\"All sequences in an MSA share the same number of protetins.\")"
   ]
  },
  {
   "cell_type": "markdown",
   "metadata": {},
   "source": [
    "### Subsampling MSA\n",
    "\n",
    "Subsampling MSA = swallowing MSA depth = decreasing # of sequences in an MSA"
   ]
  },
  {
   "cell_type": "markdown",
   "metadata": {},
   "source": [
    "#### HH Filter\n",
    "\n",
    "We can see the number of sequences (also called MSA depth) of MSAs varies and some are very deep. Furthermore, the MSA Transformer only supports maximum MSA depth $\\leq 1024$. \n",
    "\n",
    "We try to cut the number of sequences of deeper MSAs to 256 each. A simple approach is to intercept the first 256 sequences. However, let's try the method called **HH Filter** with the `-diff 256` parameter, which can extract a representative set (256 or more, usually close to 256) of the sequences from an alignment. If more than 256 sequences are returned we apply the Diversity Maximizing strategy on the HHFilter output."
   ]
  },
  {
   "cell_type": "code",
   "execution_count": null,
   "metadata": {},
   "outputs": [],
   "source": [
    "%conda install -c conda-forge -c bioconda hhsuite "
   ]
  },
  {
   "cell_type": "markdown",
   "metadata": {},
   "source": [
    "You can run HHFilter in command line like `hhfilter -i <INTPUT> -o <OUTPUT> [options] `. See https://manpages.ubuntu.com/manpages/bionic/man1/hhfilter.1.html.\n",
    "\n"
   ]
  },
  {
   "cell_type": "code",
   "execution_count": 21,
   "metadata": {},
   "outputs": [
    {
     "name": "stdout",
     "output_type": "stream",
     "text": [
      "- 15:47:19.878 INFO: Input file = perl5/project/dataset/CASP14_fm/test/T1084-D1_our_fm.a3m\n",
      "\n",
      "- 15:47:19.878 INFO: Output file = perl5/project/dataset/CASP14_fm/test_filtered/T1084-D1_our_fm.a3m\n",
      "\n",
      "- 15:47:19.990 DEBUG: Read perl5/project/dataset/CASP14_fm/test/T1084-D1_our_fm.a3m with 2823 sequences\n",
      "\n",
      "- 15:47:19.990 DEBUG: Single sequence in file perl5/project/dataset/CASP14_fm/test/T1084-D1_our_fm.a3m contains only 71 match_states! Switching to option -M first\n",
      " seq= AHKGAEHHHKAAEHHEQAAKHHHAAAEHHEKGEHEQAAHHADTAYAHHKHAEEHAAQAAKHDAEHHAPKPH\n",
      "\n",
      "- 15:47:19.993 DEBUG: Alignment in perl5/project/dataset/CASP14_fm/test/T1084-D1_our_fm.a3m contains 71 match states\n",
      "\n",
      "- 15:47:19.993 DEBUG: Using the Gonnet matrix\n",
      "\n",
      "- 15:47:19.993 DEBUG: sequence identity = 17.3066 %; entropy per column = 3.93717 bits (out of 4.18529); mutual information = 0.248121 bits\n",
      "\n",
      "- 15:47:20.001 DEBUG: 281 out of 2823 sequences passed filter (\n",
      "- 15:47:20.001 DEBUG: up to 25% position-dependent max pairwise sequence identity)\n",
      "\n"
     ]
    }
   ],
   "source": [
    "!hhfilter -i perl5/project/dataset/CASP14_fm/test/T1084-D1_our_fm.a3m -o perl5/project/dataset/CASP14_fm/test_filtered/T1084-D1_our_fm.a3m -diff 256 -v 3"
   ]
  },
  {
   "cell_type": "markdown",
   "metadata": {},
   "source": [
    "You can also do this via:"
   ]
  },
  {
   "cell_type": "code",
   "execution_count": 5,
   "metadata": {},
   "outputs": [
    {
     "name": "stderr",
     "output_type": "stream",
     "text": [
      "- 15:53:50.158 INFO: Input file = perl5/project/dataset/CASP14_fm/test/T1084-D1_our_fm.a3m\n",
      "\n",
      "- 15:53:50.158 INFO: Output file = perl5/project/dataset/CASP14_fm/test_filtered/T1084-D1_our_fm.a3m\n",
      "\n"
     ]
    }
   ],
   "source": [
    "from subsampling import hh_filter\n",
    "hh_filter(\"T1084-D1_our_fm.a3m\", DATASET_PATH / \"test\", DATASET_PATH / \"test_filtered\", diff=256, verbose=2)"
   ]
  },
  {
   "cell_type": "markdown",
   "metadata": {},
   "source": [
    "You will see 281 (close to 256) sequences are filtered out of all 2823 sequences. Now let's apply for all:"
   ]
  },
  {
   "cell_type": "code",
   "execution_count": 6,
   "metadata": {},
   "outputs": [],
   "source": [
    "from subsampling import filter_msa_data"
   ]
  },
  {
   "cell_type": "code",
   "execution_count": 18,
   "metadata": {},
   "outputs": [
    {
     "name": "stderr",
     "output_type": "stream",
     "text": [
      "100%|█████████████████████████████████████████████████████████████████████████████████████████████████████████████████████████████████████████████████████| 2660/2660 [01:30<00:00, 29.43it/s]\n"
     ]
    }
   ],
   "source": [
    "filter_msa_data(msa_data_train, root = DATASET_PATH, is_train = True)"
   ]
  },
  {
   "cell_type": "code",
   "execution_count": 19,
   "metadata": {},
   "outputs": [
    {
     "name": "stderr",
     "output_type": "stream",
     "text": [
      "100%|███████████████████████████████████████████████████████████████████████████████████████████████████████████████████████████████████████████████████████| 190/190 [00:15<00:00, 12.24it/s]\n"
     ]
    }
   ],
   "source": [
    "filter_msa_data(msa_data_test, root = DATASET_PATH, is_train = False)"
   ]
  },
  {
   "cell_type": "markdown",
   "metadata": {},
   "source": [
    "You will see MSA depths are much better but some are still $>256$:"
   ]
  },
  {
   "cell_type": "code",
   "execution_count": 22,
   "metadata": {},
   "outputs": [
    {
     "name": "stdout",
     "output_type": "stream",
     "text": [
      "MSA T1070-D2_rosetta_fm has 267 sequences of length 101, scored 99.752\n",
      "MSA T1070-D2_our_fm has 285 sequences of length 101, scored 99.752\n",
      "MSA T1070-D2_original_fm has 256 sequences of length 101, scored 99.752\n",
      "MSA T1070-D2_meta_fm has 485 sequences of length 101, scored 99.505\n",
      "MSA T1070-D2_deduplicated_fm has 437 sequences of length 101, scored 99.505\n",
      "MSA T1070-D2_cov50_fm has 388 sequences of length 101, scored 99.505\n",
      "MSA T1101-D1_rand22_fm has 204 sequences of length 83, scored 99.097\n",
      "MSA T1065s2-D1_original_fm has 314 sequences of length 98, scored 98.980\n",
      "MSA T1101-D1_rand9_fm has 203 sequences of length 83, scored 98.795\n",
      "MSA T1101-D1_rand19_fm has 203 sequences of length 83, scored 98.795\n",
      "......\n",
      "MSA T1026-D1_rand9_fm has 201 sequences of length 146, scored 15.925\n",
      "MSA T1026-D1_rand15_fm has 206 sequences of length 146, scored 15.925\n",
      "MSA T1026-D1_rand7_fm has 200 sequences of length 146, scored 15.755\n",
      "MSA T1043-D1_rand3_fm has 204 sequences of length 148, scored 15.370\n",
      "MSA T1028-D1_rand5_fm has 208 sequences of length 292, scored 13.697\n"
     ]
    }
   ],
   "source": [
    "msa_data_train, _ = read_msa_data(is_train = True, is_filtered = True)\n",
    "print_top_scored_msas(msa_data_train) "
   ]
  },
  {
   "cell_type": "code",
   "execution_count": 23,
   "metadata": {},
   "outputs": [
    {
     "name": "stdout",
     "output_type": "stream",
     "text": [
      "MSA T1070-D2_base_fm has 420 sequences of length 101, scored 99.752\n",
      "MSA T1101-D1_rand18_fm has 202 sequences of length 83, scored 99.398\n",
      "MSA T1065s2-D1_base_fm has 331 sequences of length 98, scored 99.235\n",
      "MSA T1046s2-D1_rosetta_fm has 52 sequences of length 141, scored 98.935\n",
      "MSA T1070-D4_base_fm has 227 sequences of length 68, scored 98.162\n",
      "MSA T1091-D4_our_fm has 556 sequences of length 112, scored 97.990\n",
      "MSA T1046s1-D1_rosetta_fm has 44 sequences of length 72, scored 97.915\n",
      "MSA T1101-D1_rand13_fm has 203 sequences of length 83, scored 97.892\n",
      "MSA T1052-D3_original_fm has 273 sequences of length 80, scored 97.812\n",
      "MSA T1089-D1_meta_fm has 455 sequences of length 377, scored 97.810\n",
      "......\n",
      "MSA T1026-D1_rand13_fm has 202 sequences of length 146, scored 16.780\n",
      "MSA T1056-D1_rand15_fm has 203 sequences of length 169, scored 16.273\n",
      "MSA T1038-D1_rand6_fm has 207 sequences of length 114, scored 16.230\n",
      "MSA T1090-D1_rand6_fm has 201 sequences of length 189, scored 15.475\n",
      "MSA T1043-D1_rand1_fm has 200 sequences of length 148, scored 14.525\n"
     ]
    }
   ],
   "source": [
    "msa_data_test, _ = read_msa_data(is_train = False, is_filtered = True)\n",
    "print_top_scored_msas(msa_data_test)"
   ]
  },
  {
   "cell_type": "markdown",
   "metadata": {},
   "source": [
    "#### Diversity Maxmizing\n",
    "\n",
    "Diversity Maximizing is a greedy strategy which starts from the reference and adds the sequence with highest average hamming distance to current set of sequences. Hence we can cut each MSA to at most 256 sequences."
   ]
  },
  {
   "cell_type": "code",
   "execution_count": 7,
   "metadata": {},
   "outputs": [],
   "source": [
    "from subsampling import greedy_subsampling"
   ]
  },
  {
   "cell_type": "markdown",
   "metadata": {},
   "source": [
    "For example:"
   ]
  },
  {
   "cell_type": "code",
   "execution_count": 8,
   "metadata": {},
   "outputs": [
    {
     "name": "stdout",
     "output_type": "stream",
     "text": [
      "before subsampling: 281\n"
     ]
    }
   ],
   "source": [
    "msa = read_msa(DATASET_PATH / \"test_filtered\" / \"T1084-D1_our_fm.a3m\")\n",
    "print(f\"before subsampling: { len(msa) }\")"
   ]
  },
  {
   "cell_type": "code",
   "execution_count": 9,
   "metadata": {},
   "outputs": [
    {
     "name": "stdout",
     "output_type": "stream",
     "text": [
      "after subsampling: 256\n"
     ]
    }
   ],
   "source": [
    "msa_subsampled = greedy_subsampling(msa)\n",
    "print(f\"after subsampling: { len(msa_subsampled) }\")"
   ]
  },
  {
   "cell_type": "markdown",
   "metadata": {},
   "source": [
    "Then we apply for all MSAs:"
   ]
  },
  {
   "cell_type": "code",
   "execution_count": 10,
   "metadata": {},
   "outputs": [],
   "source": [
    "from subsampling import subsampling_msa_data"
   ]
  },
  {
   "cell_type": "code",
   "execution_count": 28,
   "metadata": {},
   "outputs": [
    {
     "name": "stdout",
     "output_type": "stream",
     "text": [
      "MSA T1070-D2_rosetta_fm has 256 sequences of length 101, scored 99.752\n",
      "MSA T1070-D2_our_fm has 256 sequences of length 101, scored 99.752\n",
      "MSA T1070-D2_original_fm has 256 sequences of length 101, scored 99.752\n",
      "MSA T1070-D2_meta_fm has 256 sequences of length 101, scored 99.505\n",
      "MSA T1070-D2_deduplicated_fm has 256 sequences of length 101, scored 99.505\n",
      "MSA T1070-D2_cov50_fm has 256 sequences of length 101, scored 99.505\n",
      "MSA T1101-D1_rand22_fm has 204 sequences of length 83, scored 99.097\n",
      "MSA T1065s2-D1_original_fm has 256 sequences of length 98, scored 98.980\n",
      "MSA T1101-D1_rand9_fm has 203 sequences of length 83, scored 98.795\n",
      "MSA T1101-D1_rand19_fm has 203 sequences of length 83, scored 98.795\n",
      "......\n",
      "MSA T1026-D1_rand9_fm has 201 sequences of length 146, scored 15.925\n",
      "MSA T1026-D1_rand15_fm has 206 sequences of length 146, scored 15.925\n",
      "MSA T1026-D1_rand7_fm has 200 sequences of length 146, scored 15.755\n",
      "MSA T1043-D1_rand3_fm has 204 sequences of length 148, scored 15.370\n",
      "MSA T1028-D1_rand5_fm has 208 sequences of length 292, scored 13.697\n"
     ]
    }
   ],
   "source": [
    "msa_data_train = subsampling_msa_data(msa_data_train)\n",
    "print_top_scored_msas(msa_data_train)"
   ]
  },
  {
   "cell_type": "code",
   "execution_count": 29,
   "metadata": {},
   "outputs": [
    {
     "name": "stdout",
     "output_type": "stream",
     "text": [
      "MSA T1070-D2_base_fm has 256 sequences of length 101, scored 99.752\n",
      "MSA T1101-D1_rand18_fm has 202 sequences of length 83, scored 99.398\n",
      "MSA T1065s2-D1_base_fm has 256 sequences of length 98, scored 99.235\n",
      "MSA T1046s2-D1_rosetta_fm has 52 sequences of length 141, scored 98.935\n",
      "MSA T1070-D4_base_fm has 227 sequences of length 68, scored 98.162\n",
      "MSA T1091-D4_our_fm has 256 sequences of length 112, scored 97.990\n",
      "MSA T1046s1-D1_rosetta_fm has 44 sequences of length 72, scored 97.915\n",
      "MSA T1101-D1_rand13_fm has 203 sequences of length 83, scored 97.892\n",
      "MSA T1052-D3_original_fm has 256 sequences of length 80, scored 97.812\n",
      "MSA T1089-D1_meta_fm has 256 sequences of length 377, scored 97.810\n",
      "......\n",
      "MSA T1026-D1_rand13_fm has 202 sequences of length 146, scored 16.780\n",
      "MSA T1056-D1_rand15_fm has 203 sequences of length 169, scored 16.273\n",
      "MSA T1038-D1_rand6_fm has 207 sequences of length 114, scored 16.230\n",
      "MSA T1090-D1_rand6_fm has 201 sequences of length 189, scored 15.475\n",
      "MSA T1043-D1_rand1_fm has 200 sequences of length 148, scored 14.525\n"
     ]
    }
   ],
   "source": [
    "msa_data_test = subsampling_msa_data(msa_data_test)\n",
    "print_top_scored_msas(msa_data_test)"
   ]
  },
  {
   "cell_type": "markdown",
   "metadata": {},
   "source": [
    "## Explore Model"
   ]
  },
  {
   "cell_type": "code",
   "execution_count": 2,
   "metadata": {},
   "outputs": [
    {
     "name": "stderr",
     "output_type": "stream",
     "text": [
      "100%|████████████████████████████████████████████████████████████████████████████████████████████████████| 2660/2660 [00:39<00:00, 66.53it/s]\n"
     ]
    }
   ],
   "source": [
    "msa_data_train, _ = read_msa_data(is_train = True, is_filtered = True)\n",
    "msa_data_train = subsampling_msa_data(msa_data_train)"
   ]
  },
  {
   "cell_type": "code",
   "execution_count": 3,
   "metadata": {},
   "outputs": [
    {
     "name": "stderr",
     "output_type": "stream",
     "text": [
      "100%|██████████████████████████████████████████████████████████████████████████████████████████████████████| 190/190 [00:06<00:00, 27.93it/s]\n"
     ]
    }
   ],
   "source": [
    "msa_data_test, _ = read_msa_data(is_train = False, is_filtered = True)\n",
    "msa_data_test = subsampling_msa_data(msa_data_test)"
   ]
  },
  {
   "cell_type": "code",
   "execution_count": 19,
   "metadata": {},
   "outputs": [
    {
     "data": {
      "text/plain": [
       "1"
      ]
     },
     "execution_count": 19,
     "metadata": {},
     "output_type": "execute_result"
    }
   ],
   "source": [
    "torch.cuda.device_count()"
   ]
  },
  {
   "cell_type": "markdown",
   "metadata": {},
   "source": [
    "load MSA Transformer model"
   ]
  },
  {
   "cell_type": "code",
   "execution_count": 14,
   "metadata": {},
   "outputs": [],
   "source": [
    "DOWNLOAD_TRANSFORMER = False\n",
    "if DOWNLOAD_TRANSFORMER :\n",
    "    msa_transformer, msa_alphabet = esm.pretrained.esm_msa1b_t12_100M_UR50S()\n",
    "else :\n",
    "    msa_transformer, msa_alphabet = esm.pretrained.load_model_and_alphabet_local(TRANSFORMER_PATH)\n",
    "\n",
    "# USE_PARALLEL = torch.cuda.device_count() > 1\n",
    "# # USE_PARALLEL = False\n",
    "# if USE_PARALLEL :\n",
    "#     msa_transformer = torch.nn.DataParallel(msa_transformer)\n",
    "    \n",
    "msa_transformer = msa_transformer.eval().cuda()\n",
    "msa_batch_converter = msa_alphabet.get_batch_converter()"
   ]
  },
  {
   "cell_type": "code",
   "execution_count": 21,
   "metadata": {},
   "outputs": [
    {
     "name": "stdout",
     "output_type": "stream",
     "text": [
      "alphabet size: 33\n",
      "padding token: 1\n",
      "begin of sequence token : 0\n",
      "end of sequence token (not used here) : 2\n"
     ]
    }
   ],
   "source": [
    "print(f\"alphabet size: {len(msa_alphabet)}\")\n",
    "print(f\"padding token: {msa_alphabet.padding_idx}\")\n",
    "print(f\"begin of sequence token : {msa_alphabet.cls_idx}\")\n",
    "print(f\"end of sequence token (not used here) : {msa_alphabet.eos_idx}\")"
   ]
  },
  {
   "cell_type": "code",
   "execution_count": 15,
   "metadata": {},
   "outputs": [
    {
     "data": {
      "text/plain": [
       "MSATransformer(\n",
       "  (embed_tokens): Embedding(33, 768, padding_idx=1)\n",
       "  (dropout_module): Dropout(p=0.1, inplace=False)\n",
       "  (layers): ModuleList(\n",
       "    (0): AxialTransformerLayer(\n",
       "      (row_self_attention): NormalizedResidualBlock(\n",
       "        (layer): RowSelfAttention(\n",
       "          (k_proj): Linear(in_features=768, out_features=768, bias=True)\n",
       "          (v_proj): Linear(in_features=768, out_features=768, bias=True)\n",
       "          (q_proj): Linear(in_features=768, out_features=768, bias=True)\n",
       "          (out_proj): Linear(in_features=768, out_features=768, bias=True)\n",
       "          (dropout_module): Dropout(p=0.1, inplace=False)\n",
       "        )\n",
       "        (dropout_module): Dropout(p=0.1, inplace=False)\n",
       "        (layer_norm): LayerNorm((768,), eps=1e-05, elementwise_affine=True)\n",
       "      )\n",
       "      (column_self_attention): NormalizedResidualBlock(\n",
       "        (layer): ColumnSelfAttention(\n",
       "          (k_proj): Linear(in_features=768, out_features=768, bias=True)\n",
       "          (v_proj): Linear(in_features=768, out_features=768, bias=True)\n",
       "          (q_proj): Linear(in_features=768, out_features=768, bias=True)\n",
       "          (out_proj): Linear(in_features=768, out_features=768, bias=True)\n",
       "          (dropout_module): Dropout(p=0.1, inplace=False)\n",
       "        )\n",
       "        (dropout_module): Dropout(p=0.1, inplace=False)\n",
       "        (layer_norm): LayerNorm((768,), eps=1e-05, elementwise_affine=True)\n",
       "      )\n",
       "      (feed_forward_layer): NormalizedResidualBlock(\n",
       "        (layer): FeedForwardNetwork(\n",
       "          (activation_fn): GELU(approximate=none)\n",
       "          (activation_dropout_module): Dropout(p=0.0, inplace=False)\n",
       "          (fc1): Linear(in_features=768, out_features=3072, bias=True)\n",
       "          (fc2): Linear(in_features=3072, out_features=768, bias=True)\n",
       "        )\n",
       "        (dropout_module): Dropout(p=0.1, inplace=False)\n",
       "        (layer_norm): LayerNorm((768,), eps=1e-05, elementwise_affine=True)\n",
       "      )\n",
       "    )\n",
       "    (1): AxialTransformerLayer(\n",
       "      (row_self_attention): NormalizedResidualBlock(\n",
       "        (layer): RowSelfAttention(\n",
       "          (k_proj): Linear(in_features=768, out_features=768, bias=True)\n",
       "          (v_proj): Linear(in_features=768, out_features=768, bias=True)\n",
       "          (q_proj): Linear(in_features=768, out_features=768, bias=True)\n",
       "          (out_proj): Linear(in_features=768, out_features=768, bias=True)\n",
       "          (dropout_module): Dropout(p=0.1, inplace=False)\n",
       "        )\n",
       "        (dropout_module): Dropout(p=0.1, inplace=False)\n",
       "        (layer_norm): LayerNorm((768,), eps=1e-05, elementwise_affine=True)\n",
       "      )\n",
       "      (column_self_attention): NormalizedResidualBlock(\n",
       "        (layer): ColumnSelfAttention(\n",
       "          (k_proj): Linear(in_features=768, out_features=768, bias=True)\n",
       "          (v_proj): Linear(in_features=768, out_features=768, bias=True)\n",
       "          (q_proj): Linear(in_features=768, out_features=768, bias=True)\n",
       "          (out_proj): Linear(in_features=768, out_features=768, bias=True)\n",
       "          (dropout_module): Dropout(p=0.1, inplace=False)\n",
       "        )\n",
       "        (dropout_module): Dropout(p=0.1, inplace=False)\n",
       "        (layer_norm): LayerNorm((768,), eps=1e-05, elementwise_affine=True)\n",
       "      )\n",
       "      (feed_forward_layer): NormalizedResidualBlock(\n",
       "        (layer): FeedForwardNetwork(\n",
       "          (activation_fn): GELU(approximate=none)\n",
       "          (activation_dropout_module): Dropout(p=0.0, inplace=False)\n",
       "          (fc1): Linear(in_features=768, out_features=3072, bias=True)\n",
       "          (fc2): Linear(in_features=3072, out_features=768, bias=True)\n",
       "        )\n",
       "        (dropout_module): Dropout(p=0.1, inplace=False)\n",
       "        (layer_norm): LayerNorm((768,), eps=1e-05, elementwise_affine=True)\n",
       "      )\n",
       "    )\n",
       "    (2): AxialTransformerLayer(\n",
       "      (row_self_attention): NormalizedResidualBlock(\n",
       "        (layer): RowSelfAttention(\n",
       "          (k_proj): Linear(in_features=768, out_features=768, bias=True)\n",
       "          (v_proj): Linear(in_features=768, out_features=768, bias=True)\n",
       "          (q_proj): Linear(in_features=768, out_features=768, bias=True)\n",
       "          (out_proj): Linear(in_features=768, out_features=768, bias=True)\n",
       "          (dropout_module): Dropout(p=0.1, inplace=False)\n",
       "        )\n",
       "        (dropout_module): Dropout(p=0.1, inplace=False)\n",
       "        (layer_norm): LayerNorm((768,), eps=1e-05, elementwise_affine=True)\n",
       "      )\n",
       "      (column_self_attention): NormalizedResidualBlock(\n",
       "        (layer): ColumnSelfAttention(\n",
       "          (k_proj): Linear(in_features=768, out_features=768, bias=True)\n",
       "          (v_proj): Linear(in_features=768, out_features=768, bias=True)\n",
       "          (q_proj): Linear(in_features=768, out_features=768, bias=True)\n",
       "          (out_proj): Linear(in_features=768, out_features=768, bias=True)\n",
       "          (dropout_module): Dropout(p=0.1, inplace=False)\n",
       "        )\n",
       "        (dropout_module): Dropout(p=0.1, inplace=False)\n",
       "        (layer_norm): LayerNorm((768,), eps=1e-05, elementwise_affine=True)\n",
       "      )\n",
       "      (feed_forward_layer): NormalizedResidualBlock(\n",
       "        (layer): FeedForwardNetwork(\n",
       "          (activation_fn): GELU(approximate=none)\n",
       "          (activation_dropout_module): Dropout(p=0.0, inplace=False)\n",
       "          (fc1): Linear(in_features=768, out_features=3072, bias=True)\n",
       "          (fc2): Linear(in_features=3072, out_features=768, bias=True)\n",
       "        )\n",
       "        (dropout_module): Dropout(p=0.1, inplace=False)\n",
       "        (layer_norm): LayerNorm((768,), eps=1e-05, elementwise_affine=True)\n",
       "      )\n",
       "    )\n",
       "    (3): AxialTransformerLayer(\n",
       "      (row_self_attention): NormalizedResidualBlock(\n",
       "        (layer): RowSelfAttention(\n",
       "          (k_proj): Linear(in_features=768, out_features=768, bias=True)\n",
       "          (v_proj): Linear(in_features=768, out_features=768, bias=True)\n",
       "          (q_proj): Linear(in_features=768, out_features=768, bias=True)\n",
       "          (out_proj): Linear(in_features=768, out_features=768, bias=True)\n",
       "          (dropout_module): Dropout(p=0.1, inplace=False)\n",
       "        )\n",
       "        (dropout_module): Dropout(p=0.1, inplace=False)\n",
       "        (layer_norm): LayerNorm((768,), eps=1e-05, elementwise_affine=True)\n",
       "      )\n",
       "      (column_self_attention): NormalizedResidualBlock(\n",
       "        (layer): ColumnSelfAttention(\n",
       "          (k_proj): Linear(in_features=768, out_features=768, bias=True)\n",
       "          (v_proj): Linear(in_features=768, out_features=768, bias=True)\n",
       "          (q_proj): Linear(in_features=768, out_features=768, bias=True)\n",
       "          (out_proj): Linear(in_features=768, out_features=768, bias=True)\n",
       "          (dropout_module): Dropout(p=0.1, inplace=False)\n",
       "        )\n",
       "        (dropout_module): Dropout(p=0.1, inplace=False)\n",
       "        (layer_norm): LayerNorm((768,), eps=1e-05, elementwise_affine=True)\n",
       "      )\n",
       "      (feed_forward_layer): NormalizedResidualBlock(\n",
       "        (layer): FeedForwardNetwork(\n",
       "          (activation_fn): GELU(approximate=none)\n",
       "          (activation_dropout_module): Dropout(p=0.0, inplace=False)\n",
       "          (fc1): Linear(in_features=768, out_features=3072, bias=True)\n",
       "          (fc2): Linear(in_features=3072, out_features=768, bias=True)\n",
       "        )\n",
       "        (dropout_module): Dropout(p=0.1, inplace=False)\n",
       "        (layer_norm): LayerNorm((768,), eps=1e-05, elementwise_affine=True)\n",
       "      )\n",
       "    )\n",
       "    (4): AxialTransformerLayer(\n",
       "      (row_self_attention): NormalizedResidualBlock(\n",
       "        (layer): RowSelfAttention(\n",
       "          (k_proj): Linear(in_features=768, out_features=768, bias=True)\n",
       "          (v_proj): Linear(in_features=768, out_features=768, bias=True)\n",
       "          (q_proj): Linear(in_features=768, out_features=768, bias=True)\n",
       "          (out_proj): Linear(in_features=768, out_features=768, bias=True)\n",
       "          (dropout_module): Dropout(p=0.1, inplace=False)\n",
       "        )\n",
       "        (dropout_module): Dropout(p=0.1, inplace=False)\n",
       "        (layer_norm): LayerNorm((768,), eps=1e-05, elementwise_affine=True)\n",
       "      )\n",
       "      (column_self_attention): NormalizedResidualBlock(\n",
       "        (layer): ColumnSelfAttention(\n",
       "          (k_proj): Linear(in_features=768, out_features=768, bias=True)\n",
       "          (v_proj): Linear(in_features=768, out_features=768, bias=True)\n",
       "          (q_proj): Linear(in_features=768, out_features=768, bias=True)\n",
       "          (out_proj): Linear(in_features=768, out_features=768, bias=True)\n",
       "          (dropout_module): Dropout(p=0.1, inplace=False)\n",
       "        )\n",
       "        (dropout_module): Dropout(p=0.1, inplace=False)\n",
       "        (layer_norm): LayerNorm((768,), eps=1e-05, elementwise_affine=True)\n",
       "      )\n",
       "      (feed_forward_layer): NormalizedResidualBlock(\n",
       "        (layer): FeedForwardNetwork(\n",
       "          (activation_fn): GELU(approximate=none)\n",
       "          (activation_dropout_module): Dropout(p=0.0, inplace=False)\n",
       "          (fc1): Linear(in_features=768, out_features=3072, bias=True)\n",
       "          (fc2): Linear(in_features=3072, out_features=768, bias=True)\n",
       "        )\n",
       "        (dropout_module): Dropout(p=0.1, inplace=False)\n",
       "        (layer_norm): LayerNorm((768,), eps=1e-05, elementwise_affine=True)\n",
       "      )\n",
       "    )\n",
       "    (5): AxialTransformerLayer(\n",
       "      (row_self_attention): NormalizedResidualBlock(\n",
       "        (layer): RowSelfAttention(\n",
       "          (k_proj): Linear(in_features=768, out_features=768, bias=True)\n",
       "          (v_proj): Linear(in_features=768, out_features=768, bias=True)\n",
       "          (q_proj): Linear(in_features=768, out_features=768, bias=True)\n",
       "          (out_proj): Linear(in_features=768, out_features=768, bias=True)\n",
       "          (dropout_module): Dropout(p=0.1, inplace=False)\n",
       "        )\n",
       "        (dropout_module): Dropout(p=0.1, inplace=False)\n",
       "        (layer_norm): LayerNorm((768,), eps=1e-05, elementwise_affine=True)\n",
       "      )\n",
       "      (column_self_attention): NormalizedResidualBlock(\n",
       "        (layer): ColumnSelfAttention(\n",
       "          (k_proj): Linear(in_features=768, out_features=768, bias=True)\n",
       "          (v_proj): Linear(in_features=768, out_features=768, bias=True)\n",
       "          (q_proj): Linear(in_features=768, out_features=768, bias=True)\n",
       "          (out_proj): Linear(in_features=768, out_features=768, bias=True)\n",
       "          (dropout_module): Dropout(p=0.1, inplace=False)\n",
       "        )\n",
       "        (dropout_module): Dropout(p=0.1, inplace=False)\n",
       "        (layer_norm): LayerNorm((768,), eps=1e-05, elementwise_affine=True)\n",
       "      )\n",
       "      (feed_forward_layer): NormalizedResidualBlock(\n",
       "        (layer): FeedForwardNetwork(\n",
       "          (activation_fn): GELU(approximate=none)\n",
       "          (activation_dropout_module): Dropout(p=0.0, inplace=False)\n",
       "          (fc1): Linear(in_features=768, out_features=3072, bias=True)\n",
       "          (fc2): Linear(in_features=3072, out_features=768, bias=True)\n",
       "        )\n",
       "        (dropout_module): Dropout(p=0.1, inplace=False)\n",
       "        (layer_norm): LayerNorm((768,), eps=1e-05, elementwise_affine=True)\n",
       "      )\n",
       "    )\n",
       "    (6): AxialTransformerLayer(\n",
       "      (row_self_attention): NormalizedResidualBlock(\n",
       "        (layer): RowSelfAttention(\n",
       "          (k_proj): Linear(in_features=768, out_features=768, bias=True)\n",
       "          (v_proj): Linear(in_features=768, out_features=768, bias=True)\n",
       "          (q_proj): Linear(in_features=768, out_features=768, bias=True)\n",
       "          (out_proj): Linear(in_features=768, out_features=768, bias=True)\n",
       "          (dropout_module): Dropout(p=0.1, inplace=False)\n",
       "        )\n",
       "        (dropout_module): Dropout(p=0.1, inplace=False)\n",
       "        (layer_norm): LayerNorm((768,), eps=1e-05, elementwise_affine=True)\n",
       "      )\n",
       "      (column_self_attention): NormalizedResidualBlock(\n",
       "        (layer): ColumnSelfAttention(\n",
       "          (k_proj): Linear(in_features=768, out_features=768, bias=True)\n",
       "          (v_proj): Linear(in_features=768, out_features=768, bias=True)\n",
       "          (q_proj): Linear(in_features=768, out_features=768, bias=True)\n",
       "          (out_proj): Linear(in_features=768, out_features=768, bias=True)\n",
       "          (dropout_module): Dropout(p=0.1, inplace=False)\n",
       "        )\n",
       "        (dropout_module): Dropout(p=0.1, inplace=False)\n",
       "        (layer_norm): LayerNorm((768,), eps=1e-05, elementwise_affine=True)\n",
       "      )\n",
       "      (feed_forward_layer): NormalizedResidualBlock(\n",
       "        (layer): FeedForwardNetwork(\n",
       "          (activation_fn): GELU(approximate=none)\n",
       "          (activation_dropout_module): Dropout(p=0.0, inplace=False)\n",
       "          (fc1): Linear(in_features=768, out_features=3072, bias=True)\n",
       "          (fc2): Linear(in_features=3072, out_features=768, bias=True)\n",
       "        )\n",
       "        (dropout_module): Dropout(p=0.1, inplace=False)\n",
       "        (layer_norm): LayerNorm((768,), eps=1e-05, elementwise_affine=True)\n",
       "      )\n",
       "    )\n",
       "    (7): AxialTransformerLayer(\n",
       "      (row_self_attention): NormalizedResidualBlock(\n",
       "        (layer): RowSelfAttention(\n",
       "          (k_proj): Linear(in_features=768, out_features=768, bias=True)\n",
       "          (v_proj): Linear(in_features=768, out_features=768, bias=True)\n",
       "          (q_proj): Linear(in_features=768, out_features=768, bias=True)\n",
       "          (out_proj): Linear(in_features=768, out_features=768, bias=True)\n",
       "          (dropout_module): Dropout(p=0.1, inplace=False)\n",
       "        )\n",
       "        (dropout_module): Dropout(p=0.1, inplace=False)\n",
       "        (layer_norm): LayerNorm((768,), eps=1e-05, elementwise_affine=True)\n",
       "      )\n",
       "      (column_self_attention): NormalizedResidualBlock(\n",
       "        (layer): ColumnSelfAttention(\n",
       "          (k_proj): Linear(in_features=768, out_features=768, bias=True)\n",
       "          (v_proj): Linear(in_features=768, out_features=768, bias=True)\n",
       "          (q_proj): Linear(in_features=768, out_features=768, bias=True)\n",
       "          (out_proj): Linear(in_features=768, out_features=768, bias=True)\n",
       "          (dropout_module): Dropout(p=0.1, inplace=False)\n",
       "        )\n",
       "        (dropout_module): Dropout(p=0.1, inplace=False)\n",
       "        (layer_norm): LayerNorm((768,), eps=1e-05, elementwise_affine=True)\n",
       "      )\n",
       "      (feed_forward_layer): NormalizedResidualBlock(\n",
       "        (layer): FeedForwardNetwork(\n",
       "          (activation_fn): GELU(approximate=none)\n",
       "          (activation_dropout_module): Dropout(p=0.0, inplace=False)\n",
       "          (fc1): Linear(in_features=768, out_features=3072, bias=True)\n",
       "          (fc2): Linear(in_features=3072, out_features=768, bias=True)\n",
       "        )\n",
       "        (dropout_module): Dropout(p=0.1, inplace=False)\n",
       "        (layer_norm): LayerNorm((768,), eps=1e-05, elementwise_affine=True)\n",
       "      )\n",
       "    )\n",
       "    (8): AxialTransformerLayer(\n",
       "      (row_self_attention): NormalizedResidualBlock(\n",
       "        (layer): RowSelfAttention(\n",
       "          (k_proj): Linear(in_features=768, out_features=768, bias=True)\n",
       "          (v_proj): Linear(in_features=768, out_features=768, bias=True)\n",
       "          (q_proj): Linear(in_features=768, out_features=768, bias=True)\n",
       "          (out_proj): Linear(in_features=768, out_features=768, bias=True)\n",
       "          (dropout_module): Dropout(p=0.1, inplace=False)\n",
       "        )\n",
       "        (dropout_module): Dropout(p=0.1, inplace=False)\n",
       "        (layer_norm): LayerNorm((768,), eps=1e-05, elementwise_affine=True)\n",
       "      )\n",
       "      (column_self_attention): NormalizedResidualBlock(\n",
       "        (layer): ColumnSelfAttention(\n",
       "          (k_proj): Linear(in_features=768, out_features=768, bias=True)\n",
       "          (v_proj): Linear(in_features=768, out_features=768, bias=True)\n",
       "          (q_proj): Linear(in_features=768, out_features=768, bias=True)\n",
       "          (out_proj): Linear(in_features=768, out_features=768, bias=True)\n",
       "          (dropout_module): Dropout(p=0.1, inplace=False)\n",
       "        )\n",
       "        (dropout_module): Dropout(p=0.1, inplace=False)\n",
       "        (layer_norm): LayerNorm((768,), eps=1e-05, elementwise_affine=True)\n",
       "      )\n",
       "      (feed_forward_layer): NormalizedResidualBlock(\n",
       "        (layer): FeedForwardNetwork(\n",
       "          (activation_fn): GELU(approximate=none)\n",
       "          (activation_dropout_module): Dropout(p=0.0, inplace=False)\n",
       "          (fc1): Linear(in_features=768, out_features=3072, bias=True)\n",
       "          (fc2): Linear(in_features=3072, out_features=768, bias=True)\n",
       "        )\n",
       "        (dropout_module): Dropout(p=0.1, inplace=False)\n",
       "        (layer_norm): LayerNorm((768,), eps=1e-05, elementwise_affine=True)\n",
       "      )\n",
       "    )\n",
       "    (9): AxialTransformerLayer(\n",
       "      (row_self_attention): NormalizedResidualBlock(\n",
       "        (layer): RowSelfAttention(\n",
       "          (k_proj): Linear(in_features=768, out_features=768, bias=True)\n",
       "          (v_proj): Linear(in_features=768, out_features=768, bias=True)\n",
       "          (q_proj): Linear(in_features=768, out_features=768, bias=True)\n",
       "          (out_proj): Linear(in_features=768, out_features=768, bias=True)\n",
       "          (dropout_module): Dropout(p=0.1, inplace=False)\n",
       "        )\n",
       "        (dropout_module): Dropout(p=0.1, inplace=False)\n",
       "        (layer_norm): LayerNorm((768,), eps=1e-05, elementwise_affine=True)\n",
       "      )\n",
       "      (column_self_attention): NormalizedResidualBlock(\n",
       "        (layer): ColumnSelfAttention(\n",
       "          (k_proj): Linear(in_features=768, out_features=768, bias=True)\n",
       "          (v_proj): Linear(in_features=768, out_features=768, bias=True)\n",
       "          (q_proj): Linear(in_features=768, out_features=768, bias=True)\n",
       "          (out_proj): Linear(in_features=768, out_features=768, bias=True)\n",
       "          (dropout_module): Dropout(p=0.1, inplace=False)\n",
       "        )\n",
       "        (dropout_module): Dropout(p=0.1, inplace=False)\n",
       "        (layer_norm): LayerNorm((768,), eps=1e-05, elementwise_affine=True)\n",
       "      )\n",
       "      (feed_forward_layer): NormalizedResidualBlock(\n",
       "        (layer): FeedForwardNetwork(\n",
       "          (activation_fn): GELU(approximate=none)\n",
       "          (activation_dropout_module): Dropout(p=0.0, inplace=False)\n",
       "          (fc1): Linear(in_features=768, out_features=3072, bias=True)\n",
       "          (fc2): Linear(in_features=3072, out_features=768, bias=True)\n",
       "        )\n",
       "        (dropout_module): Dropout(p=0.1, inplace=False)\n",
       "        (layer_norm): LayerNorm((768,), eps=1e-05, elementwise_affine=True)\n",
       "      )\n",
       "    )\n",
       "    (10): AxialTransformerLayer(\n",
       "      (row_self_attention): NormalizedResidualBlock(\n",
       "        (layer): RowSelfAttention(\n",
       "          (k_proj): Linear(in_features=768, out_features=768, bias=True)\n",
       "          (v_proj): Linear(in_features=768, out_features=768, bias=True)\n",
       "          (q_proj): Linear(in_features=768, out_features=768, bias=True)\n",
       "          (out_proj): Linear(in_features=768, out_features=768, bias=True)\n",
       "          (dropout_module): Dropout(p=0.1, inplace=False)\n",
       "        )\n",
       "        (dropout_module): Dropout(p=0.1, inplace=False)\n",
       "        (layer_norm): LayerNorm((768,), eps=1e-05, elementwise_affine=True)\n",
       "      )\n",
       "      (column_self_attention): NormalizedResidualBlock(\n",
       "        (layer): ColumnSelfAttention(\n",
       "          (k_proj): Linear(in_features=768, out_features=768, bias=True)\n",
       "          (v_proj): Linear(in_features=768, out_features=768, bias=True)\n",
       "          (q_proj): Linear(in_features=768, out_features=768, bias=True)\n",
       "          (out_proj): Linear(in_features=768, out_features=768, bias=True)\n",
       "          (dropout_module): Dropout(p=0.1, inplace=False)\n",
       "        )\n",
       "        (dropout_module): Dropout(p=0.1, inplace=False)\n",
       "        (layer_norm): LayerNorm((768,), eps=1e-05, elementwise_affine=True)\n",
       "      )\n",
       "      (feed_forward_layer): NormalizedResidualBlock(\n",
       "        (layer): FeedForwardNetwork(\n",
       "          (activation_fn): GELU(approximate=none)\n",
       "          (activation_dropout_module): Dropout(p=0.0, inplace=False)\n",
       "          (fc1): Linear(in_features=768, out_features=3072, bias=True)\n",
       "          (fc2): Linear(in_features=3072, out_features=768, bias=True)\n",
       "        )\n",
       "        (dropout_module): Dropout(p=0.1, inplace=False)\n",
       "        (layer_norm): LayerNorm((768,), eps=1e-05, elementwise_affine=True)\n",
       "      )\n",
       "    )\n",
       "    (11): AxialTransformerLayer(\n",
       "      (row_self_attention): NormalizedResidualBlock(\n",
       "        (layer): RowSelfAttention(\n",
       "          (k_proj): Linear(in_features=768, out_features=768, bias=True)\n",
       "          (v_proj): Linear(in_features=768, out_features=768, bias=True)\n",
       "          (q_proj): Linear(in_features=768, out_features=768, bias=True)\n",
       "          (out_proj): Linear(in_features=768, out_features=768, bias=True)\n",
       "          (dropout_module): Dropout(p=0.1, inplace=False)\n",
       "        )\n",
       "        (dropout_module): Dropout(p=0.1, inplace=False)\n",
       "        (layer_norm): LayerNorm((768,), eps=1e-05, elementwise_affine=True)\n",
       "      )\n",
       "      (column_self_attention): NormalizedResidualBlock(\n",
       "        (layer): ColumnSelfAttention(\n",
       "          (k_proj): Linear(in_features=768, out_features=768, bias=True)\n",
       "          (v_proj): Linear(in_features=768, out_features=768, bias=True)\n",
       "          (q_proj): Linear(in_features=768, out_features=768, bias=True)\n",
       "          (out_proj): Linear(in_features=768, out_features=768, bias=True)\n",
       "          (dropout_module): Dropout(p=0.1, inplace=False)\n",
       "        )\n",
       "        (dropout_module): Dropout(p=0.1, inplace=False)\n",
       "        (layer_norm): LayerNorm((768,), eps=1e-05, elementwise_affine=True)\n",
       "      )\n",
       "      (feed_forward_layer): NormalizedResidualBlock(\n",
       "        (layer): FeedForwardNetwork(\n",
       "          (activation_fn): GELU(approximate=none)\n",
       "          (activation_dropout_module): Dropout(p=0.0, inplace=False)\n",
       "          (fc1): Linear(in_features=768, out_features=3072, bias=True)\n",
       "          (fc2): Linear(in_features=3072, out_features=768, bias=True)\n",
       "        )\n",
       "        (dropout_module): Dropout(p=0.1, inplace=False)\n",
       "        (layer_norm): LayerNorm((768,), eps=1e-05, elementwise_affine=True)\n",
       "      )\n",
       "    )\n",
       "  )\n",
       "  (contact_head): ContactPredictionHead(\n",
       "    (regression): Linear(in_features=144, out_features=1, bias=True)\n",
       "    (activation): Sigmoid()\n",
       "  )\n",
       "  (embed_positions): LearnedPositionalEmbedding(1026, 768, padding_idx=1)\n",
       "  (emb_layer_norm_before): LayerNorm((768,), eps=1e-05, elementwise_affine=True)\n",
       "  (emb_layer_norm_after): LayerNorm((768,), eps=1e-05, elementwise_affine=True)\n",
       "  (lm_head): RobertaLMHead(\n",
       "    (dense): Linear(in_features=768, out_features=768, bias=True)\n",
       "    (layer_norm): LayerNorm((768,), eps=1e-05, elementwise_affine=True)\n",
       "  )\n",
       ")"
      ]
     },
     "execution_count": 15,
     "metadata": {},
     "output_type": "execute_result"
    }
   ],
   "source": [
    "msa_transformer"
   ]
  },
  {
   "cell_type": "code",
   "execution_count": 76,
   "metadata": {},
   "outputs": [
    {
     "name": "stdout",
     "output_type": "stream",
     "text": [
      "torch.Size([2, 267, 194]) torch.int64\n"
     ]
    }
   ],
   "source": [
    "from dataset import read_msa\n",
    "msa_data = [\n",
    "    read_msa(DATASET_PATH / \"train_filtered\" / \"T1024-D1_aug_fm.a3m\"),\n",
    "    read_msa(DATASET_PATH / \"train_filtered\" / \"T1024-D1_base_fm.a3m\"),\n",
    "    #read_msa(DATASET_PATH / \"train_filtered\" / \"T1101-D2_rand22_fm.a3m\")\n",
    "]\n",
    "\n",
    "msa_batch_labels, msa_batch_strs, msa_batch_tokens = msa_batch_converter(msa_data)\n",
    "print(msa_batch_tokens.shape, msa_batch_tokens.dtype)   # Should be a 3D tensor with dtype torch.int64."
   ]
  },
  {
   "cell_type": "code",
   "execution_count": 22,
   "metadata": {},
   "outputs": [
    {
     "name": "stdout",
     "output_type": "stream",
     "text": [
      "tensor([[[ 0, 15,  9,  ..., 15, 14, 11],\n",
      "         [ 0, 15,  6,  ..., 30, 30, 30],\n",
      "         [ 0,  9, 17,  ..., 30, 30, 30],\n",
      "         ...,\n",
      "         [ 1,  1,  1,  ...,  1,  1,  1],\n",
      "         [ 1,  1,  1,  ...,  1,  1,  1],\n",
      "         [ 1,  1,  1,  ...,  1,  1,  1]],\n",
      "\n",
      "        [[ 0, 15,  9,  ..., 15, 14, 11],\n",
      "         [ 0, 30, 30,  ..., 30, 30, 30],\n",
      "         [ 0, 30, 30,  ..., 30, 11, 30],\n",
      "         ...,\n",
      "         [ 0, 30, 30,  ..., 14, 14, 30],\n",
      "         [ 0, 30, 30,  ..., 10,  5, 30],\n",
      "         [ 0, 30, 30,  ..., 30, 30, 30]]])\n"
     ]
    }
   ],
   "source": [
    "print(msa_batch_tokens)\n",
    "# 0: beginning of sequence\n",
    "# 1: empty\n",
    "# 30: -"
   ]
  },
  {
   "cell_type": "code",
   "execution_count": 28,
   "metadata": {},
   "outputs": [
    {
     "name": "stdout",
     "output_type": "stream",
     "text": [
      "max MSA depth (# of sequences): 256\n",
      "max length of each sequence: 193\n"
     ]
    }
   ],
   "source": [
    "print(f\"max MSA depth (# of sequences): { msa_batch_tokens.shape[1] }\")\n",
    "print(f\"max length of each sequence: { msa_batch_tokens.shape[2]-1 }\")"
   ]
  },
  {
   "cell_type": "code",
   "execution_count": 29,
   "metadata": {},
   "outputs": [
    {
     "name": "stdout",
     "output_type": "stream",
     "text": [
      "# of model layers: 12\n",
      "model embedding dimension: 768\n"
     ]
    }
   ],
   "source": [
    "print(f\"# of model layers: {len((msa_transformer.module if USE_PARALLEL else msa_transformer).layers)}\")\n",
    "print(f\"model embedding dimension: {(msa_transformer.module if USE_PARALLEL else msa_transformer).layers[0].embedding_dim}\")"
   ]
  },
  {
   "cell_type": "markdown",
   "metadata": {},
   "source": [
    "Run model"
   ]
  },
  {
   "cell_type": "code",
   "execution_count": 77,
   "metadata": {},
   "outputs": [],
   "source": [
    "msa_transformer.eval()\n",
    "with torch.no_grad():\n",
    "    torch.cuda.empty_cache()\n",
    "    results = msa_transformer(msa_batch_tokens.cuda(non_blocking = True), repr_layers=[12])\n",
    "    #results = msa_transformer(msa_batch_tokens.cuda(), repr_layers=[12], need_head_weights = True)"
   ]
  },
  {
   "cell_type": "code",
   "execution_count": 62,
   "metadata": {},
   "outputs": [
    {
     "data": {
      "text/plain": [
       "torch.Size([3, 214, 768])"
      ]
     },
     "execution_count": 62,
     "metadata": {},
     "output_type": "execute_result"
    }
   ],
   "source": [
    "embeddings = results['representations'][12][:, 0, 1:, :]\n",
    "embeddings.shape"
   ]
  },
  {
   "cell_type": "code",
   "execution_count": 78,
   "metadata": {},
   "outputs": [
    {
     "name": "stdout",
     "output_type": "stream",
     "text": [
      "tensor([15,  9, 18, 22, 17,  4, 13, 15, 17,  4, 16,  4, 10,  4,  6, 12,  7, 18,\n",
      "         4,  6,  5, 18,  8, 19,  6, 11,  7, 18,  8,  8, 20, 11, 12, 19, 19, 17,\n",
      "        16, 19,  4,  6,  8,  5, 12, 11,  6, 12,  4,  4,  5,  4,  8,  5,  7,  5,\n",
      "        11, 18,  7,  5,  6, 12,  4,  5,  6, 18, 18,  5, 13, 10, 17,  6, 10, 15,\n",
      "        14,  7, 20,  7, 18,  6, 11, 12, 12, 16,  4,  4,  6,  5,  5,  4,  5, 12,\n",
      "         5,  8, 17,  4, 14,  6, 21,  7, 17, 14, 22,  8, 11, 18, 12,  5, 18,  4,\n",
      "         4, 12,  8, 18,  6, 19, 17, 18,  7, 12, 11,  5,  6, 17,  5, 20, 12, 12,\n",
      "        13,  5,  8, 17,  5,  9, 17, 10, 15,  7,  7, 18, 20,  4, 13, 19, 22,  5,\n",
      "        16, 17,  4,  8,  7, 12,  4,  6,  5,  5,  4,  6,  5, 22,  4, 18, 10, 14,\n",
      "         5, 18,  9,  5,  4,  4,  7, 12,  4,  4,  4, 11,  7,  4,  7,  8, 18, 18,\n",
      "         4, 11, 11, 18,  7, 20, 11,  9, 11, 18, 15, 14, 11])\n",
      "tensor([15,  9, 18, 22, 17,  4, 13, 15, 17,  4, 16,  4, 10,  4,  6, 12,  7, 18,\n",
      "         4,  6,  5, 18,  8, 19,  6, 11,  7, 18,  8,  8, 20, 11, 12, 19, 19, 17,\n",
      "        16,  6,  4,  6,  8,  5, 12, 11,  6, 12,  4,  4,  5,  4,  8,  5,  7,  5,\n",
      "        11, 18,  7,  5,  6, 12,  4,  5,  6, 18, 18,  5, 13, 10, 18,  6, 10, 15,\n",
      "        14,  7, 20,  7, 18,  6, 11, 12, 12, 16,  4,  4,  6,  5,  5,  4,  5, 12,\n",
      "         5, 18, 14,  4, 14,  6, 21,  7, 17, 14, 22,  8, 11, 18, 12,  5, 18,  4,\n",
      "         4, 12,  8, 18,  6, 19,  6, 18,  7, 12, 11,  5,  6, 17,  5, 16, 12, 12,\n",
      "        13,  5,  8, 17,  5,  9, 17, 10, 15,  7,  7, 18,  8,  4, 13, 19, 22,  5,\n",
      "        16, 17,  4,  8,  7, 12,  4,  6,  5,  5,  4,  6,  5, 22,  4, 18, 10, 14,\n",
      "         5, 18, 12,  5,  6,  4,  7, 12,  4,  4,  4, 11,  7,  4,  7,  8, 18, 18,\n",
      "         4, 11, 11, 15, 15, 15, 11,  9, 11, 18, 15, 14, 11], device='cuda:0')\n"
     ]
    }
   ],
   "source": [
    "print(msa_batch_tokens[0][0][1:])\n",
    "\n",
    "print(torch.argmax(results['logits'][0][0][1:], axis = 1))"
   ]
  },
  {
   "cell_type": "markdown",
   "metadata": {},
   "source": [
    "## Implement Dataset"
   ]
  },
  {
   "cell_type": "code",
   "execution_count": 9,
   "metadata": {},
   "outputs": [],
   "source": [
    "from dataset import MSAScoreDataset"
   ]
  },
  {
   "cell_type": "code",
   "execution_count": 10,
   "metadata": {},
   "outputs": [
    {
     "name": "stderr",
     "output_type": "stream",
     "text": [
      " 71%|███████████████████████████████████████████████████████████████████████████████████████████████▏                                       | 1876/2660 [00:27<00:16, 46.93it/s]"
     ]
    }
   ],
   "source": [
    "train_dataset = MSAScoreDataset(root = DATASET_PATH, is_train = True)\n",
    "train_dataset.summary()"
   ]
  },
  {
   "cell_type": "code",
   "execution_count": null,
   "metadata": {},
   "outputs": [
    {
     "name": "stderr",
     "output_type": "stream",
     "text": [
      "100%|█████████████████████████████████████████████████████████████████████████████████████████████████████████████████████████████████████████████| 190/190 [00:06<00:00, 29.54it/s]"
     ]
    },
    {
     "name": "stdout",
     "output_type": "stream",
     "text": [
      "Dataset has 190 MSAs:\n",
      "> MSA T1024-D1_meta_fm has 256 sequences of length 193, scored 96.243\n",
      "> MSA T1024-D1_rand10_fm has 206 sequences of length 193, scored 56.865\n",
      "> MSA T1024-D2_original_fm has 256 sequences of length 198, scored 95.580\n",
      "> MSA T1024-D2_rand13_fm has 203 sequences of length 198, scored 92.803\n",
      "> MSA T1025-D1_our_fm has 256 sequences of length 257, scored 92.315\n",
      "> MSA T1025-D1_rand1_fm has 202 sequences of length 257, scored 57.297\n",
      "> MSA T1026-D1_rand13_fm has 202 sequences of length 146, scored 16.780\n",
      "> MSA T1026-D1_rosetta_fm has 19 sequences of length 146, scored 93.325\n",
      "> MSA T1027-D1_cov50_fm has 256 sequences of length 99, scored 65.153\n",
      "> MSA T1027-D1_rand18_fm has 203 sequences of length 99, scored 26.513\n",
      "......\n",
      "> MSA T1099-D1_cov50_fm has 256 sequences of length 178, scored 27.527\n",
      "> MSA T1099-D1_rosetta_fm has 8 sequences of length 178, scored 80.058\n",
      "> MSA T1100-D1_rand13_fm has 200 sequences of length 169, scored 60.800\n",
      "> MSA T1100-D1_rosetta_fm has 256 sequences of length 169, scored 67.750\n",
      "> MSA T1100-D2_base_fm has 256 sequences of length 157, scored 97.453\n",
      "> MSA T1100-D2_rand14_fm has 205 sequences of length 157, scored 22.453\n",
      "> MSA T1101-D1_rand13_fm has 203 sequences of length 83, scored 97.892\n",
      "> MSA T1101-D1_rand18_fm has 202 sequences of length 83, scored 99.398\n",
      "> MSA T1101-D2_base_fm has 256 sequences of length 214, scored 93.458\n",
      "> MSA T1101-D2_rand12_fm has 205 sequences of length 214, scored 25.115\n"
     ]
    },
    {
     "name": "stderr",
     "output_type": "stream",
     "text": [
      "\n"
     ]
    }
   ],
   "source": [
    "test_dataset = MSAScoreDataset(root = DATASET_PATH, is_train = False)\n",
    "test_dataset.summary()"
   ]
  },
  {
   "cell_type": "markdown",
   "metadata": {},
   "source": [
    "## Implement Model"
   ]
  },
  {
   "cell_type": "code",
   "execution_count": null,
   "metadata": {},
   "outputs": [],
   "source": [
    "class MSAPredictor(nn.Module):\n",
    "    def __init__(self, msa_transformer_path = TRANSFORMER_PATH):\n",
    "        super(MSAPredictor, self).__init__()\n",
    "        \n",
    "        if msa_transformer_path:\n",
    "            self.encoder, msa_alphabet = esm.pretrained.load_model_and_alphabet_local(msa_transformer_path)\n",
    "        else :\n",
    "            self.encoder, msa_alphabet = esm.pretrained.esm_msa1b_t12_100M_UR50S()\n",
    "        \n",
    "        self.encoder = self.encoder.eval()\n",
    "        self.batch_converter = msa_alphabet.get_batch_converter()\n",
    "\n",
    "        # Freeze parameters of MSATransformer\n",
    "        for param in self.encoder.parameters():\n",
    "            param.requires_grad = False\n",
    "\n",
    "        # Regressor module (to be tested)\n",
    "        # self.conv1 = nn.Conv2d(1, 6, 5)\n",
    "        # self.pool = nn.MaxPool2d(3, 3)\n",
    "        # self.conv2 = nn.Conv2d(6, 16, 5)\n",
    "        # self.fc1 = nn.Linear(25232, 2048)\n",
    "        # self.fc2 = nn.Linear(2048, 512)\n",
    "        # self.fc3 = nn.Linear(512, 1)\n",
    "        self.fc1 = nn.Linear(768, 128)\n",
    "        self.fc2 = nn.Linear(128, 32)\n",
    "        self.fc3 = nn.Linear(32, 1)\n",
    "        \n",
    "    def forward(self, x):\n",
    "        seq_length = [list(x[i, 0]).index(1) if 1 in x[i, 0] else x.size(2) for i in range(x.size(0))]\n",
    "        \n",
    "        self.encoder\n",
    "        embeddings = []\n",
    "        with torch.no_grad():\n",
    "            for i in range(x.size(0)) :\n",
    "                # Remove sequence paddings\n",
    "                xi = x[i:i+1, :, :seq_length[i]]\n",
    "                # 1 x NUM_SEQ x 1+SEQ_LEN\n",
    "\n",
    "                # xx = xx[:, :list(x[i, :, 0]).index(1), :] if 1 in x[i, :, 0] else xx\n",
    "\n",
    "                xi = self.encoder(xi, repr_layers=[12])[\"representations\"][12][:, 0, 1:, :]\n",
    "                # 1 x SEQ_LEN x 768\n",
    "\n",
    "                xi = torch.mean(xi, dim = 1)\n",
    "                # 1 x 768\n",
    "                embeddings.append(xi)\n",
    "                \n",
    "        x = torch.vstack(embeddings)\n",
    "        # BATHCH_SIZE x 768\n",
    "\n",
    "        # x = self.pool(F.relu(self.conv1(x)))\n",
    "        # x = self.pool(F.relu(self.conv2(x)))\n",
    "\n",
    "        # x = torch.flatten(x, 1)\n",
    "        # x = F.relu(self.fc1(x))\n",
    "        # x = F.relu(self.fc2(x))\n",
    "        # x = self.fc3(x)\n",
    "        # x = torch.sigmoid(self.fc3(x))\n",
    "        \n",
    "        x = F.relu(self.fc1(x))\n",
    "        x = F.relu(self.fc2(x))\n",
    "        x = torch.sigmoid(self.fc3(x))\n",
    "        return x"
   ]
  },
  {
   "cell_type": "code",
   "execution_count": null,
   "metadata": {},
   "outputs": [
    {
     "data": {
      "text/plain": [
       "4"
      ]
     },
     "execution_count": 6,
     "metadata": {},
     "output_type": "execute_result"
    }
   ],
   "source": [
    "torch.cuda.device_count()"
   ]
  },
  {
   "cell_type": "code",
   "execution_count": null,
   "metadata": {},
   "outputs": [
    {
     "data": {
      "text/plain": [
       "DataParallel(\n",
       "  (module): MSAPredictor(\n",
       "    (encoder): MSATransformer(\n",
       "      (embed_tokens): Embedding(33, 768, padding_idx=1)\n",
       "      (dropout_module): Dropout(p=0.1, inplace=False)\n",
       "      (layers): ModuleList(\n",
       "        (0): AxialTransformerLayer(\n",
       "          (row_self_attention): NormalizedResidualBlock(\n",
       "            (layer): RowSelfAttention(\n",
       "              (k_proj): Linear(in_features=768, out_features=768, bias=True)\n",
       "              (v_proj): Linear(in_features=768, out_features=768, bias=True)\n",
       "              (q_proj): Linear(in_features=768, out_features=768, bias=True)\n",
       "              (out_proj): Linear(in_features=768, out_features=768, bias=True)\n",
       "              (dropout_module): Dropout(p=0.1, inplace=False)\n",
       "            )\n",
       "            (dropout_module): Dropout(p=0.1, inplace=False)\n",
       "            (layer_norm): LayerNorm((768,), eps=1e-05, elementwise_affine=True)\n",
       "          )\n",
       "          (column_self_attention): NormalizedResidualBlock(\n",
       "            (layer): ColumnSelfAttention(\n",
       "              (k_proj): Linear(in_features=768, out_features=768, bias=True)\n",
       "              (v_proj): Linear(in_features=768, out_features=768, bias=True)\n",
       "              (q_proj): Linear(in_features=768, out_features=768, bias=True)\n",
       "              (out_proj): Linear(in_features=768, out_features=768, bias=True)\n",
       "              (dropout_module): Dropout(p=0.1, inplace=False)\n",
       "            )\n",
       "            (dropout_module): Dropout(p=0.1, inplace=False)\n",
       "            (layer_norm): LayerNorm((768,), eps=1e-05, elementwise_affine=True)\n",
       "          )\n",
       "          (feed_forward_layer): NormalizedResidualBlock(\n",
       "            (layer): FeedForwardNetwork(\n",
       "              (activation_fn): GELU(approximate=none)\n",
       "              (activation_dropout_module): Dropout(p=0.0, inplace=False)\n",
       "              (fc1): Linear(in_features=768, out_features=3072, bias=True)\n",
       "              (fc2): Linear(in_features=3072, out_features=768, bias=True)\n",
       "            )\n",
       "            (dropout_module): Dropout(p=0.1, inplace=False)\n",
       "            (layer_norm): LayerNorm((768,), eps=1e-05, elementwise_affine=True)\n",
       "          )\n",
       "        )\n",
       "        (1): AxialTransformerLayer(\n",
       "          (row_self_attention): NormalizedResidualBlock(\n",
       "            (layer): RowSelfAttention(\n",
       "              (k_proj): Linear(in_features=768, out_features=768, bias=True)\n",
       "              (v_proj): Linear(in_features=768, out_features=768, bias=True)\n",
       "              (q_proj): Linear(in_features=768, out_features=768, bias=True)\n",
       "              (out_proj): Linear(in_features=768, out_features=768, bias=True)\n",
       "              (dropout_module): Dropout(p=0.1, inplace=False)\n",
       "            )\n",
       "            (dropout_module): Dropout(p=0.1, inplace=False)\n",
       "            (layer_norm): LayerNorm((768,), eps=1e-05, elementwise_affine=True)\n",
       "          )\n",
       "          (column_self_attention): NormalizedResidualBlock(\n",
       "            (layer): ColumnSelfAttention(\n",
       "              (k_proj): Linear(in_features=768, out_features=768, bias=True)\n",
       "              (v_proj): Linear(in_features=768, out_features=768, bias=True)\n",
       "              (q_proj): Linear(in_features=768, out_features=768, bias=True)\n",
       "              (out_proj): Linear(in_features=768, out_features=768, bias=True)\n",
       "              (dropout_module): Dropout(p=0.1, inplace=False)\n",
       "            )\n",
       "            (dropout_module): Dropout(p=0.1, inplace=False)\n",
       "            (layer_norm): LayerNorm((768,), eps=1e-05, elementwise_affine=True)\n",
       "          )\n",
       "          (feed_forward_layer): NormalizedResidualBlock(\n",
       "            (layer): FeedForwardNetwork(\n",
       "              (activation_fn): GELU(approximate=none)\n",
       "              (activation_dropout_module): Dropout(p=0.0, inplace=False)\n",
       "              (fc1): Linear(in_features=768, out_features=3072, bias=True)\n",
       "              (fc2): Linear(in_features=3072, out_features=768, bias=True)\n",
       "            )\n",
       "            (dropout_module): Dropout(p=0.1, inplace=False)\n",
       "            (layer_norm): LayerNorm((768,), eps=1e-05, elementwise_affine=True)\n",
       "          )\n",
       "        )\n",
       "        (2): AxialTransformerLayer(\n",
       "          (row_self_attention): NormalizedResidualBlock(\n",
       "            (layer): RowSelfAttention(\n",
       "              (k_proj): Linear(in_features=768, out_features=768, bias=True)\n",
       "              (v_proj): Linear(in_features=768, out_features=768, bias=True)\n",
       "              (q_proj): Linear(in_features=768, out_features=768, bias=True)\n",
       "              (out_proj): Linear(in_features=768, out_features=768, bias=True)\n",
       "              (dropout_module): Dropout(p=0.1, inplace=False)\n",
       "            )\n",
       "            (dropout_module): Dropout(p=0.1, inplace=False)\n",
       "            (layer_norm): LayerNorm((768,), eps=1e-05, elementwise_affine=True)\n",
       "          )\n",
       "          (column_self_attention): NormalizedResidualBlock(\n",
       "            (layer): ColumnSelfAttention(\n",
       "              (k_proj): Linear(in_features=768, out_features=768, bias=True)\n",
       "              (v_proj): Linear(in_features=768, out_features=768, bias=True)\n",
       "              (q_proj): Linear(in_features=768, out_features=768, bias=True)\n",
       "              (out_proj): Linear(in_features=768, out_features=768, bias=True)\n",
       "              (dropout_module): Dropout(p=0.1, inplace=False)\n",
       "            )\n",
       "            (dropout_module): Dropout(p=0.1, inplace=False)\n",
       "            (layer_norm): LayerNorm((768,), eps=1e-05, elementwise_affine=True)\n",
       "          )\n",
       "          (feed_forward_layer): NormalizedResidualBlock(\n",
       "            (layer): FeedForwardNetwork(\n",
       "              (activation_fn): GELU(approximate=none)\n",
       "              (activation_dropout_module): Dropout(p=0.0, inplace=False)\n",
       "              (fc1): Linear(in_features=768, out_features=3072, bias=True)\n",
       "              (fc2): Linear(in_features=3072, out_features=768, bias=True)\n",
       "            )\n",
       "            (dropout_module): Dropout(p=0.1, inplace=False)\n",
       "            (layer_norm): LayerNorm((768,), eps=1e-05, elementwise_affine=True)\n",
       "          )\n",
       "        )\n",
       "        (3): AxialTransformerLayer(\n",
       "          (row_self_attention): NormalizedResidualBlock(\n",
       "            (layer): RowSelfAttention(\n",
       "              (k_proj): Linear(in_features=768, out_features=768, bias=True)\n",
       "              (v_proj): Linear(in_features=768, out_features=768, bias=True)\n",
       "              (q_proj): Linear(in_features=768, out_features=768, bias=True)\n",
       "              (out_proj): Linear(in_features=768, out_features=768, bias=True)\n",
       "              (dropout_module): Dropout(p=0.1, inplace=False)\n",
       "            )\n",
       "            (dropout_module): Dropout(p=0.1, inplace=False)\n",
       "            (layer_norm): LayerNorm((768,), eps=1e-05, elementwise_affine=True)\n",
       "          )\n",
       "          (column_self_attention): NormalizedResidualBlock(\n",
       "            (layer): ColumnSelfAttention(\n",
       "              (k_proj): Linear(in_features=768, out_features=768, bias=True)\n",
       "              (v_proj): Linear(in_features=768, out_features=768, bias=True)\n",
       "              (q_proj): Linear(in_features=768, out_features=768, bias=True)\n",
       "              (out_proj): Linear(in_features=768, out_features=768, bias=True)\n",
       "              (dropout_module): Dropout(p=0.1, inplace=False)\n",
       "            )\n",
       "            (dropout_module): Dropout(p=0.1, inplace=False)\n",
       "            (layer_norm): LayerNorm((768,), eps=1e-05, elementwise_affine=True)\n",
       "          )\n",
       "          (feed_forward_layer): NormalizedResidualBlock(\n",
       "            (layer): FeedForwardNetwork(\n",
       "              (activation_fn): GELU(approximate=none)\n",
       "              (activation_dropout_module): Dropout(p=0.0, inplace=False)\n",
       "              (fc1): Linear(in_features=768, out_features=3072, bias=True)\n",
       "              (fc2): Linear(in_features=3072, out_features=768, bias=True)\n",
       "            )\n",
       "            (dropout_module): Dropout(p=0.1, inplace=False)\n",
       "            (layer_norm): LayerNorm((768,), eps=1e-05, elementwise_affine=True)\n",
       "          )\n",
       "        )\n",
       "        (4): AxialTransformerLayer(\n",
       "          (row_self_attention): NormalizedResidualBlock(\n",
       "            (layer): RowSelfAttention(\n",
       "              (k_proj): Linear(in_features=768, out_features=768, bias=True)\n",
       "              (v_proj): Linear(in_features=768, out_features=768, bias=True)\n",
       "              (q_proj): Linear(in_features=768, out_features=768, bias=True)\n",
       "              (out_proj): Linear(in_features=768, out_features=768, bias=True)\n",
       "              (dropout_module): Dropout(p=0.1, inplace=False)\n",
       "            )\n",
       "            (dropout_module): Dropout(p=0.1, inplace=False)\n",
       "            (layer_norm): LayerNorm((768,), eps=1e-05, elementwise_affine=True)\n",
       "          )\n",
       "          (column_self_attention): NormalizedResidualBlock(\n",
       "            (layer): ColumnSelfAttention(\n",
       "              (k_proj): Linear(in_features=768, out_features=768, bias=True)\n",
       "              (v_proj): Linear(in_features=768, out_features=768, bias=True)\n",
       "              (q_proj): Linear(in_features=768, out_features=768, bias=True)\n",
       "              (out_proj): Linear(in_features=768, out_features=768, bias=True)\n",
       "              (dropout_module): Dropout(p=0.1, inplace=False)\n",
       "            )\n",
       "            (dropout_module): Dropout(p=0.1, inplace=False)\n",
       "            (layer_norm): LayerNorm((768,), eps=1e-05, elementwise_affine=True)\n",
       "          )\n",
       "          (feed_forward_layer): NormalizedResidualBlock(\n",
       "            (layer): FeedForwardNetwork(\n",
       "              (activation_fn): GELU(approximate=none)\n",
       "              (activation_dropout_module): Dropout(p=0.0, inplace=False)\n",
       "              (fc1): Linear(in_features=768, out_features=3072, bias=True)\n",
       "              (fc2): Linear(in_features=3072, out_features=768, bias=True)\n",
       "            )\n",
       "            (dropout_module): Dropout(p=0.1, inplace=False)\n",
       "            (layer_norm): LayerNorm((768,), eps=1e-05, elementwise_affine=True)\n",
       "          )\n",
       "        )\n",
       "        (5): AxialTransformerLayer(\n",
       "          (row_self_attention): NormalizedResidualBlock(\n",
       "            (layer): RowSelfAttention(\n",
       "              (k_proj): Linear(in_features=768, out_features=768, bias=True)\n",
       "              (v_proj): Linear(in_features=768, out_features=768, bias=True)\n",
       "              (q_proj): Linear(in_features=768, out_features=768, bias=True)\n",
       "              (out_proj): Linear(in_features=768, out_features=768, bias=True)\n",
       "              (dropout_module): Dropout(p=0.1, inplace=False)\n",
       "            )\n",
       "            (dropout_module): Dropout(p=0.1, inplace=False)\n",
       "            (layer_norm): LayerNorm((768,), eps=1e-05, elementwise_affine=True)\n",
       "          )\n",
       "          (column_self_attention): NormalizedResidualBlock(\n",
       "            (layer): ColumnSelfAttention(\n",
       "              (k_proj): Linear(in_features=768, out_features=768, bias=True)\n",
       "              (v_proj): Linear(in_features=768, out_features=768, bias=True)\n",
       "              (q_proj): Linear(in_features=768, out_features=768, bias=True)\n",
       "              (out_proj): Linear(in_features=768, out_features=768, bias=True)\n",
       "              (dropout_module): Dropout(p=0.1, inplace=False)\n",
       "            )\n",
       "            (dropout_module): Dropout(p=0.1, inplace=False)\n",
       "            (layer_norm): LayerNorm((768,), eps=1e-05, elementwise_affine=True)\n",
       "          )\n",
       "          (feed_forward_layer): NormalizedResidualBlock(\n",
       "            (layer): FeedForwardNetwork(\n",
       "              (activation_fn): GELU(approximate=none)\n",
       "              (activation_dropout_module): Dropout(p=0.0, inplace=False)\n",
       "              (fc1): Linear(in_features=768, out_features=3072, bias=True)\n",
       "              (fc2): Linear(in_features=3072, out_features=768, bias=True)\n",
       "            )\n",
       "            (dropout_module): Dropout(p=0.1, inplace=False)\n",
       "            (layer_norm): LayerNorm((768,), eps=1e-05, elementwise_affine=True)\n",
       "          )\n",
       "        )\n",
       "        (6): AxialTransformerLayer(\n",
       "          (row_self_attention): NormalizedResidualBlock(\n",
       "            (layer): RowSelfAttention(\n",
       "              (k_proj): Linear(in_features=768, out_features=768, bias=True)\n",
       "              (v_proj): Linear(in_features=768, out_features=768, bias=True)\n",
       "              (q_proj): Linear(in_features=768, out_features=768, bias=True)\n",
       "              (out_proj): Linear(in_features=768, out_features=768, bias=True)\n",
       "              (dropout_module): Dropout(p=0.1, inplace=False)\n",
       "            )\n",
       "            (dropout_module): Dropout(p=0.1, inplace=False)\n",
       "            (layer_norm): LayerNorm((768,), eps=1e-05, elementwise_affine=True)\n",
       "          )\n",
       "          (column_self_attention): NormalizedResidualBlock(\n",
       "            (layer): ColumnSelfAttention(\n",
       "              (k_proj): Linear(in_features=768, out_features=768, bias=True)\n",
       "              (v_proj): Linear(in_features=768, out_features=768, bias=True)\n",
       "              (q_proj): Linear(in_features=768, out_features=768, bias=True)\n",
       "              (out_proj): Linear(in_features=768, out_features=768, bias=True)\n",
       "              (dropout_module): Dropout(p=0.1, inplace=False)\n",
       "            )\n",
       "            (dropout_module): Dropout(p=0.1, inplace=False)\n",
       "            (layer_norm): LayerNorm((768,), eps=1e-05, elementwise_affine=True)\n",
       "          )\n",
       "          (feed_forward_layer): NormalizedResidualBlock(\n",
       "            (layer): FeedForwardNetwork(\n",
       "              (activation_fn): GELU(approximate=none)\n",
       "              (activation_dropout_module): Dropout(p=0.0, inplace=False)\n",
       "              (fc1): Linear(in_features=768, out_features=3072, bias=True)\n",
       "              (fc2): Linear(in_features=3072, out_features=768, bias=True)\n",
       "            )\n",
       "            (dropout_module): Dropout(p=0.1, inplace=False)\n",
       "            (layer_norm): LayerNorm((768,), eps=1e-05, elementwise_affine=True)\n",
       "          )\n",
       "        )\n",
       "        (7): AxialTransformerLayer(\n",
       "          (row_self_attention): NormalizedResidualBlock(\n",
       "            (layer): RowSelfAttention(\n",
       "              (k_proj): Linear(in_features=768, out_features=768, bias=True)\n",
       "              (v_proj): Linear(in_features=768, out_features=768, bias=True)\n",
       "              (q_proj): Linear(in_features=768, out_features=768, bias=True)\n",
       "              (out_proj): Linear(in_features=768, out_features=768, bias=True)\n",
       "              (dropout_module): Dropout(p=0.1, inplace=False)\n",
       "            )\n",
       "            (dropout_module): Dropout(p=0.1, inplace=False)\n",
       "            (layer_norm): LayerNorm((768,), eps=1e-05, elementwise_affine=True)\n",
       "          )\n",
       "          (column_self_attention): NormalizedResidualBlock(\n",
       "            (layer): ColumnSelfAttention(\n",
       "              (k_proj): Linear(in_features=768, out_features=768, bias=True)\n",
       "              (v_proj): Linear(in_features=768, out_features=768, bias=True)\n",
       "              (q_proj): Linear(in_features=768, out_features=768, bias=True)\n",
       "              (out_proj): Linear(in_features=768, out_features=768, bias=True)\n",
       "              (dropout_module): Dropout(p=0.1, inplace=False)\n",
       "            )\n",
       "            (dropout_module): Dropout(p=0.1, inplace=False)\n",
       "            (layer_norm): LayerNorm((768,), eps=1e-05, elementwise_affine=True)\n",
       "          )\n",
       "          (feed_forward_layer): NormalizedResidualBlock(\n",
       "            (layer): FeedForwardNetwork(\n",
       "              (activation_fn): GELU(approximate=none)\n",
       "              (activation_dropout_module): Dropout(p=0.0, inplace=False)\n",
       "              (fc1): Linear(in_features=768, out_features=3072, bias=True)\n",
       "              (fc2): Linear(in_features=3072, out_features=768, bias=True)\n",
       "            )\n",
       "            (dropout_module): Dropout(p=0.1, inplace=False)\n",
       "            (layer_norm): LayerNorm((768,), eps=1e-05, elementwise_affine=True)\n",
       "          )\n",
       "        )\n",
       "        (8): AxialTransformerLayer(\n",
       "          (row_self_attention): NormalizedResidualBlock(\n",
       "            (layer): RowSelfAttention(\n",
       "              (k_proj): Linear(in_features=768, out_features=768, bias=True)\n",
       "              (v_proj): Linear(in_features=768, out_features=768, bias=True)\n",
       "              (q_proj): Linear(in_features=768, out_features=768, bias=True)\n",
       "              (out_proj): Linear(in_features=768, out_features=768, bias=True)\n",
       "              (dropout_module): Dropout(p=0.1, inplace=False)\n",
       "            )\n",
       "            (dropout_module): Dropout(p=0.1, inplace=False)\n",
       "            (layer_norm): LayerNorm((768,), eps=1e-05, elementwise_affine=True)\n",
       "          )\n",
       "          (column_self_attention): NormalizedResidualBlock(\n",
       "            (layer): ColumnSelfAttention(\n",
       "              (k_proj): Linear(in_features=768, out_features=768, bias=True)\n",
       "              (v_proj): Linear(in_features=768, out_features=768, bias=True)\n",
       "              (q_proj): Linear(in_features=768, out_features=768, bias=True)\n",
       "              (out_proj): Linear(in_features=768, out_features=768, bias=True)\n",
       "              (dropout_module): Dropout(p=0.1, inplace=False)\n",
       "            )\n",
       "            (dropout_module): Dropout(p=0.1, inplace=False)\n",
       "            (layer_norm): LayerNorm((768,), eps=1e-05, elementwise_affine=True)\n",
       "          )\n",
       "          (feed_forward_layer): NormalizedResidualBlock(\n",
       "            (layer): FeedForwardNetwork(\n",
       "              (activation_fn): GELU(approximate=none)\n",
       "              (activation_dropout_module): Dropout(p=0.0, inplace=False)\n",
       "              (fc1): Linear(in_features=768, out_features=3072, bias=True)\n",
       "              (fc2): Linear(in_features=3072, out_features=768, bias=True)\n",
       "            )\n",
       "            (dropout_module): Dropout(p=0.1, inplace=False)\n",
       "            (layer_norm): LayerNorm((768,), eps=1e-05, elementwise_affine=True)\n",
       "          )\n",
       "        )\n",
       "        (9): AxialTransformerLayer(\n",
       "          (row_self_attention): NormalizedResidualBlock(\n",
       "            (layer): RowSelfAttention(\n",
       "              (k_proj): Linear(in_features=768, out_features=768, bias=True)\n",
       "              (v_proj): Linear(in_features=768, out_features=768, bias=True)\n",
       "              (q_proj): Linear(in_features=768, out_features=768, bias=True)\n",
       "              (out_proj): Linear(in_features=768, out_features=768, bias=True)\n",
       "              (dropout_module): Dropout(p=0.1, inplace=False)\n",
       "            )\n",
       "            (dropout_module): Dropout(p=0.1, inplace=False)\n",
       "            (layer_norm): LayerNorm((768,), eps=1e-05, elementwise_affine=True)\n",
       "          )\n",
       "          (column_self_attention): NormalizedResidualBlock(\n",
       "            (layer): ColumnSelfAttention(\n",
       "              (k_proj): Linear(in_features=768, out_features=768, bias=True)\n",
       "              (v_proj): Linear(in_features=768, out_features=768, bias=True)\n",
       "              (q_proj): Linear(in_features=768, out_features=768, bias=True)\n",
       "              (out_proj): Linear(in_features=768, out_features=768, bias=True)\n",
       "              (dropout_module): Dropout(p=0.1, inplace=False)\n",
       "            )\n",
       "            (dropout_module): Dropout(p=0.1, inplace=False)\n",
       "            (layer_norm): LayerNorm((768,), eps=1e-05, elementwise_affine=True)\n",
       "          )\n",
       "          (feed_forward_layer): NormalizedResidualBlock(\n",
       "            (layer): FeedForwardNetwork(\n",
       "              (activation_fn): GELU(approximate=none)\n",
       "              (activation_dropout_module): Dropout(p=0.0, inplace=False)\n",
       "              (fc1): Linear(in_features=768, out_features=3072, bias=True)\n",
       "              (fc2): Linear(in_features=3072, out_features=768, bias=True)\n",
       "            )\n",
       "            (dropout_module): Dropout(p=0.1, inplace=False)\n",
       "            (layer_norm): LayerNorm((768,), eps=1e-05, elementwise_affine=True)\n",
       "          )\n",
       "        )\n",
       "        (10): AxialTransformerLayer(\n",
       "          (row_self_attention): NormalizedResidualBlock(\n",
       "            (layer): RowSelfAttention(\n",
       "              (k_proj): Linear(in_features=768, out_features=768, bias=True)\n",
       "              (v_proj): Linear(in_features=768, out_features=768, bias=True)\n",
       "              (q_proj): Linear(in_features=768, out_features=768, bias=True)\n",
       "              (out_proj): Linear(in_features=768, out_features=768, bias=True)\n",
       "              (dropout_module): Dropout(p=0.1, inplace=False)\n",
       "            )\n",
       "            (dropout_module): Dropout(p=0.1, inplace=False)\n",
       "            (layer_norm): LayerNorm((768,), eps=1e-05, elementwise_affine=True)\n",
       "          )\n",
       "          (column_self_attention): NormalizedResidualBlock(\n",
       "            (layer): ColumnSelfAttention(\n",
       "              (k_proj): Linear(in_features=768, out_features=768, bias=True)\n",
       "              (v_proj): Linear(in_features=768, out_features=768, bias=True)\n",
       "              (q_proj): Linear(in_features=768, out_features=768, bias=True)\n",
       "              (out_proj): Linear(in_features=768, out_features=768, bias=True)\n",
       "              (dropout_module): Dropout(p=0.1, inplace=False)\n",
       "            )\n",
       "            (dropout_module): Dropout(p=0.1, inplace=False)\n",
       "            (layer_norm): LayerNorm((768,), eps=1e-05, elementwise_affine=True)\n",
       "          )\n",
       "          (feed_forward_layer): NormalizedResidualBlock(\n",
       "            (layer): FeedForwardNetwork(\n",
       "              (activation_fn): GELU(approximate=none)\n",
       "              (activation_dropout_module): Dropout(p=0.0, inplace=False)\n",
       "              (fc1): Linear(in_features=768, out_features=3072, bias=True)\n",
       "              (fc2): Linear(in_features=3072, out_features=768, bias=True)\n",
       "            )\n",
       "            (dropout_module): Dropout(p=0.1, inplace=False)\n",
       "            (layer_norm): LayerNorm((768,), eps=1e-05, elementwise_affine=True)\n",
       "          )\n",
       "        )\n",
       "        (11): AxialTransformerLayer(\n",
       "          (row_self_attention): NormalizedResidualBlock(\n",
       "            (layer): RowSelfAttention(\n",
       "              (k_proj): Linear(in_features=768, out_features=768, bias=True)\n",
       "              (v_proj): Linear(in_features=768, out_features=768, bias=True)\n",
       "              (q_proj): Linear(in_features=768, out_features=768, bias=True)\n",
       "              (out_proj): Linear(in_features=768, out_features=768, bias=True)\n",
       "              (dropout_module): Dropout(p=0.1, inplace=False)\n",
       "            )\n",
       "            (dropout_module): Dropout(p=0.1, inplace=False)\n",
       "            (layer_norm): LayerNorm((768,), eps=1e-05, elementwise_affine=True)\n",
       "          )\n",
       "          (column_self_attention): NormalizedResidualBlock(\n",
       "            (layer): ColumnSelfAttention(\n",
       "              (k_proj): Linear(in_features=768, out_features=768, bias=True)\n",
       "              (v_proj): Linear(in_features=768, out_features=768, bias=True)\n",
       "              (q_proj): Linear(in_features=768, out_features=768, bias=True)\n",
       "              (out_proj): Linear(in_features=768, out_features=768, bias=True)\n",
       "              (dropout_module): Dropout(p=0.1, inplace=False)\n",
       "            )\n",
       "            (dropout_module): Dropout(p=0.1, inplace=False)\n",
       "            (layer_norm): LayerNorm((768,), eps=1e-05, elementwise_affine=True)\n",
       "          )\n",
       "          (feed_forward_layer): NormalizedResidualBlock(\n",
       "            (layer): FeedForwardNetwork(\n",
       "              (activation_fn): GELU(approximate=none)\n",
       "              (activation_dropout_module): Dropout(p=0.0, inplace=False)\n",
       "              (fc1): Linear(in_features=768, out_features=3072, bias=True)\n",
       "              (fc2): Linear(in_features=3072, out_features=768, bias=True)\n",
       "            )\n",
       "            (dropout_module): Dropout(p=0.1, inplace=False)\n",
       "            (layer_norm): LayerNorm((768,), eps=1e-05, elementwise_affine=True)\n",
       "          )\n",
       "        )\n",
       "      )\n",
       "      (contact_head): ContactPredictionHead(\n",
       "        (regression): Linear(in_features=144, out_features=1, bias=True)\n",
       "        (activation): Sigmoid()\n",
       "      )\n",
       "      (embed_positions): LearnedPositionalEmbedding(1026, 768, padding_idx=1)\n",
       "      (emb_layer_norm_before): LayerNorm((768,), eps=1e-05, elementwise_affine=True)\n",
       "      (emb_layer_norm_after): LayerNorm((768,), eps=1e-05, elementwise_affine=True)\n",
       "      (lm_head): RobertaLMHead(\n",
       "        (dense): Linear(in_features=768, out_features=768, bias=True)\n",
       "        (layer_norm): LayerNorm((768,), eps=1e-05, elementwise_affine=True)\n",
       "      )\n",
       "    )\n",
       "    (fc1): Linear(in_features=768, out_features=128, bias=True)\n",
       "    (fc2): Linear(in_features=128, out_features=32, bias=True)\n",
       "    (fc3): Linear(in_features=32, out_features=1, bias=True)\n",
       "  )\n",
       ")"
      ]
     },
     "execution_count": 6,
     "metadata": {},
     "output_type": "execute_result"
    }
   ],
   "source": [
    "model = MSAPredictor().cuda()\n",
    "batch_converter = model.batch_converter\n",
    "\n",
    "NUM_GPU = torch.cuda.device_count()\n",
    "USE_PARALLEL = NUM_GPU > 1\n",
    "if USE_PARALLEL :\n",
    "    model = torch.nn.DataParallel(model)\n",
    "\n",
    "model"
   ]
  },
  {
   "cell_type": "code",
   "execution_count": null,
   "metadata": {},
   "outputs": [],
   "source": [
    "batch_collate_fn = lambda batch: {'msa': batch_converter([msa['msa'] for msa in batch])[2], 'score': torch.Tensor([[msa['score'] / 100.0] for msa in batch])}\n",
    "\n",
    "BATCH_SIZE = 32\n",
    "train_loader = DataLoader(train_dataset, batch_size = BATCH_SIZE, collate_fn = batch_collate_fn, num_workers = NUM_GPU * 4, pin_memory = True, shuffle = True)\n",
    "test_loader = DataLoader(test_dataset, batch_size = 2, collate_fn = batch_collate_fn, shuffle = False)"
   ]
  },
  {
   "cell_type": "code",
   "execution_count": null,
   "metadata": {},
   "outputs": [
    {
     "name": "stdout",
     "output_type": "stream",
     "text": [
      "{'msa': tensor([[[ 0,  7,  8,  ...,  1,  1,  1],\n",
      "         [ 0, 20,  8,  ...,  1,  1,  1],\n",
      "         [ 0,  7,  8,  ...,  1,  1,  1],\n",
      "         ...,\n",
      "         [ 1,  1,  1,  ...,  1,  1,  1],\n",
      "         [ 1,  1,  1,  ...,  1,  1,  1],\n",
      "         [ 1,  1,  1,  ...,  1,  1,  1]],\n",
      "\n",
      "        [[ 0, 20, 18,  ...,  1,  1,  1],\n",
      "         [ 0, 20, 12,  ...,  1,  1,  1],\n",
      "         [ 0, 20, 20,  ...,  1,  1,  1],\n",
      "         ...,\n",
      "         [ 0, 30, 30,  ...,  1,  1,  1],\n",
      "         [ 0, 30, 30,  ...,  1,  1,  1],\n",
      "         [ 0, 30, 30,  ...,  1,  1,  1]],\n",
      "\n",
      "        [[ 0, 10, 16,  ...,  1,  1,  1],\n",
      "         [ 0, 10, 16,  ...,  1,  1,  1],\n",
      "         [ 0, 10, 16,  ...,  1,  1,  1],\n",
      "         ...,\n",
      "         [ 1,  1,  1,  ...,  1,  1,  1],\n",
      "         [ 1,  1,  1,  ...,  1,  1,  1],\n",
      "         [ 1,  1,  1,  ...,  1,  1,  1]],\n",
      "\n",
      "        ...,\n",
      "\n",
      "        [[ 0, 20, 12,  ...,  1,  1,  1],\n",
      "         [ 0,  4, 16,  ...,  1,  1,  1],\n",
      "         [ 0, 30, 30,  ...,  1,  1,  1],\n",
      "         ...,\n",
      "         [ 1,  1,  1,  ...,  1,  1,  1],\n",
      "         [ 1,  1,  1,  ...,  1,  1,  1],\n",
      "         [ 1,  1,  1,  ...,  1,  1,  1]],\n",
      "\n",
      "        [[ 0, 17, 15,  ...,  1,  1,  1],\n",
      "         [ 0, 30, 30,  ...,  1,  1,  1],\n",
      "         [ 0, 30, 30,  ...,  1,  1,  1],\n",
      "         ...,\n",
      "         [ 1,  1,  1,  ...,  1,  1,  1],\n",
      "         [ 1,  1,  1,  ...,  1,  1,  1],\n",
      "         [ 1,  1,  1,  ...,  1,  1,  1]],\n",
      "\n",
      "        [[ 0, 13, 18,  ...,  1,  1,  1],\n",
      "         [ 0, 30, 30,  ...,  1,  1,  1],\n",
      "         [ 0, 18,  7,  ...,  1,  1,  1],\n",
      "         ...,\n",
      "         [ 0, 30, 30,  ...,  1,  1,  1],\n",
      "         [ 0, 30, 30,  ...,  1,  1,  1],\n",
      "         [ 0, 30, 30,  ...,  1,  1,  1]]]), 'score': tensor([[0.2193],\n",
      "        [0.6979],\n",
      "        [0.2355],\n",
      "        [0.3956],\n",
      "        [0.2807],\n",
      "        [0.2172],\n",
      "        [0.7204],\n",
      "        [0.7725],\n",
      "        [0.6446],\n",
      "        [0.2015],\n",
      "        [0.1405],\n",
      "        [0.8180],\n",
      "        [0.1700],\n",
      "        [0.8183],\n",
      "        [0.8073],\n",
      "        [0.7376],\n",
      "        [0.8015],\n",
      "        [0.4400],\n",
      "        [0.4445],\n",
      "        [0.6879],\n",
      "        [0.5167],\n",
      "        [0.2231],\n",
      "        [0.7869],\n",
      "        [0.7125],\n",
      "        [0.7777],\n",
      "        [0.3155],\n",
      "        [0.3546],\n",
      "        [0.4927],\n",
      "        [0.3468],\n",
      "        [0.4460],\n",
      "        [0.7129],\n",
      "        [0.5029]])}\n"
     ]
    }
   ],
   "source": [
    "dataiter = iter(train_loader)\n",
    "print(next(dataiter))"
   ]
  },
  {
   "cell_type": "markdown",
   "metadata": {},
   "source": [
    "### Implement Train"
   ]
  },
  {
   "cell_type": "code",
   "execution_count": null,
   "metadata": {},
   "outputs": [
    {
     "name": "stdout",
     "output_type": "stream",
     "text": [
      "The mean_120 model loaded has been trained for 3 epoche(s), with 0.019078227395850016 training loss, 0.01769655714007585 validation MSE and 0.9473684210526315 test accuracy. \n"
     ]
    }
   ],
   "source": [
    "loss_fn = nn.MSELoss()\n",
    "optimizer = torch.optim.Adam(model.parameters(), lr = LEARNING_RATE)\n",
    "\n",
    "model_name = \"mean_256\"\n",
    "checkpoint_epoch = 11\n",
    "if checkpoint_epoch > 0 :\n",
    "    checkpoint = torch.load(MODEL_PATH / f\"model_{model_name}_epoch{checkpoint_epoch}.pth\")\n",
    "    (model.module if USE_PARALLEL else model).load_state_dict(checkpoint['model_state_dict'])\n",
    "    optimizer.load_state_dict(checkpoint['optimizer_state_dict'])\n",
    "    epoch = checkpoint['epoch']\n",
    "    print(f\"The {model_name} model loaded has been trained for {epoch} epoche(s), with {checkpoint['train_mse']} training loss, {checkpoint['valid_mse']} validation MSE and {checkpoint['test_acc']} test accuracy. \")\n",
    "else :\n",
    "    print(f\"Start training {model_name} model from the 1st epoch.\")"
   ]
  },
  {
   "cell_type": "code",
   "execution_count": null,
   "metadata": {},
   "outputs": [],
   "source": [
    "def calc_test_metric(model):\n",
    "    model.eval()\n",
    "    mse, correct, tot = 0.0, 0, 0\n",
    "    with torch.no_grad():\n",
    "        with tqdm(total = len(test_loader), ncols=80) as bar:\n",
    "            for sample in test_loader :\n",
    "                x, y = sample[\"msa\"].cuda(non_blocking = True), sample[\"score\"].cuda()\n",
    "                pred = model(x)\n",
    "\n",
    "                mse += torch.sum((y - pred) ** 2).item() \n",
    "                correct += torch.sum(torch.argmax(y) == torch.argmax(pred)).item()\n",
    "                tot += 2\n",
    "\n",
    "                bar.set_postfix({\n",
    "                    \"acc\" : f\"{correct / (tot // 2):.4f}\",\n",
    "                    \"mse\": f\"{mse / tot:.4f}\"\n",
    "                })\n",
    "                bar.update(1)\n",
    "    \n",
    "    return {'accuracy' : correct / (tot // 2), 'mse' : mse / tot}"
   ]
  },
  {
   "cell_type": "code",
   "execution_count": null,
   "metadata": {},
   "outputs": [
    {
     "name": "stderr",
     "output_type": "stream",
     "text": [
      "[epoch#1/50][2656/2660]: 100%|██████████████████████████████████| 84/84 [50:34<00:00, 36.12s/it, batch loss=0.03845, loss=0.03263]\n",
      "100%|███████████████████| 95/95 [06:17<00:00,  3.98s/it, acc=0.9579, mse=0.0293]\n",
      "[epoch#2/50][2656/2660]: 100%|██████████████████████████████████| 84/84 [49:54<00:00, 35.65s/it, batch loss=0.01705, loss=0.02258]\n",
      "100%|███████████████████| 95/95 [06:17<00:00,  3.97s/it, acc=0.9474, mse=0.0203]\n",
      "[epoch#3/50][1184/2660]:  44%|██████████████▉                   | 37/84 [22:26<28:21, 36.21s/it, batch loss=0.01386, loss=0.01908]"
     ]
    }
   ],
   "source": [
    "for epoch in range(checkpoint_epoch + 1, EPOCHES + 1):\n",
    "    losses, tot = 0, 0\n",
    "    \n",
    "    model.train()\n",
    "    with tqdm(total= len(train_loader), ncols=130) as bar:\n",
    "        for batch, sample in enumerate(train_loader) :\n",
    "            bar.set_description(f\"[epoch#{epoch}/{EPOCHES}][{batch * BATCH_SIZE}/{len(train_dataset)}]\")\n",
    "\n",
    "            x, y = sample[\"msa\"].cuda(non_blocking = True), sample[\"score\"].cuda()\n",
    "            pred = model(x)\n",
    "            loss = loss_fn(pred, y)\n",
    "\n",
    "            # Backpropagation\n",
    "            optimizer.zero_grad()     \n",
    "            loss.backward()\n",
    "            optimizer.step()\n",
    "            \n",
    "            losses += loss.item() * x.size(0)\n",
    "            tot += x.size(0)\n",
    "            bar.set_postfix({\n",
    "                \"batch loss\" : f\"{loss.item():.5f}\",\n",
    "                \"loss\": f\"{losses / tot:.5f}\"\n",
    "            })\n",
    "            bar.update(1)\n",
    "\n",
    "    test_metric =  calc_test_metric(model)\n",
    "    train_mse, test_acc, valid_mse =  losses / tot, test_metric['accuracy'], test_metric['mse']\n",
    "    torch.save({\n",
    "        'epoch': epoch,\n",
    "        'model_state_dict': (model.module if USE_PARALLEL else model).state_dict(),\n",
    "        'optimizer_state_dict': optimizer.state_dict(),\n",
    "        'train_mse': train_mse,\n",
    "        'valid_mse': valid_mse,\n",
    "        'test_acc': test_acc\n",
    "    }, MODEL_PATH / f\"model_{model_name}_epoch{epoch}.pth\")"
   ]
  },
  {
   "cell_type": "code",
   "execution_count": null,
   "metadata": {},
   "outputs": [
    {
     "name": "stdout",
     "output_type": "stream",
     "text": [
      "T1026-D1_rand13_fm of 202 sequences is scored 16.78.\n",
      "T1026-D1_rosetta_fm of 19 sequences is scored 93.325.\n",
      "------------\n",
      "T1030-D2_base_fm of 27 sequences is scored 91.177.\n",
      "T1030-D2_original_fm of 256 sequences is scored 60.085.\n",
      "------------\n",
      "T1033-D1_base_fm of 11 sequences is scored 85.25.\n",
      "T1033-D1_rand13_fm of 209 sequences is scored 36.0.\n",
      "------------\n",
      "T1036s1-D1_our_fm of 256 sequences is scored 36.192.\n",
      "T1036s1-D1_rand19_fm of 200 sequences is scored 65.053.\n",
      "------------\n",
      "T1038-D1_base_fm of 110 sequences is scored 89.475.\n",
      "T1038-D1_rand6_fm of 207 sequences is scored 16.23.\n",
      "------------\n",
      "T1038-D2_base_fm of 70 sequences is scored 91.778.\n",
      "T1038-D2_rand13_fm of 200 sequences is scored 70.725.\n",
      "------------\n",
      "T1046s1-D1_rand13_fm of 204 sequences is scored 63.542.\n",
      "T1046s1-D1_rosetta_fm of 44 sequences is scored 97.915.\n",
      "------------\n",
      "T1046s2-D1_rand1_fm of 201 sequences is scored 21.633.\n",
      "T1046s2-D1_rosetta_fm of 52 sequences is scored 98.935.\n",
      "------------\n",
      "T1047s2-D2_rand16_fm of 204 sequences is scored 75.3.\n",
      "T1047s2-D2_rand5_fm of 202 sequences is scored 93.978.\n",
      "------------\n",
      "T1053-D1_base_fm of 256 sequences is scored 95.418.\n",
      "T1053-D1_our_fm of 256 sequences is scored 72.635.\n",
      "------------\n",
      "T1053-D2_rand13_fm of 205 sequences is scored 74.707.\n",
      "T1053-D2_rosetta_fm of 62 sequences is scored 84.065.\n",
      "------------\n",
      "T1061-D1_cov50_fm of 256 sequences is scored 77.37.\n",
      "T1061-D1_original_fm of 256 sequences is scored 55.172.\n",
      "------------\n",
      "T1062-D1_rand13_fm of 201 sequences is scored 81.43.\n",
      "T1062-D1_rosetta_fm of 18 sequences is scored 88.57.\n",
      "------------\n",
      "T1064-D1_base_fm of 48 sequences is scored 66.302.\n",
      "T1064-D1_rand5_fm of 200 sequences is scored 20.38.\n",
      "------------\n",
      "T1068-D1_our_fm of 256 sequences is scored 86.733.\n",
      "T1068-D1_rosetta_fm of 32 sequences is scored 97.207.\n",
      "------------\n",
      "T1070-D3_rand13_fm of 209 sequences is scored 73.685.\n",
      "T1070-D3_rand16_fm of 208 sequences is scored 83.225.\n",
      "------------\n",
      "T1073-D1_rand12_fm of 200 sequences is scored 92.797.\n",
      "T1073-D1_rand13_fm of 203 sequences is scored 89.41.\n",
      "------------\n",
      "T1082-D1_aug_fm of 126 sequences is scored 40.0.\n",
      "T1082-D1_rosetta_fm of 11 sequences is scored 96.668.\n",
      "------------\n",
      "T1093-D3_base_fm of 44 sequences is scored 92.69.\n",
      "T1093-D3_rand13_fm of 201 sequences is scored 22.17.\n",
      "------------\n",
      "T1099-D1_cov50_fm of 256 sequences is scored 27.527.\n",
      "T1099-D1_rosetta_fm of 8 sequences is scored 80.058.\n",
      "------------\n",
      "T1101-D1_rand13_fm of 203 sequences is scored 97.892.\n",
      "T1101-D1_rand18_fm of 202 sequences is scored 99.398.\n",
      "------------\n",
      "0.7789473684210526\n"
     ]
    }
   ],
   "source": [
    "# Baseline: output the one with more sequences\n",
    "def calc_baseline_test_acc(test_dataset):\n",
    "    correct = 0\n",
    "    pairs = len(test_dataset) // 2\n",
    "    for i in range(pairs) :\n",
    "        msa1, msa2 = test_dataset[2*i], test_dataset[2*i+1]\n",
    "        pred = len(msa1['msa']) > len(msa2['msa'])\n",
    "        gt = msa1['score'] > msa2['score']\n",
    "        if pred == gt : \n",
    "            correct += 1\n",
    "        else :\n",
    "            print(f\"{msa1['name']} of {len(msa1['msa'])} sequences is scored {msa1['score']}.\")\n",
    "            print(f\"{msa2['name']} of {len(msa2['msa'])} sequences is scored {msa2['score']}.\")\n",
    "            print(\"------------\")\n",
    "    return correct / pairs"
   ]
  },
  {
   "cell_type": "code",
   "execution_count": null,
   "metadata": {},
   "outputs": [
    {
     "name": "stdout",
     "output_type": "stream",
     "text": [
      " 256x 155 y_gt:85.7150  y_pred:86.6433                                          \n",
      " 203x 155 y_gt:81.4950  y_pred:86.6760                                          \n",
      "-------                                                                         \n",
      "  27x 120 y_gt:91.1770  y_pred:64.8868                                          \n",
      " 256x 120 y_gt:60.0850  y_pred:68.9962                                          \n",
      "-------                                                                         \n",
      "  11x 101 y_gt:85.2500  y_pred:56.1897                                          \n",
      " 256x 101 y_gt:36.0000  y_pred:63.0460                                          \n",
      "-------                                                                         \n",
      " 27%|█████▏             | 26/95 [01:46<03:41,  3.21s/it, acc=0.8846, mse=0.0170]"
     ]
    }
   ],
   "source": [
    "def print_wrong_predictions(model):\n",
    "    model.eval()\n",
    "    mse, correct, tot = 0.0, 0, 0\n",
    "    with torch.no_grad():\n",
    "        with tqdm(total = len(test_loader), ncols=80, file=sys.stdout) as bar:\n",
    "            for sample in test_loader :\n",
    "                x, y = sample[\"msa\"].cuda(non_blocking = True), sample[\"score\"].cuda()\n",
    "                pred = model(x)\n",
    "\n",
    "                mse += torch.sum((y - pred) ** 2).item() \n",
    "                if torch.argmax(y) == torch.argmax(pred) :\n",
    "                    correct += 1\n",
    "                    for x, y_gt, y_pred in zip(x, y, pred) :\n",
    "                        tqdm.write(f\"{list(x[:, 0]).index(1) if 1 in x[:, 0] else 256:>4d}x{x.size(1):>4d} y_gt:{y_gt.item():.4f}  y_pred:{y_pred.item() * 120:.4f}\")\n",
    "                    tqdm.write(\"======\")\n",
    "                else :\n",
    "                    for x, y_gt, y_pred in zip(x, y, pred) :\n",
    "                        tqdm.write(f\"{list(x[:, 0]).index(1) if 1 in x[:, 0] else 256:>4d}x{x.size(1):>4d} y_gt:{y_gt.item():.4f}  y_pred:{y_pred.item() * 120:.4f}\")\n",
    "                    tqdm.write(\"-------\")\n",
    "                tot += 2\n",
    "\n",
    "                bar.set_postfix({\n",
    "                    \"acc\" : f\"{correct / (tot // 2):.4f}\",\n",
    "                    \"mse\": f\"{mse / tot:.4f}\"\n",
    "                })\n",
    "                bar.update(1)\n",
    "    \n",
    "    return {'accuracy' : correct / (tot // 2), 'mse' : mse / tot}\n",
    "\n",
    "#print_wrong_predictions(model)"
   ]
  },
  {
   "cell_type": "code",
   "execution_count": 6,
   "metadata": {},
   "outputs": [
    {
     "name": "stderr",
     "output_type": "stream",
     "text": [
      "100%|██████████| 30/30 [00:54<00:00,  1.81s/it]\n"
     ]
    },
    {
     "data": {
      "image/png": "[encoded data removed]",
      "text/plain": [
       "<Figure size 640x480 with 1 Axes>"
      ]
     },
     "metadata": {},
     "output_type": "display_data"
    }
   ],
   "source": [
    "def plot_training_history(model_name = \"mean_256\", trained_epoches = 10):\n",
    "    train_losses = []\n",
    "    test_losses = []\n",
    "    test_accs = []\n",
    "    for epoch in tqdm(range(1, trained_epoches+1)):\n",
    "        checkpoint = torch.load(MODEL_PATH / f\"model_{model_name}_epoch{epoch}.pth\")\n",
    "        train_losses.append(checkpoint[\"train_mse\"])\n",
    "        test_losses.append(checkpoint[\"valid_mse\"])\n",
    "        test_accs.append(checkpoint[\"test_acc\"] / 20)\n",
    "\n",
    "    plt.figure()\n",
    "    plt.plot(train_losses, \"r-o\", label = \"train loss\")\n",
    "    plt.plot(test_losses, \"b-o\", label = \"valid MSE\")\n",
    "    plt.plot(test_accs, \"g-o\", label = \"test accuracy\")\n",
    "\n",
    "    plt.grid()\n",
    "    plt.legend()\n",
    "    plt.show()\n",
    "\n",
    "#plot_training_history(\"mean_256\", 30)"
   ]
  }
 ],
 "metadata": {
  "kernelspec": {
   "display_name": "Python 3.9.12 ('base': conda)",
   "language": "python",
   "name": "python3"
  },
  "language_info": {
   "codemirror_mode": {
    "name": "ipython",
    "version": 3
   },
   "file_extension": ".py",
   "mimetype": "text/x-python",
   "name": "python",
   "nbconvert_exporter": "python",
   "pygments_lexer": "ipython3",
   "version": "3.9.12"
  },
  "orig_nbformat": 4,
  "vscode": {
   "interpreter": {
    "hash": "6e0b1f18ae03a7035bc033a9f9c7ae76394b92e608ff6812adcccfdadc13d2c8"
   }
  }
 },
 "nbformat": 4,
 "nbformat_minor": 2
}
